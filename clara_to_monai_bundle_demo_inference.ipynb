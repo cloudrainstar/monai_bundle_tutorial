{
 "cells": [
  {
   "cell_type": "markdown",
   "id": "967741a6",
   "metadata": {},
   "source": [
    "# Bundling a MONAI Inference Bundle\n",
    "It is simple to package your MONAI code into a MONAI Bundle. For this tutorial, we will convert a Clara 4.1 model from NGC\n",
    "- For imports, all we need is the json package"
   ]
  },
  {
   "cell_type": "code",
   "execution_count": 1,
   "id": "2b64a4a7",
   "metadata": {},
   "outputs": [],
   "source": [
    "import json"
   ]
  },
  {
   "cell_type": "markdown",
   "id": "708cbad0",
   "metadata": {},
   "source": [
    "- We'll need to create our bundle directory"
   ]
  },
  {
   "cell_type": "code",
   "execution_count": 2,
   "id": "42a7550b",
   "metadata": {},
   "outputs": [],
   "source": [
    "# Create app directory structure\n",
    "APP_ROOT = \"/workspace/monai-bundle-demo-covid19-classification\"\n",
    "!mkdir -p $APP_ROOT\n",
    "!mkdir -p $APP_ROOT/configs\n",
    "!mkdir -p $APP_ROOT/docs\n",
    "!mkdir -p $APP_ROOT/models"
   ]
  },
  {
   "cell_type": "markdown",
   "id": "97361968",
   "metadata": {},
   "source": [
    "- At the top of our json, we declare our imports for the bundle\n",
    "- Next we set a few variables\n",
    "- Anything that begins with an @ is a variable that is referenced elsewhere in the config file.\n",
    "- Anything that begins with a $ is evaluabted before being written into the code."
   ]
  },
  {
   "cell_type": "code",
   "execution_count": 3,
   "id": "61b9809e",
   "metadata": {},
   "outputs": [],
   "source": [
    "# Common elements\n",
    "bundle_config = {\n",
    "    \"imports\": [\"$import glob\", \"$import os\"],\n",
    "    \"device\": \"$torch.device('cuda:0' if torch.cuda.is_available() else 'cpu')\",\n",
    "    \"bundle_root\": APP_ROOT,\n",
    "    \"model_dir\": \"$@bundle_root + '/models'\",\n",
    "    \"output_dir\": \"$@bundle_root + '/out'\",\n",
    "    \"dataset_dir\": \"/workspace/datasets\",\n",
    "    \"images\": \"$list(sorted(glob.glob(@dataset_dir + '/CT-Covid-19-August2020/*.nii.gz')))\",\n",
    "}"
   ]
  },
  {
   "cell_type": "markdown",
   "id": "bead3597",
   "metadata": {},
   "source": [
    "- Next we download the Clara 4.1 app and extract it.\n",
    "- In this tutorial, we downloaded and extracted the following:\n",
    "- https://catalog.ngc.nvidia.com/orgs/nvidia/teams/med/models/clara_pt_covid19_ct_lung_segmentation"
   ]
  },
  {
   "cell_type": "code",
   "execution_count": 4,
   "id": "b91df633",
   "metadata": {},
   "outputs": [],
   "source": [
    "CLARA_APP_ROOT = \"/workspace/covid19_seg\""
   ]
  },
  {
   "cell_type": "code",
   "execution_count": 5,
   "id": "a0d754e9",
   "metadata": {},
   "outputs": [],
   "source": [
    "!cp $CLARA_APP_ROOT/models/* $APP_ROOT/models/"
   ]
  },
  {
   "cell_type": "markdown",
   "id": "dc96d859",
   "metadata": {},
   "source": [
    "- We'll run this tutorial on the inference configuration."
   ]
  },
  {
   "cell_type": "code",
   "execution_count": 6,
   "id": "1eb35393",
   "metadata": {},
   "outputs": [],
   "source": [
    "# Read CLARA 4.1 Training Config\n",
    "with open(CLARA_APP_ROOT + \"/config/config_inference.json\") as f:\n",
    "    config_infer = json.load(f)"
   ]
  },
  {
   "cell_type": "markdown",
   "id": "80d5a71b",
   "metadata": {},
   "source": [
    "- Here we check the model in the clara app, an define the model in the MONAI Bundle style"
   ]
  },
  {
   "cell_type": "code",
   "execution_count": 7,
   "id": "aaf334ac",
   "metadata": {},
   "outputs": [
    {
     "data": {
      "text/plain": [
       "{'ts_path': '{MMAR_TORCHSCRIPT}'}"
      ]
     },
     "execution_count": 7,
     "metadata": {},
     "output_type": "execute_result"
    }
   ],
   "source": [
    "# Get model\n",
    "config_infer[\"model\"]"
   ]
  },
  {
   "cell_type": "code",
   "execution_count": 8,
   "id": "407c5fd2",
   "metadata": {},
   "outputs": [],
   "source": [
    "# We can have network load directly\n",
    "bundle_config[\"network\"] = \"$torch.jit.load(@model_dir + '/model.ts')\""
   ]
  },
  {
   "cell_type": "markdown",
   "id": "a2b93734",
   "metadata": {},
   "source": [
    "- Next is preprocessing"
   ]
  },
  {
   "cell_type": "code",
   "execution_count": 9,
   "id": "67887e72",
   "metadata": {},
   "outputs": [
    {
     "name": "stdout",
     "output_type": "stream",
     "text": [
      "LoadImaged(keys=['image'])\n",
      "EnsureChannelFirstd(keys=['image'])\n",
      "Spacingd(keys=['image'], pixdim=[0.8, 0.8, 5], mode=['bilinear'], align_corners=[True])\n",
      "ScaleIntensityRanged(keys=image, a_min=-1500, a_max=500, b_min=0, b_max=1, clip=True)\n",
      "CropForegroundd(keys=['image'], source_key=image)\n",
      "ToTensord(keys=['image'])\n"
     ]
    }
   ],
   "source": [
    "# Read Pre-Transforms\n",
    "pre_transforms = config_infer[\"pre_transforms\"]\n",
    "for t in pre_transforms:\n",
    "    print(f\"\"\"{t[\"name\"]}({\", \".join([f'''{k}={str(v)}''' for k,v in t[\"args\"].items()])})\"\"\")"
   ]
  },
  {
   "cell_type": "code",
   "execution_count": 10,
   "id": "113667aa",
   "metadata": {},
   "outputs": [
    {
     "data": {
      "text/plain": [
       "{'_target_': 'Compose',\n",
       " 'transforms': [{'_target_': 'LoadImaged', 'keys': ['image']},\n",
       "  {'_target_': 'EnsureChannelFirstd', 'keys': ['image']},\n",
       "  {'_target_': 'Spacingd',\n",
       "   'keys': ['image'],\n",
       "   'pixdim': [0.8, 0.8, 5],\n",
       "   'mode': ['bilinear'],\n",
       "   'align_corners': [True]},\n",
       "  {'_target_': 'ScaleIntensityRanged',\n",
       "   'keys': 'image',\n",
       "   'a_min': -1500,\n",
       "   'a_max': 500,\n",
       "   'b_min': 0,\n",
       "   'b_max': 1,\n",
       "   'clip': True},\n",
       "  {'_target_': 'CropForegroundd', 'keys': ['image'], 'source_key': 'image'}]}"
      ]
     },
     "execution_count": 10,
     "metadata": {},
     "output_type": "execute_result"
    }
   ],
   "source": [
    "# Replace Variables\n",
    "pre_transforms = config_infer[\"pre_transforms\"]\n",
    "pre_transforms = {\n",
    "    \"_target_\": \"Compose\",\n",
    "    \"transforms\": [\n",
    "        {\"_target_\": t[\"name\"], **t[\"args\"]}\n",
    "        for t in pre_transforms\n",
    "        if t[\"name\"] != \"ToTensord\"\n",
    "    ],\n",
    "}\n",
    "pre_transforms"
   ]
  },
  {
   "cell_type": "code",
   "execution_count": 11,
   "id": "f41d68e7",
   "metadata": {},
   "outputs": [],
   "source": [
    "# Add pre-transforms\n",
    "bundle_config[\"pre_transforms\"] = pre_transforms"
   ]
  },
  {
   "cell_type": "markdown",
   "id": "79a08cc5",
   "metadata": {},
   "source": [
    "- Next we convert the training dataset and dataloader as well"
   ]
  },
  {
   "cell_type": "code",
   "execution_count": 12,
   "id": "5acd7c7e",
   "metadata": {},
   "outputs": [
    {
     "name": "stdout",
     "output_type": "stream",
     "text": [
      "{'name': 'Dataset', 'data_list_file_path': '{DATASET_JSON}', 'data_file_base_dir': '{DATA_ROOT}', 'data_list_key': '{INFER_DATALIST_KEY}', 'args': {'transform': '@pre_transforms'}}\n",
      "{'name': 'DataLoader', 'args': {'dataset': '@dataset', 'batch_size': 1, 'shuffle': False, 'num_workers': 4}}\n"
     ]
    }
   ],
   "source": [
    "# Get Dataset and DataLoader\n",
    "print(config_infer[\"dataset\"])\n",
    "print(config_infer[\"dataloader\"])"
   ]
  },
  {
   "cell_type": "markdown",
   "id": "f479271a",
   "metadata": {},
   "source": [
    "- Here we use the first 90% of the images as our training images.\n",
    "- Notice that we can write code to be evaluated directly in the config"
   ]
  },
  {
   "cell_type": "code",
   "execution_count": 13,
   "id": "140516f9",
   "metadata": {},
   "outputs": [
    {
     "name": "stdout",
     "output_type": "stream",
     "text": [
      "{'_target_': 'Dataset', 'transform': '@pre_transforms', 'data': \"$[{'image': i} for i in @images]\"}\n",
      "{'_target_': 'DataLoader', 'dataset': '@dataset', 'batch_size': 1, 'shuffle': False, 'num_workers': 4}\n"
     ]
    }
   ],
   "source": [
    "dataset = {\n",
    "    \"_target_\": config_infer[\"dataset\"][\"name\"],\n",
    "    **config_infer[\"dataset\"][\"args\"]\n",
    "}\n",
    "dataset[\"data\"] = \"$[{'image': i} for i in @images]\"\n",
    "dataset[\"transform\"] = \"@pre_transforms\"\n",
    "dataloader = {\n",
    "    \"_target_\": config_infer[\"dataloader\"][\"name\"],\n",
    "    **config_infer[\"dataloader\"][\"args\"]\n",
    "}\n",
    "dataloader[\"dataset\"] = \"@dataset\"\n",
    "print(dataset)\n",
    "print(dataloader)"
   ]
  },
  {
   "cell_type": "code",
   "execution_count": 14,
   "id": "e75d7054",
   "metadata": {},
   "outputs": [],
   "source": [
    "# Add train dataset and dataloader\n",
    "bundle_config[\"dataset\"] = dataset\n",
    "bundle_config[\"dataloader\"] = dataloader"
   ]
  },
  {
   "cell_type": "code",
   "execution_count": 15,
   "id": "e016f51f",
   "metadata": {},
   "outputs": [
    {
     "data": {
      "text/plain": [
       "{'name': 'SlidingWindowInferer',\n",
       " 'args': {'roi_size': ['{roi_x}', '{roi_y}', '{roi_z}'],\n",
       "  'sw_batch_size': 4,\n",
       "  'overlap': 0.6}}"
      ]
     },
     "execution_count": 15,
     "metadata": {},
     "output_type": "execute_result"
    }
   ],
   "source": [
    "config_infer[\"inferer\"]"
   ]
  },
  {
   "cell_type": "markdown",
   "id": "fab5cae8",
   "metadata": {},
   "source": [
    "- Next we set up the inferer to use for training"
   ]
  },
  {
   "cell_type": "code",
   "execution_count": 16,
   "id": "53cdc8c9",
   "metadata": {},
   "outputs": [
    {
     "name": "stdout",
     "output_type": "stream",
     "text": [
      "{'_target_': 'SlidingWindowInferer', 'roi_size': [320, 320, 64], 'sw_batch_size': 4, 'overlap': 0.6}\n"
     ]
    }
   ],
   "source": [
    "# Inferer\n",
    "inferer = json.loads(\n",
    "    json.dumps(config_infer[\"inferer\"])\n",
    "    .replace('\"{roi_x}\"', str(config_infer[\"roi_x\"]))\n",
    "    .replace('\"{roi_y}\"', str(config_infer[\"roi_y\"]))\n",
    "    .replace('\"{roi_z}\"', str(config_infer[\"roi_z\"]))\n",
    ")\n",
    "inferer = {\n",
    "    \"_target_\": inferer[\"name\"],\n",
    "    **inferer[\"args\"],\n",
    "}\n",
    "print(inferer)"
   ]
  },
  {
   "cell_type": "code",
   "execution_count": 17,
   "id": "8b0c683e",
   "metadata": {},
   "outputs": [],
   "source": [
    "# Add inferer\n",
    "bundle_config[\"inferer\"] = inferer"
   ]
  },
  {
   "cell_type": "markdown",
   "id": "4b87367d",
   "metadata": {},
   "source": [
    "- Next let's take a look at the handlers"
   ]
  },
  {
   "cell_type": "code",
   "execution_count": 18,
   "id": "1ca2f806",
   "metadata": {},
   "outputs": [
    {
     "name": "stdout",
     "output_type": "stream",
     "text": [
      "{'name': 'StatsHandler', 'rank': 0, 'args': {'output_transform': 'lambda x: None'}}\n"
     ]
    },
    {
     "data": {
      "text/plain": [
       "[None]"
      ]
     },
     "execution_count": 18,
     "metadata": {},
     "output_type": "execute_result"
    }
   ],
   "source": [
    "[print(handler) for handler in config_infer[\"handlers\"]]"
   ]
  },
  {
   "cell_type": "markdown",
   "id": "d0044ed5",
   "metadata": {},
   "source": [
    "Since the handlers are more complicated, we'll write them one by one."
   ]
  },
  {
   "cell_type": "code",
   "execution_count": 19,
   "id": "eb1ff4de",
   "metadata": {},
   "outputs": [
    {
     "name": "stdout",
     "output_type": "stream",
     "text": [
      "{'_target_': 'StatsHandler', 'output_transform': '$lambda x: None'}\n"
     ]
    },
    {
     "data": {
      "text/plain": [
       "[None]"
      ]
     },
     "execution_count": 19,
     "metadata": {},
     "output_type": "execute_result"
    }
   ],
   "source": [
    "handlers = [\n",
    "    {\n",
    "        \"_target_\": \"StatsHandler\",\n",
    "        \"output_transform\": \"$lambda x: None\",\n",
    "    },\n",
    "]\n",
    "[print(handler) for handler in handlers]\n"
   ]
  },
  {
   "cell_type": "code",
   "execution_count": 20,
   "id": "2acfcfec",
   "metadata": {},
   "outputs": [],
   "source": [
    "# Add handlers\n",
    "bundle_config[\"handlers\"] = handlers"
   ]
  },
  {
   "cell_type": "markdown",
   "id": "45f9cda0",
   "metadata": {},
   "source": [
    "- Next we have the postprocessing transforms"
   ]
  },
  {
   "cell_type": "code",
   "execution_count": 21,
   "id": "f3cd2c56",
   "metadata": {},
   "outputs": [
    {
     "data": {
      "text/plain": [
       "[{'name': 'Activationsd', 'args': {'keys': 'pred', 'softmax': True}},\n",
       " {'name': 'Invertd',\n",
       "  'args': {'keys': 'pred',\n",
       "   'transform': '@pre_transforms',\n",
       "   'orig_keys': 'image',\n",
       "   'meta_keys': 'pred_meta_dict',\n",
       "   'nearest_interp': False,\n",
       "   'to_tensor': True,\n",
       "   'device': 'cuda'}},\n",
       " {'name': 'AsDiscreted', 'args': {'keys': 'pred', 'argmax': True}},\n",
       " {'name': 'SaveImaged',\n",
       "  'args': {'keys': 'pred',\n",
       "   'meta_keys': 'pred_meta_dict',\n",
       "   'output_dir': '{MMAR_EVAL_OUTPUT_PATH}',\n",
       "   'resample': False,\n",
       "   'squeeze_end_dims': True}}]"
      ]
     },
     "execution_count": 21,
     "metadata": {},
     "output_type": "execute_result"
    }
   ],
   "source": [
    "config_infer[\"post_transforms\"]"
   ]
  },
  {
   "cell_type": "code",
   "execution_count": 22,
   "id": "cfc5fad4",
   "metadata": {},
   "outputs": [
    {
     "data": {
      "text/plain": [
       "{'_target_': 'Compose',\n",
       " 'transforms': [{'_target_': 'Activationsd', 'keys': 'pred', 'softmax': True},\n",
       "  {'_target_': 'Invertd',\n",
       "   'keys': 'pred',\n",
       "   'transform': '@pre_transforms',\n",
       "   'orig_keys': 'image',\n",
       "   'meta_keys': 'pred_meta_dict',\n",
       "   'nearest_interp': False,\n",
       "   'to_tensor': True,\n",
       "   'device': 'cuda'},\n",
       "  {'_target_': 'AsDiscreted', 'keys': 'pred', 'argmax': True},\n",
       "  {'_target_': 'SaveImaged',\n",
       "   'keys': 'pred',\n",
       "   'meta_keys': 'pred_meta_dict',\n",
       "   'output_dir': '@output_dir',\n",
       "   'resample': False,\n",
       "   'squeeze_end_dims': True}]}"
      ]
     },
     "execution_count": 22,
     "metadata": {},
     "output_type": "execute_result"
    }
   ],
   "source": [
    "post_transforms = [\n",
    "    {\n",
    "        \"_target_\": t[\"name\"],\n",
    "        **{\n",
    "            k: config_infer[\"out_classes\"]\n",
    "            if k == \"to_onehot\"\n",
    "            else (\n",
    "                v.replace(\"{MMAR_EVAL_OUTPUT_PATH}\", \"@output_dir\")\n",
    "                if isinstance(v, str)\n",
    "                else v\n",
    "            )\n",
    "            for k, v in t[\"args\"].items()\n",
    "            if k != \"n_classes\"\n",
    "        },\n",
    "    }\n",
    "    for t in config_infer[\"post_transforms\"]\n",
    "]\n",
    "post_transforms = {\n",
    "    \"_target_\": \"Compose\",\n",
    "    \"transforms\": post_transforms,\n",
    "}\n",
    "post_transforms"
   ]
  },
  {
   "cell_type": "code",
   "execution_count": 23,
   "id": "2d5c39a9",
   "metadata": {},
   "outputs": [],
   "source": [
    "# Add train post_transforms\n",
    "bundle_config[\"post_transforms\"] = post_transforms"
   ]
  },
  {
   "cell_type": "code",
   "execution_count": 24,
   "id": "a4856216",
   "metadata": {},
   "outputs": [
    {
     "data": {
      "text/plain": [
       "{'name': 'SupervisedEvaluator',\n",
       " 'args': {'device': 'cuda',\n",
       "  'val_data_loader': '@dataloader',\n",
       "  'network': '@model',\n",
       "  'inferer': '@inferer',\n",
       "  'postprocessing': '@post_transforms',\n",
       "  'val_handlers': '@handlers',\n",
       "  'amp': '{amp}'}}"
      ]
     },
     "execution_count": 24,
     "metadata": {},
     "output_type": "execute_result"
    }
   ],
   "source": [
    "config_infer[\"evaluator\"]"
   ]
  },
  {
   "cell_type": "code",
   "execution_count": 25,
   "id": "ac57d37c",
   "metadata": {},
   "outputs": [
    {
     "data": {
      "text/plain": [
       "{'_target_': 'SupervisedEvaluator',\n",
       " 'device': '@device',\n",
       " 'val_data_loader': '@dataloader',\n",
       " 'network': '@network',\n",
       " 'inferer': '@inferer',\n",
       " 'postprocessing': '@post_transforms',\n",
       " 'val_handlers': '@handlers',\n",
       " 'amp': True}"
      ]
     },
     "execution_count": 25,
     "metadata": {},
     "output_type": "execute_result"
    }
   ],
   "source": [
    "evaluator = {\n",
    "    \"_target_\": config_infer[\"evaluator\"][\"name\"],\n",
    "    \"device\": \"@device\",\n",
    "    \"val_data_loader\": \"@dataloader\",\n",
    "    \"network\": \"@network\",\n",
    "    \"inferer\": \"@inferer\",\n",
    "    \"postprocessing\": \"@post_transforms\",\n",
    "    \"val_handlers\": \"@handlers\",\n",
    "    \"amp\": True,\n",
    "}\n",
    "evaluator"
   ]
  },
  {
   "cell_type": "code",
   "execution_count": 26,
   "id": "e07f2a09",
   "metadata": {},
   "outputs": [],
   "source": [
    "bundle_config[\"evaluator\"] = evaluator"
   ]
  },
  {
   "cell_type": "markdown",
   "id": "8a88f7e6",
   "metadata": {},
   "source": [
    "- Finally, we add a \"training\" section\n",
    "- This includes the code that we will run if we select \"training\""
   ]
  },
  {
   "cell_type": "code",
   "execution_count": 27,
   "id": "0d56e364",
   "metadata": {},
   "outputs": [],
   "source": [
    "bundle_config[\"evaluating\"] = [\n",
    "    \"$setattr(torch.backends.cudnn, 'benchmark', True)\",\n",
    "    \"$@evaluator.run()\",\n",
    "]"
   ]
  },
  {
   "cell_type": "markdown",
   "id": "248f4ad4",
   "metadata": {},
   "source": [
    "- This is what the overall bundle_config will look like"
   ]
  },
  {
   "cell_type": "code",
   "execution_count": 28,
   "id": "b87a0f13",
   "metadata": {},
   "outputs": [
    {
     "data": {
      "text/plain": [
       "{'imports': ['$import glob', '$import os'],\n",
       " 'device': \"$torch.device('cuda:0' if torch.cuda.is_available() else 'cpu')\",\n",
       " 'bundle_root': '/workspace/monai-bundle-demo-covid19-lung-segmentation',\n",
       " 'model_dir': \"$@bundle_root + '/models'\",\n",
       " 'output_dir': \"$@bundle_root + '/out'\",\n",
       " 'dataset_dir': '/workspace/datasets',\n",
       " 'images': \"$list(sorted(glob.glob(@dataset_dir + '/CT-Covid-19-August2020/*.nii.gz')))\",\n",
       " 'network': \"$torch.jit.load(@model_dir + '/model.ts')\",\n",
       " 'pre_transforms': {'_target_': 'Compose',\n",
       "  'transforms': [{'_target_': 'LoadImaged', 'keys': ['image']},\n",
       "   {'_target_': 'EnsureChannelFirstd', 'keys': ['image']},\n",
       "   {'_target_': 'Spacingd',\n",
       "    'keys': ['image'],\n",
       "    'pixdim': [0.8, 0.8, 5],\n",
       "    'mode': ['bilinear'],\n",
       "    'align_corners': [True]},\n",
       "   {'_target_': 'ScaleIntensityRanged',\n",
       "    'keys': 'image',\n",
       "    'a_min': -1500,\n",
       "    'a_max': 500,\n",
       "    'b_min': 0,\n",
       "    'b_max': 1,\n",
       "    'clip': True},\n",
       "   {'_target_': 'CropForegroundd', 'keys': ['image'], 'source_key': 'image'}]},\n",
       " 'dataset': {'_target_': 'Dataset',\n",
       "  'transform': '@pre_transforms',\n",
       "  'data': \"$[{'image': i} for i in @images]\"},\n",
       " 'dataloader': {'_target_': 'DataLoader',\n",
       "  'dataset': '@dataset',\n",
       "  'batch_size': 1,\n",
       "  'shuffle': False,\n",
       "  'num_workers': 4},\n",
       " 'inferer': {'_target_': 'SlidingWindowInferer',\n",
       "  'roi_size': [320, 320, 64],\n",
       "  'sw_batch_size': 4,\n",
       "  'overlap': 0.6},\n",
       " 'handlers': [{'_target_': 'StatsHandler',\n",
       "   'output_transform': '$lambda x: None'}],\n",
       " 'post_transforms': {'_target_': 'Compose',\n",
       "  'transforms': [{'_target_': 'Activationsd', 'keys': 'pred', 'softmax': True},\n",
       "   {'_target_': 'Invertd',\n",
       "    'keys': 'pred',\n",
       "    'transform': '@pre_transforms',\n",
       "    'orig_keys': 'image',\n",
       "    'meta_keys': 'pred_meta_dict',\n",
       "    'nearest_interp': False,\n",
       "    'to_tensor': True,\n",
       "    'device': 'cuda'},\n",
       "   {'_target_': 'AsDiscreted', 'keys': 'pred', 'argmax': True},\n",
       "   {'_target_': 'SaveImaged',\n",
       "    'keys': 'pred',\n",
       "    'meta_keys': 'pred_meta_dict',\n",
       "    'output_dir': '@output_dir',\n",
       "    'resample': False,\n",
       "    'squeeze_end_dims': True}]},\n",
       " 'evaluator': {'_target_': 'SupervisedEvaluator',\n",
       "  'device': '@device',\n",
       "  'val_data_loader': '@dataloader',\n",
       "  'network': '@network',\n",
       "  'inferer': '@inferer',\n",
       "  'postprocessing': '@post_transforms',\n",
       "  'val_handlers': '@handlers',\n",
       "  'amp': True},\n",
       " 'evaluating': [\"$setattr(torch.backends.cudnn, 'benchmark', True)\",\n",
       "  '$@evaluator.run()']}"
      ]
     },
     "execution_count": 28,
     "metadata": {},
     "output_type": "execute_result"
    }
   ],
   "source": [
    "bundle_config"
   ]
  },
  {
   "cell_type": "markdown",
   "id": "525bec8b",
   "metadata": {},
   "source": [
    "- Next we'll open up a train.json file and write the config into it."
   ]
  },
  {
   "cell_type": "code",
   "execution_count": 29,
   "id": "3e991071",
   "metadata": {},
   "outputs": [],
   "source": [
    "with open(APP_ROOT + \"/configs/inference.json\", \"w\") as f:\n",
    "    json.dump(bundle_config, f)"
   ]
  },
  {
   "cell_type": "markdown",
   "id": "17dd0d69",
   "metadata": {},
   "source": [
    "- Finally to test our code, we can use `monai.bundle run`\n",
    "- then we specify `training` which will run the code under the training section that we wrote at the end\n",
    "- and we specify the config file to be the one that we just wrote into"
   ]
  },
  {
   "cell_type": "code",
   "execution_count": 30,
   "id": "c09bf0be",
   "metadata": {
    "scrolled": true
   },
   "outputs": [
    {
     "name": "stdout",
     "output_type": "stream",
     "text": [
      "2022-11-29 06:31:33,459 - INFO - --- input summary of monai.bundle.scripts.run ---\n",
      "2022-11-29 06:31:33,459 - INFO - > runner_id: 'evaluating'\n",
      "2022-11-29 06:31:33,459 - INFO - > config_file: '/workspace/monai-bundle-demo-covid19-lung-segmentation/configs/inference.json'\n",
      "2022-11-29 06:31:33,459 - INFO - ---\n",
      "\n",
      "\n",
      "2022-11-29 06:31:35,080 - Engine run resuming from iteration 0, epoch 0 until 1 epochs\n",
      "2022-11-29 06:31:45,591 INFO image_writer.py:193 - writing: /workspace/monai-bundle-demo-covid19-lung-segmentation/out/volume-covid19-A-0000/volume-covid19-A-0000_trans.nii.gz\n",
      "2022-11-29 06:31:47,149 INFO image_writer.py:193 - writing: /workspace/monai-bundle-demo-covid19-lung-segmentation/out/volume-covid19-A-0001/volume-covid19-A-0001_trans.nii.gz\n",
      "2022-11-29 06:31:49,792 INFO image_writer.py:193 - writing: /workspace/monai-bundle-demo-covid19-lung-segmentation/out/volume-covid19-A-0002/volume-covid19-A-0002_trans.nii.gz\n",
      "2022-11-29 06:31:53,329 INFO image_writer.py:193 - writing: /workspace/monai-bundle-demo-covid19-lung-segmentation/out/volume-covid19-A-0003/volume-covid19-A-0003_trans.nii.gz\n",
      "2022-11-29 06:31:55,034 INFO image_writer.py:193 - writing: /workspace/monai-bundle-demo-covid19-lung-segmentation/out/volume-covid19-A-0005/volume-covid19-A-0005_trans.nii.gz\n",
      "2022-11-29 06:31:56,557 INFO image_writer.py:193 - writing: /workspace/monai-bundle-demo-covid19-lung-segmentation/out/volume-covid19-A-0006/volume-covid19-A-0006_trans.nii.gz\n",
      "2022-11-29 06:31:59,298 INFO image_writer.py:193 - writing: /workspace/monai-bundle-demo-covid19-lung-segmentation/out/volume-covid19-A-0007/volume-covid19-A-0007_trans.nii.gz\n",
      "2022-11-29 06:32:01,107 INFO image_writer.py:193 - writing: /workspace/monai-bundle-demo-covid19-lung-segmentation/out/volume-covid19-A-0008/volume-covid19-A-0008_trans.nii.gz\n",
      "2022-11-29 06:32:02,810 INFO image_writer.py:193 - writing: /workspace/monai-bundle-demo-covid19-lung-segmentation/out/volume-covid19-A-0009/volume-covid19-A-0009_trans.nii.gz\n",
      "2022-11-29 06:32:04,823 INFO image_writer.py:193 - writing: /workspace/monai-bundle-demo-covid19-lung-segmentation/out/volume-covid19-A-0010/volume-covid19-A-0010_trans.nii.gz\n",
      "2022-11-29 06:32:06,892 INFO image_writer.py:193 - writing: /workspace/monai-bundle-demo-covid19-lung-segmentation/out/volume-covid19-A-0011/volume-covid19-A-0011_trans.nii.gz\n",
      "2022-11-29 06:32:09,510 INFO image_writer.py:193 - writing: /workspace/monai-bundle-demo-covid19-lung-segmentation/out/volume-covid19-A-0012/volume-covid19-A-0012_trans.nii.gz\n",
      "2022-11-29 06:32:11,095 INFO image_writer.py:193 - writing: /workspace/monai-bundle-demo-covid19-lung-segmentation/out/volume-covid19-A-0013/volume-covid19-A-0013_trans.nii.gz\n",
      "2022-11-29 06:32:12,670 INFO image_writer.py:193 - writing: /workspace/monai-bundle-demo-covid19-lung-segmentation/out/volume-covid19-A-0014/volume-covid19-A-0014_trans.nii.gz\n",
      "2022-11-29 06:32:14,989 INFO image_writer.py:193 - writing: /workspace/monai-bundle-demo-covid19-lung-segmentation/out/volume-covid19-A-0015/volume-covid19-A-0015_trans.nii.gz\n",
      "2022-11-29 06:32:17,405 INFO image_writer.py:193 - writing: /workspace/monai-bundle-demo-covid19-lung-segmentation/out/volume-covid19-A-0016/volume-covid19-A-0016_trans.nii.gz\n",
      "2022-11-29 06:32:19,959 INFO image_writer.py:193 - writing: /workspace/monai-bundle-demo-covid19-lung-segmentation/out/volume-covid19-A-0017/volume-covid19-A-0017_trans.nii.gz\n",
      "2022-11-29 06:32:22,235 INFO image_writer.py:193 - writing: /workspace/monai-bundle-demo-covid19-lung-segmentation/out/volume-covid19-A-0018/volume-covid19-A-0018_trans.nii.gz\n",
      "2022-11-29 06:32:25,326 INFO image_writer.py:193 - writing: /workspace/monai-bundle-demo-covid19-lung-segmentation/out/volume-covid19-A-0019/volume-covid19-A-0019_trans.nii.gz\n",
      "2022-11-29 06:32:27,150 INFO image_writer.py:193 - writing: /workspace/monai-bundle-demo-covid19-lung-segmentation/out/volume-covid19-A-0020/volume-covid19-A-0020_trans.nii.gz\n",
      "2022-11-29 06:32:29,590 INFO image_writer.py:193 - writing: /workspace/monai-bundle-demo-covid19-lung-segmentation/out/volume-covid19-A-0021/volume-covid19-A-0021_trans.nii.gz\n",
      "2022-11-29 06:32:31,510 INFO image_writer.py:193 - writing: /workspace/monai-bundle-demo-covid19-lung-segmentation/out/volume-covid19-A-0022/volume-covid19-A-0022_trans.nii.gz\n",
      "2022-11-29 06:32:32,926 INFO image_writer.py:193 - writing: /workspace/monai-bundle-demo-covid19-lung-segmentation/out/volume-covid19-A-0023/volume-covid19-A-0023_trans.nii.gz\n",
      "2022-11-29 06:32:34,025 INFO image_writer.py:193 - writing: /workspace/monai-bundle-demo-covid19-lung-segmentation/out/volume-covid19-A-0025/volume-covid19-A-0025_trans.nii.gz\n",
      "2022-11-29 06:32:34,872 INFO image_writer.py:193 - writing: /workspace/monai-bundle-demo-covid19-lung-segmentation/out/volume-covid19-A-0026/volume-covid19-A-0026_trans.nii.gz\n",
      "2022-11-29 06:32:35,643 INFO image_writer.py:193 - writing: /workspace/monai-bundle-demo-covid19-lung-segmentation/out/volume-covid19-A-0027_1/volume-covid19-A-0027_1_trans.nii.gz\n",
      "2022-11-29 06:32:36,337 INFO image_writer.py:193 - writing: /workspace/monai-bundle-demo-covid19-lung-segmentation/out/volume-covid19-A-0028_0/volume-covid19-A-0028_0_trans.nii.gz\n",
      "2022-11-29 06:32:37,554 INFO image_writer.py:193 - writing: /workspace/monai-bundle-demo-covid19-lung-segmentation/out/volume-covid19-A-0028_1/volume-covid19-A-0028_1_trans.nii.gz\n",
      "2022-11-29 06:32:38,416 INFO image_writer.py:193 - writing: /workspace/monai-bundle-demo-covid19-lung-segmentation/out/volume-covid19-A-0029/volume-covid19-A-0029_trans.nii.gz\n",
      "2022-11-29 06:32:39,231 INFO image_writer.py:193 - writing: /workspace/monai-bundle-demo-covid19-lung-segmentation/out/volume-covid19-A-0030/volume-covid19-A-0030_trans.nii.gz\n",
      "2022-11-29 06:32:40,554 INFO image_writer.py:193 - writing: /workspace/monai-bundle-demo-covid19-lung-segmentation/out/volume-covid19-A-0031/volume-covid19-A-0031_trans.nii.gz\n",
      "2022-11-29 06:32:41,903 INFO image_writer.py:193 - writing: /workspace/monai-bundle-demo-covid19-lung-segmentation/out/volume-covid19-A-0032/volume-covid19-A-0032_trans.nii.gz\n",
      "2022-11-29 06:32:42,744 INFO image_writer.py:193 - writing: /workspace/monai-bundle-demo-covid19-lung-segmentation/out/volume-covid19-A-0033/volume-covid19-A-0033_trans.nii.gz\n",
      "2022-11-29 06:32:43,964 INFO image_writer.py:193 - writing: /workspace/monai-bundle-demo-covid19-lung-segmentation/out/volume-covid19-A-0034/volume-covid19-A-0034_trans.nii.gz\n",
      "2022-11-29 06:32:44,813 INFO image_writer.py:193 - writing: /workspace/monai-bundle-demo-covid19-lung-segmentation/out/volume-covid19-A-0035/volume-covid19-A-0035_trans.nii.gz\n",
      "2022-11-29 06:32:45,646 INFO image_writer.py:193 - writing: /workspace/monai-bundle-demo-covid19-lung-segmentation/out/volume-covid19-A-0036/volume-covid19-A-0036_trans.nii.gz\n",
      "2022-11-29 06:32:46,496 INFO image_writer.py:193 - writing: /workspace/monai-bundle-demo-covid19-lung-segmentation/out/volume-covid19-A-0037/volume-covid19-A-0037_trans.nii.gz\n",
      "2022-11-29 06:32:47,839 INFO image_writer.py:193 - writing: /workspace/monai-bundle-demo-covid19-lung-segmentation/out/volume-covid19-A-0038/volume-covid19-A-0038_trans.nii.gz\n",
      "2022-11-29 06:32:48,637 INFO image_writer.py:193 - writing: /workspace/monai-bundle-demo-covid19-lung-segmentation/out/volume-covid19-A-0039/volume-covid19-A-0039_trans.nii.gz\n",
      "2022-11-29 06:32:49,446 INFO image_writer.py:193 - writing: /workspace/monai-bundle-demo-covid19-lung-segmentation/out/volume-covid19-A-0040/volume-covid19-A-0040_trans.nii.gz\n",
      "2022-11-29 06:32:50,775 INFO image_writer.py:193 - writing: /workspace/monai-bundle-demo-covid19-lung-segmentation/out/volume-covid19-A-0041/volume-covid19-A-0041_trans.nii.gz\n",
      "2022-11-29 06:32:52,191 INFO image_writer.py:193 - writing: /workspace/monai-bundle-demo-covid19-lung-segmentation/out/volume-covid19-A-0042/volume-covid19-A-0042_trans.nii.gz\n",
      "2022-11-29 06:32:53,047 INFO image_writer.py:193 - writing: /workspace/monai-bundle-demo-covid19-lung-segmentation/out/volume-covid19-A-0043/volume-covid19-A-0043_trans.nii.gz\n",
      "2022-11-29 06:32:54,416 INFO image_writer.py:193 - writing: /workspace/monai-bundle-demo-covid19-lung-segmentation/out/volume-covid19-A-0044/volume-covid19-A-0044_trans.nii.gz\n",
      "2022-11-29 06:32:55,255 INFO image_writer.py:193 - writing: /workspace/monai-bundle-demo-covid19-lung-segmentation/out/volume-covid19-A-0045/volume-covid19-A-0045_trans.nii.gz\n",
      "2022-11-29 06:32:56,620 INFO image_writer.py:193 - writing: /workspace/monai-bundle-demo-covid19-lung-segmentation/out/volume-covid19-A-0046/volume-covid19-A-0046_trans.nii.gz\n",
      "2022-11-29 06:32:57,990 INFO image_writer.py:193 - writing: /workspace/monai-bundle-demo-covid19-lung-segmentation/out/volume-covid19-A-0047_0/volume-covid19-A-0047_0_trans.nii.gz\n",
      "2022-11-29 06:32:59,384 INFO image_writer.py:193 - writing: /workspace/monai-bundle-demo-covid19-lung-segmentation/out/volume-covid19-A-0047_1/volume-covid19-A-0047_1_trans.nii.gz\n",
      "2022-11-29 06:33:01,548 INFO image_writer.py:193 - writing: /workspace/monai-bundle-demo-covid19-lung-segmentation/out/volume-covid19-A-0048/volume-covid19-A-0048_trans.nii.gz\n",
      "2022-11-29 06:33:02,896 INFO image_writer.py:193 - writing: /workspace/monai-bundle-demo-covid19-lung-segmentation/out/volume-covid19-A-0051/volume-covid19-A-0051_trans.nii.gz\n",
      "2022-11-29 06:33:03,713 INFO image_writer.py:193 - writing: /workspace/monai-bundle-demo-covid19-lung-segmentation/out/volume-covid19-A-0053/volume-covid19-A-0053_trans.nii.gz\n",
      "2022-11-29 06:33:04,573 INFO image_writer.py:193 - writing: /workspace/monai-bundle-demo-covid19-lung-segmentation/out/volume-covid19-A-0054/volume-covid19-A-0054_trans.nii.gz\n",
      "2022-11-29 06:33:05,371 INFO image_writer.py:193 - writing: /workspace/monai-bundle-demo-covid19-lung-segmentation/out/volume-covid19-A-0055/volume-covid19-A-0055_trans.nii.gz\n",
      "2022-11-29 06:33:06,187 INFO image_writer.py:193 - writing: /workspace/monai-bundle-demo-covid19-lung-segmentation/out/volume-covid19-A-0056/volume-covid19-A-0056_trans.nii.gz\n",
      "2022-11-29 06:33:07,534 INFO image_writer.py:193 - writing: /workspace/monai-bundle-demo-covid19-lung-segmentation/out/volume-covid19-A-0057/volume-covid19-A-0057_trans.nii.gz\n",
      "2022-11-29 06:33:08,387 INFO image_writer.py:193 - writing: /workspace/monai-bundle-demo-covid19-lung-segmentation/out/volume-covid19-A-0063/volume-covid19-A-0063_trans.nii.gz\n",
      "2022-11-29 06:33:09,199 INFO image_writer.py:193 - writing: /workspace/monai-bundle-demo-covid19-lung-segmentation/out/volume-covid19-A-0064/volume-covid19-A-0064_trans.nii.gz\n",
      "2022-11-29 06:33:10,468 INFO image_writer.py:193 - writing: /workspace/monai-bundle-demo-covid19-lung-segmentation/out/volume-covid19-A-0066/volume-covid19-A-0066_trans.nii.gz\n",
      "2022-11-29 06:33:11,283 INFO image_writer.py:193 - writing: /workspace/monai-bundle-demo-covid19-lung-segmentation/out/volume-covid19-A-0067/volume-covid19-A-0067_trans.nii.gz\n",
      "2022-11-29 06:33:12,082 INFO image_writer.py:193 - writing: /workspace/monai-bundle-demo-covid19-lung-segmentation/out/volume-covid19-A-0068/volume-covid19-A-0068_trans.nii.gz\n",
      "2022-11-29 06:33:12,904 INFO image_writer.py:193 - writing: /workspace/monai-bundle-demo-covid19-lung-segmentation/out/volume-covid19-A-0069/volume-covid19-A-0069_trans.nii.gz\n",
      "2022-11-29 06:33:14,555 INFO image_writer.py:193 - writing: /workspace/monai-bundle-demo-covid19-lung-segmentation/out/volume-covid19-A-0070/volume-covid19-A-0070_trans.nii.gz\n",
      "2022-11-29 06:33:15,391 INFO image_writer.py:193 - writing: /workspace/monai-bundle-demo-covid19-lung-segmentation/out/volume-covid19-A-0071/volume-covid19-A-0071_trans.nii.gz\n",
      "2022-11-29 06:33:17,032 INFO image_writer.py:193 - writing: /workspace/monai-bundle-demo-covid19-lung-segmentation/out/volume-covid19-A-0072/volume-covid19-A-0072_trans.nii.gz\n",
      "2022-11-29 06:33:18,391 INFO image_writer.py:193 - writing: /workspace/monai-bundle-demo-covid19-lung-segmentation/out/volume-covid19-A-0073/volume-covid19-A-0073_trans.nii.gz\n",
      "2022-11-29 06:33:19,210 INFO image_writer.py:193 - writing: /workspace/monai-bundle-demo-covid19-lung-segmentation/out/volume-covid19-A-0074_0/volume-covid19-A-0074_0_trans.nii.gz\n",
      "2022-11-29 06:33:21,253 INFO image_writer.py:193 - writing: /workspace/monai-bundle-demo-covid19-lung-segmentation/out/volume-covid19-A-0074_1/volume-covid19-A-0074_1_trans.nii.gz\n",
      "2022-11-29 06:33:22,614 INFO image_writer.py:193 - writing: /workspace/monai-bundle-demo-covid19-lung-segmentation/out/volume-covid19-A-0075/volume-covid19-A-0075_trans.nii.gz\n",
      "2022-11-29 06:33:24,877 INFO image_writer.py:193 - writing: /workspace/monai-bundle-demo-covid19-lung-segmentation/out/volume-covid19-A-0076/volume-covid19-A-0076_trans.nii.gz\n",
      "2022-11-29 06:33:26,232 INFO image_writer.py:193 - writing: /workspace/monai-bundle-demo-covid19-lung-segmentation/out/volume-covid19-A-0077/volume-covid19-A-0077_trans.nii.gz\n",
      "2022-11-29 06:33:27,033 INFO image_writer.py:193 - writing: /workspace/monai-bundle-demo-covid19-lung-segmentation/out/volume-covid19-A-0078/volume-covid19-A-0078_trans.nii.gz\n",
      "2022-11-29 06:33:28,359 INFO image_writer.py:193 - writing: /workspace/monai-bundle-demo-covid19-lung-segmentation/out/volume-covid19-A-0079/volume-covid19-A-0079_trans.nii.gz\n",
      "2022-11-29 06:33:29,678 INFO image_writer.py:193 - writing: /workspace/monai-bundle-demo-covid19-lung-segmentation/out/volume-covid19-A-0080/volume-covid19-A-0080_trans.nii.gz\n",
      "2022-11-29 06:33:30,482 INFO image_writer.py:193 - writing: /workspace/monai-bundle-demo-covid19-lung-segmentation/out/volume-covid19-A-0081/volume-covid19-A-0081_trans.nii.gz\n",
      "2022-11-29 06:33:31,337 INFO image_writer.py:193 - writing: /workspace/monai-bundle-demo-covid19-lung-segmentation/out/volume-covid19-A-0082/volume-covid19-A-0082_trans.nii.gz\n",
      "2022-11-29 06:33:32,207 INFO image_writer.py:193 - writing: /workspace/monai-bundle-demo-covid19-lung-segmentation/out/volume-covid19-A-0083/volume-covid19-A-0083_trans.nii.gz\n",
      "2022-11-29 06:33:33,615 INFO image_writer.py:193 - writing: /workspace/monai-bundle-demo-covid19-lung-segmentation/out/volume-covid19-A-0084/volume-covid19-A-0084_trans.nii.gz\n",
      "2022-11-29 06:33:34,514 INFO image_writer.py:193 - writing: /workspace/monai-bundle-demo-covid19-lung-segmentation/out/volume-covid19-A-0085/volume-covid19-A-0085_trans.nii.gz\n",
      "2022-11-29 06:33:36,209 INFO image_writer.py:193 - writing: /workspace/monai-bundle-demo-covid19-lung-segmentation/out/volume-covid19-A-0086/volume-covid19-A-0086_trans.nii.gz\n",
      "2022-11-29 06:33:37,006 INFO image_writer.py:193 - writing: /workspace/monai-bundle-demo-covid19-lung-segmentation/out/volume-covid19-A-0088/volume-covid19-A-0088_trans.nii.gz\n",
      "2022-11-29 06:33:37,802 INFO image_writer.py:193 - writing: /workspace/monai-bundle-demo-covid19-lung-segmentation/out/volume-covid19-A-0089/volume-covid19-A-0089_trans.nii.gz\n",
      "2022-11-29 06:33:39,109 INFO image_writer.py:193 - writing: /workspace/monai-bundle-demo-covid19-lung-segmentation/out/volume-covid19-A-0090/volume-covid19-A-0090_trans.nii.gz\n",
      "2022-11-29 06:33:39,906 INFO image_writer.py:193 - writing: /workspace/monai-bundle-demo-covid19-lung-segmentation/out/volume-covid19-A-0091/volume-covid19-A-0091_trans.nii.gz\n",
      "2022-11-29 06:33:40,700 INFO image_writer.py:193 - writing: /workspace/monai-bundle-demo-covid19-lung-segmentation/out/volume-covid19-A-0092/volume-covid19-A-0092_trans.nii.gz\n",
      "2022-11-29 06:33:42,006 INFO image_writer.py:193 - writing: /workspace/monai-bundle-demo-covid19-lung-segmentation/out/volume-covid19-A-0094/volume-covid19-A-0094_trans.nii.gz\n",
      "2022-11-29 06:33:42,826 INFO image_writer.py:193 - writing: /workspace/monai-bundle-demo-covid19-lung-segmentation/out/volume-covid19-A-0095/volume-covid19-A-0095_trans.nii.gz\n",
      "2022-11-29 06:33:43,638 INFO image_writer.py:193 - writing: /workspace/monai-bundle-demo-covid19-lung-segmentation/out/volume-covid19-A-0096/volume-covid19-A-0096_trans.nii.gz\n",
      "2022-11-29 06:33:44,469 INFO image_writer.py:193 - writing: /workspace/monai-bundle-demo-covid19-lung-segmentation/out/volume-covid19-A-0098/volume-covid19-A-0098_trans.nii.gz\n",
      "2022-11-29 06:33:45,260 INFO image_writer.py:193 - writing: /workspace/monai-bundle-demo-covid19-lung-segmentation/out/volume-covid19-A-0099/volume-covid19-A-0099_trans.nii.gz\n",
      "2022-11-29 06:33:46,867 INFO image_writer.py:193 - writing: /workspace/monai-bundle-demo-covid19-lung-segmentation/out/volume-covid19-A-0100/volume-covid19-A-0100_trans.nii.gz\n",
      "2022-11-29 06:33:47,684 INFO image_writer.py:193 - writing: /workspace/monai-bundle-demo-covid19-lung-segmentation/out/volume-covid19-A-0101/volume-covid19-A-0101_trans.nii.gz\n",
      "2022-11-29 06:33:49,066 INFO image_writer.py:193 - writing: /workspace/monai-bundle-demo-covid19-lung-segmentation/out/volume-covid19-A-0102/volume-covid19-A-0102_trans.nii.gz\n",
      "2022-11-29 06:33:51,534 INFO image_writer.py:193 - writing: /workspace/monai-bundle-demo-covid19-lung-segmentation/out/volume-covid19-A-0104/volume-covid19-A-0104_trans.nii.gz\n",
      "2022-11-29 06:33:52,530 INFO image_writer.py:193 - writing: /workspace/monai-bundle-demo-covid19-lung-segmentation/out/volume-covid19-A-0106/volume-covid19-A-0106_trans.nii.gz\n",
      "2022-11-29 06:33:53,353 INFO image_writer.py:193 - writing: /workspace/monai-bundle-demo-covid19-lung-segmentation/out/volume-covid19-A-0107/volume-covid19-A-0107_trans.nii.gz\n",
      "2022-11-29 06:33:54,172 INFO image_writer.py:193 - writing: /workspace/monai-bundle-demo-covid19-lung-segmentation/out/volume-covid19-A-0109/volume-covid19-A-0109_trans.nii.gz\n",
      "2022-11-29 06:33:55,050 INFO image_writer.py:193 - writing: /workspace/monai-bundle-demo-covid19-lung-segmentation/out/volume-covid19-A-0110/volume-covid19-A-0110_trans.nii.gz\n",
      "2022-11-29 06:33:55,908 INFO image_writer.py:193 - writing: /workspace/monai-bundle-demo-covid19-lung-segmentation/out/volume-covid19-A-0111/volume-covid19-A-0111_trans.nii.gz\n",
      "2022-11-29 06:33:56,782 INFO image_writer.py:193 - writing: /workspace/monai-bundle-demo-covid19-lung-segmentation/out/volume-covid19-A-0114/volume-covid19-A-0114_trans.nii.gz\n",
      "2022-11-29 06:33:58,165 INFO image_writer.py:193 - writing: /workspace/monai-bundle-demo-covid19-lung-segmentation/out/volume-covid19-A-0115/volume-covid19-A-0115_trans.nii.gz\n",
      "2022-11-29 06:33:58,960 INFO image_writer.py:193 - writing: /workspace/monai-bundle-demo-covid19-lung-segmentation/out/volume-covid19-A-0116/volume-covid19-A-0116_trans.nii.gz\n",
      "2022-11-29 06:33:59,759 INFO image_writer.py:193 - writing: /workspace/monai-bundle-demo-covid19-lung-segmentation/out/volume-covid19-A-0117/volume-covid19-A-0117_trans.nii.gz\n",
      "2022-11-29 06:34:00,614 INFO image_writer.py:193 - writing: /workspace/monai-bundle-demo-covid19-lung-segmentation/out/volume-covid19-A-0118/volume-covid19-A-0118_trans.nii.gz\n",
      "2022-11-29 06:34:01,996 INFO image_writer.py:193 - writing: /workspace/monai-bundle-demo-covid19-lung-segmentation/out/volume-covid19-A-0120/volume-covid19-A-0120_trans.nii.gz\n",
      "2022-11-29 06:34:02,843 INFO image_writer.py:193 - writing: /workspace/monai-bundle-demo-covid19-lung-segmentation/out/volume-covid19-A-0121/volume-covid19-A-0121_trans.nii.gz\n",
      "2022-11-29 06:34:03,943 INFO image_writer.py:193 - writing: /workspace/monai-bundle-demo-covid19-lung-segmentation/out/volume-covid19-A-0123/volume-covid19-A-0123_trans.nii.gz\n",
      "2022-11-29 06:34:04,766 INFO image_writer.py:193 - writing: /workspace/monai-bundle-demo-covid19-lung-segmentation/out/volume-covid19-A-0124/volume-covid19-A-0124_trans.nii.gz\n",
      "2022-11-29 06:34:06,095 INFO image_writer.py:193 - writing: /workspace/monai-bundle-demo-covid19-lung-segmentation/out/volume-covid19-A-0126/volume-covid19-A-0126_trans.nii.gz\n",
      "2022-11-29 06:34:06,931 INFO image_writer.py:193 - writing: /workspace/monai-bundle-demo-covid19-lung-segmentation/out/volume-covid19-A-0128/volume-covid19-A-0128_trans.nii.gz\n",
      "2022-11-29 06:34:07,756 INFO image_writer.py:193 - writing: /workspace/monai-bundle-demo-covid19-lung-segmentation/out/volume-covid19-A-0129/volume-covid19-A-0129_trans.nii.gz\n",
      "2022-11-29 06:34:08,603 INFO image_writer.py:193 - writing: /workspace/monai-bundle-demo-covid19-lung-segmentation/out/volume-covid19-A-0130/volume-covid19-A-0130_trans.nii.gz\n",
      "2022-11-29 06:34:09,426 INFO image_writer.py:193 - writing: /workspace/monai-bundle-demo-covid19-lung-segmentation/out/volume-covid19-A-0131/volume-covid19-A-0131_trans.nii.gz\n",
      "2022-11-29 06:34:10,014 INFO image_writer.py:193 - writing: /workspace/monai-bundle-demo-covid19-lung-segmentation/out/volume-covid19-A-0133/volume-covid19-A-0133_trans.nii.gz\n",
      "2022-11-29 06:34:11,462 INFO image_writer.py:193 - writing: /workspace/monai-bundle-demo-covid19-lung-segmentation/out/volume-covid19-A-0134/volume-covid19-A-0134_trans.nii.gz\n",
      "2022-11-29 06:34:12,372 INFO image_writer.py:193 - writing: /workspace/monai-bundle-demo-covid19-lung-segmentation/out/volume-covid19-A-0135/volume-covid19-A-0135_trans.nii.gz\n",
      "2022-11-29 06:34:13,224 INFO image_writer.py:193 - writing: /workspace/monai-bundle-demo-covid19-lung-segmentation/out/volume-covid19-A-0136/volume-covid19-A-0136_trans.nii.gz\n",
      "2022-11-29 06:34:14,565 INFO image_writer.py:193 - writing: /workspace/monai-bundle-demo-covid19-lung-segmentation/out/volume-covid19-A-0137/volume-covid19-A-0137_trans.nii.gz\n",
      "2022-11-29 06:34:15,376 INFO image_writer.py:193 - writing: /workspace/monai-bundle-demo-covid19-lung-segmentation/out/volume-covid19-A-0138/volume-covid19-A-0138_trans.nii.gz\n",
      "2022-11-29 06:34:16,718 INFO image_writer.py:193 - writing: /workspace/monai-bundle-demo-covid19-lung-segmentation/out/volume-covid19-A-0139/volume-covid19-A-0139_trans.nii.gz\n",
      "2022-11-29 06:34:17,612 INFO image_writer.py:193 - writing: /workspace/monai-bundle-demo-covid19-lung-segmentation/out/volume-covid19-A-0140/volume-covid19-A-0140_trans.nii.gz\n",
      "2022-11-29 06:34:18,825 INFO image_writer.py:193 - writing: /workspace/monai-bundle-demo-covid19-lung-segmentation/out/volume-covid19-A-0142/volume-covid19-A-0142_trans.nii.gz\n",
      "2022-11-29 06:34:19,612 INFO image_writer.py:193 - writing: /workspace/monai-bundle-demo-covid19-lung-segmentation/out/volume-covid19-A-0143/volume-covid19-A-0143_trans.nii.gz\n",
      "2022-11-29 06:34:20,402 INFO image_writer.py:193 - writing: /workspace/monai-bundle-demo-covid19-lung-segmentation/out/volume-covid19-A-0144/volume-covid19-A-0144_trans.nii.gz\n",
      "2022-11-29 06:34:21,735 INFO image_writer.py:193 - writing: /workspace/monai-bundle-demo-covid19-lung-segmentation/out/volume-covid19-A-0145/volume-covid19-A-0145_trans.nii.gz\n",
      "2022-11-29 06:34:22,539 INFO image_writer.py:193 - writing: /workspace/monai-bundle-demo-covid19-lung-segmentation/out/volume-covid19-A-0146/volume-covid19-A-0146_trans.nii.gz\n",
      "2022-11-29 06:34:23,899 INFO image_writer.py:193 - writing: /workspace/monai-bundle-demo-covid19-lung-segmentation/out/volume-covid19-A-0147/volume-covid19-A-0147_trans.nii.gz\n",
      "2022-11-29 06:34:26,096 INFO image_writer.py:193 - writing: /workspace/monai-bundle-demo-covid19-lung-segmentation/out/volume-covid19-A-0149/volume-covid19-A-0149_trans.nii.gz\n",
      "2022-11-29 06:34:26,901 INFO image_writer.py:193 - writing: /workspace/monai-bundle-demo-covid19-lung-segmentation/out/volume-covid19-A-0150/volume-covid19-A-0150_trans.nii.gz\n",
      "2022-11-29 06:34:27,728 INFO image_writer.py:193 - writing: /workspace/monai-bundle-demo-covid19-lung-segmentation/out/volume-covid19-A-0151/volume-covid19-A-0151_trans.nii.gz\n",
      "2022-11-29 06:34:28,585 INFO image_writer.py:193 - writing: /workspace/monai-bundle-demo-covid19-lung-segmentation/out/volume-covid19-A-0152/volume-covid19-A-0152_trans.nii.gz\n",
      "2022-11-29 06:34:29,393 INFO image_writer.py:193 - writing: /workspace/monai-bundle-demo-covid19-lung-segmentation/out/volume-covid19-A-0153/volume-covid19-A-0153_trans.nii.gz\n",
      "2022-11-29 06:34:30,730 INFO image_writer.py:193 - writing: /workspace/monai-bundle-demo-covid19-lung-segmentation/out/volume-covid19-A-0154/volume-covid19-A-0154_trans.nii.gz\n",
      "2022-11-29 06:34:31,557 INFO image_writer.py:193 - writing: /workspace/monai-bundle-demo-covid19-lung-segmentation/out/volume-covid19-A-0156/volume-covid19-A-0156_trans.nii.gz\n",
      "2022-11-29 06:34:32,363 INFO image_writer.py:193 - writing: /workspace/monai-bundle-demo-covid19-lung-segmentation/out/volume-covid19-A-0157/volume-covid19-A-0157_trans.nii.gz\n",
      "2022-11-29 06:34:33,222 INFO image_writer.py:193 - writing: /workspace/monai-bundle-demo-covid19-lung-segmentation/out/volume-covid19-A-0158/volume-covid19-A-0158_trans.nii.gz\n",
      "2022-11-29 06:34:37,375 INFO image_writer.py:193 - writing: /workspace/monai-bundle-demo-covid19-lung-segmentation/out/volume-covid19-A-0161/volume-covid19-A-0161_trans.nii.gz\n",
      "2022-11-29 06:34:38,353 INFO image_writer.py:193 - writing: /workspace/monai-bundle-demo-covid19-lung-segmentation/out/volume-covid19-A-0164/volume-covid19-A-0164_trans.nii.gz\n",
      "2022-11-29 06:34:39,773 INFO image_writer.py:193 - writing: /workspace/monai-bundle-demo-covid19-lung-segmentation/out/volume-covid19-A-0165/volume-covid19-A-0165_trans.nii.gz\n",
      "2022-11-29 06:34:41,055 INFO image_writer.py:193 - writing: /workspace/monai-bundle-demo-covid19-lung-segmentation/out/volume-covid19-A-0166/volume-covid19-A-0166_trans.nii.gz\n",
      "2022-11-29 06:34:42,351 INFO image_writer.py:193 - writing: /workspace/monai-bundle-demo-covid19-lung-segmentation/out/volume-covid19-A-0167_1/volume-covid19-A-0167_1_trans.nii.gz\n",
      "2022-11-29 06:34:43,152 INFO image_writer.py:193 - writing: /workspace/monai-bundle-demo-covid19-lung-segmentation/out/volume-covid19-A-0168/volume-covid19-A-0168_trans.nii.gz\n",
      "2022-11-29 06:34:43,960 INFO image_writer.py:193 - writing: /workspace/monai-bundle-demo-covid19-lung-segmentation/out/volume-covid19-A-0169/volume-covid19-A-0169_trans.nii.gz\n",
      "2022-11-29 06:34:45,297 INFO image_writer.py:193 - writing: /workspace/monai-bundle-demo-covid19-lung-segmentation/out/volume-covid19-A-0170/volume-covid19-A-0170_trans.nii.gz\n",
      "2022-11-29 06:34:46,640 INFO image_writer.py:193 - writing: /workspace/monai-bundle-demo-covid19-lung-segmentation/out/volume-covid19-A-0171_0/volume-covid19-A-0171_0_trans.nii.gz\n",
      "2022-11-29 06:34:48,903 INFO image_writer.py:193 - writing: /workspace/monai-bundle-demo-covid19-lung-segmentation/out/volume-covid19-A-0173/volume-covid19-A-0173_trans.nii.gz\n",
      "2022-11-29 06:34:50,357 INFO image_writer.py:193 - writing: /workspace/monai-bundle-demo-covid19-lung-segmentation/out/volume-covid19-A-0174/volume-covid19-A-0174_trans.nii.gz\n",
      "2022-11-29 06:34:51,218 INFO image_writer.py:193 - writing: /workspace/monai-bundle-demo-covid19-lung-segmentation/out/volume-covid19-A-0175/volume-covid19-A-0175_trans.nii.gz\n",
      "2022-11-29 06:34:52,032 INFO image_writer.py:193 - writing: /workspace/monai-bundle-demo-covid19-lung-segmentation/out/volume-covid19-A-0176/volume-covid19-A-0176_trans.nii.gz\n",
      "2022-11-29 06:34:52,842 INFO image_writer.py:193 - writing: /workspace/monai-bundle-demo-covid19-lung-segmentation/out/volume-covid19-A-0177/volume-covid19-A-0177_trans.nii.gz\n",
      "2022-11-29 06:34:53,650 INFO image_writer.py:193 - writing: /workspace/monai-bundle-demo-covid19-lung-segmentation/out/volume-covid19-A-0178/volume-covid19-A-0178_trans.nii.gz\n",
      "2022-11-29 06:34:54,462 INFO image_writer.py:193 - writing: /workspace/monai-bundle-demo-covid19-lung-segmentation/out/volume-covid19-A-0179/volume-covid19-A-0179_trans.nii.gz\n",
      "2022-11-29 06:34:55,794 INFO image_writer.py:193 - writing: /workspace/monai-bundle-demo-covid19-lung-segmentation/out/volume-covid19-A-0180_0/volume-covid19-A-0180_0_trans.nii.gz\n",
      "2022-11-29 06:34:56,629 INFO image_writer.py:193 - writing: /workspace/monai-bundle-demo-covid19-lung-segmentation/out/volume-covid19-A-0180_1/volume-covid19-A-0180_1_trans.nii.gz\n",
      "2022-11-29 06:34:58,004 INFO image_writer.py:193 - writing: /workspace/monai-bundle-demo-covid19-lung-segmentation/out/volume-covid19-A-0181/volume-covid19-A-0181_trans.nii.gz\n",
      "2022-11-29 06:34:58,889 INFO image_writer.py:193 - writing: /workspace/monai-bundle-demo-covid19-lung-segmentation/out/volume-covid19-A-0182/volume-covid19-A-0182_trans.nii.gz\n",
      "2022-11-29 06:35:00,010 INFO image_writer.py:193 - writing: /workspace/monai-bundle-demo-covid19-lung-segmentation/out/volume-covid19-A-0183/volume-covid19-A-0183_trans.nii.gz\n",
      "2022-11-29 06:35:01,109 INFO image_writer.py:193 - writing: /workspace/monai-bundle-demo-covid19-lung-segmentation/out/volume-covid19-A-0184_0/volume-covid19-A-0184_0_trans.nii.gz\n",
      "2022-11-29 06:35:02,367 INFO image_writer.py:193 - writing: /workspace/monai-bundle-demo-covid19-lung-segmentation/out/volume-covid19-A-0184_1/volume-covid19-A-0184_1_trans.nii.gz\n",
      "2022-11-29 06:35:04,533 INFO image_writer.py:193 - writing: /workspace/monai-bundle-demo-covid19-lung-segmentation/out/volume-covid19-A-0185/volume-covid19-A-0185_trans.nii.gz\n",
      "2022-11-29 06:35:05,390 INFO image_writer.py:193 - writing: /workspace/monai-bundle-demo-covid19-lung-segmentation/out/volume-covid19-A-0186/volume-covid19-A-0186_trans.nii.gz\n",
      "2022-11-29 06:35:06,210 INFO image_writer.py:193 - writing: /workspace/monai-bundle-demo-covid19-lung-segmentation/out/volume-covid19-A-0187/volume-covid19-A-0187_trans.nii.gz\n",
      "2022-11-29 06:35:08,394 INFO image_writer.py:193 - writing: /workspace/monai-bundle-demo-covid19-lung-segmentation/out/volume-covid19-A-0188/volume-covid19-A-0188_trans.nii.gz\n",
      "2022-11-29 06:35:09,268 INFO image_writer.py:193 - writing: /workspace/monai-bundle-demo-covid19-lung-segmentation/out/volume-covid19-A-0189_0/volume-covid19-A-0189_0_trans.nii.gz\n",
      "2022-11-29 06:35:10,902 INFO image_writer.py:193 - writing: /workspace/monai-bundle-demo-covid19-lung-segmentation/out/volume-covid19-A-0189_1/volume-covid19-A-0189_1_trans.nii.gz\n",
      "2022-11-29 06:35:12,230 INFO image_writer.py:193 - writing: /workspace/monai-bundle-demo-covid19-lung-segmentation/out/volume-covid19-A-0190/volume-covid19-A-0190_trans.nii.gz\n",
      "2022-11-29 06:35:14,414 INFO image_writer.py:193 - writing: /workspace/monai-bundle-demo-covid19-lung-segmentation/out/volume-covid19-A-0191/volume-covid19-A-0191_trans.nii.gz\n",
      "2022-11-29 06:35:15,795 INFO image_writer.py:193 - writing: /workspace/monai-bundle-demo-covid19-lung-segmentation/out/volume-covid19-A-0193/volume-covid19-A-0193_trans.nii.gz\n",
      "2022-11-29 06:35:17,179 INFO image_writer.py:193 - writing: /workspace/monai-bundle-demo-covid19-lung-segmentation/out/volume-covid19-A-0194/volume-covid19-A-0194_trans.nii.gz\n",
      "2022-11-29 06:35:18,028 INFO image_writer.py:193 - writing: /workspace/monai-bundle-demo-covid19-lung-segmentation/out/volume-covid19-A-0195/volume-covid19-A-0195_trans.nii.gz\n",
      "2022-11-29 06:35:18,814 INFO image_writer.py:193 - writing: /workspace/monai-bundle-demo-covid19-lung-segmentation/out/volume-covid19-A-0196_0/volume-covid19-A-0196_0_trans.nii.gz\n",
      "2022-11-29 06:35:19,616 INFO image_writer.py:193 - writing: /workspace/monai-bundle-demo-covid19-lung-segmentation/out/volume-covid19-A-0196_1/volume-covid19-A-0196_1_trans.nii.gz\n",
      "2022-11-29 06:35:20,417 INFO image_writer.py:193 - writing: /workspace/monai-bundle-demo-covid19-lung-segmentation/out/volume-covid19-A-0198/volume-covid19-A-0198_trans.nii.gz\n",
      "2022-11-29 06:35:21,744 INFO image_writer.py:193 - writing: /workspace/monai-bundle-demo-covid19-lung-segmentation/out/volume-covid19-A-0199/volume-covid19-A-0199_trans.nii.gz\n",
      "2022-11-29 06:35:22,572 INFO image_writer.py:193 - writing: /workspace/monai-bundle-demo-covid19-lung-segmentation/out/volume-covid19-A-0201/volume-covid19-A-0201_trans.nii.gz\n",
      "2022-11-29 06:35:23,927 INFO image_writer.py:193 - writing: /workspace/monai-bundle-demo-covid19-lung-segmentation/out/volume-covid19-A-0202_0/volume-covid19-A-0202_0_trans.nii.gz\n",
      "2022-11-29 06:35:24,761 INFO image_writer.py:193 - writing: /workspace/monai-bundle-demo-covid19-lung-segmentation/out/volume-covid19-A-0202_1/volume-covid19-A-0202_1_trans.nii.gz\n",
      "2022-11-29 06:35:25,530 INFO image_writer.py:193 - writing: /workspace/monai-bundle-demo-covid19-lung-segmentation/out/volume-covid19-A-0203/volume-covid19-A-0203_trans.nii.gz\n",
      "2022-11-29 06:35:26,311 INFO image_writer.py:193 - writing: /workspace/monai-bundle-demo-covid19-lung-segmentation/out/volume-covid19-A-0204/volume-covid19-A-0204_trans.nii.gz\n",
      "2022-11-29 06:35:27,139 INFO image_writer.py:193 - writing: /workspace/monai-bundle-demo-covid19-lung-segmentation/out/volume-covid19-A-0206/volume-covid19-A-0206_trans.nii.gz\n",
      "2022-11-29 06:35:28,781 INFO image_writer.py:193 - writing: /workspace/monai-bundle-demo-covid19-lung-segmentation/out/volume-covid19-A-0212_0/volume-covid19-A-0212_0_trans.nii.gz\n",
      "2022-11-29 06:35:30,181 INFO image_writer.py:193 - writing: /workspace/monai-bundle-demo-covid19-lung-segmentation/out/volume-covid19-A-0212_1/volume-covid19-A-0212_1_trans.nii.gz\n",
      "2022-11-29 06:35:31,485 INFO image_writer.py:193 - writing: /workspace/monai-bundle-demo-covid19-lung-segmentation/out/volume-covid19-A-0213/volume-covid19-A-0213_trans.nii.gz\n",
      "2022-11-29 06:35:32,287 INFO image_writer.py:193 - writing: /workspace/monai-bundle-demo-covid19-lung-segmentation/out/volume-covid19-A-0214/volume-covid19-A-0214_trans.nii.gz\n",
      "2022-11-29 06:35:33,097 INFO image_writer.py:193 - writing: /workspace/monai-bundle-demo-covid19-lung-segmentation/out/volume-covid19-A-0215/volume-covid19-A-0215_trans.nii.gz\n",
      "2022-11-29 06:35:34,453 INFO image_writer.py:193 - writing: /workspace/monai-bundle-demo-covid19-lung-segmentation/out/volume-covid19-A-0216/volume-covid19-A-0216_trans.nii.gz\n",
      "2022-11-29 06:35:35,278 INFO image_writer.py:193 - writing: /workspace/monai-bundle-demo-covid19-lung-segmentation/out/volume-covid19-A-0218/volume-covid19-A-0218_trans.nii.gz\n",
      "2022-11-29 06:35:36,069 INFO image_writer.py:193 - writing: /workspace/monai-bundle-demo-covid19-lung-segmentation/out/volume-covid19-A-0219/volume-covid19-A-0219_trans.nii.gz\n",
      "2022-11-29 06:35:37,428 INFO image_writer.py:193 - writing: /workspace/monai-bundle-demo-covid19-lung-segmentation/out/volume-covid19-A-0220/volume-covid19-A-0220_trans.nii.gz\n",
      "2022-11-29 06:35:38,674 INFO image_writer.py:193 - writing: /workspace/monai-bundle-demo-covid19-lung-segmentation/out/volume-covid19-A-0221/volume-covid19-A-0221_trans.nii.gz\n",
      "2022-11-29 06:35:39,500 INFO image_writer.py:193 - writing: /workspace/monai-bundle-demo-covid19-lung-segmentation/out/volume-covid19-A-0222/volume-covid19-A-0222_trans.nii.gz\n",
      "2022-11-29 06:35:40,318 INFO image_writer.py:193 - writing: /workspace/monai-bundle-demo-covid19-lung-segmentation/out/volume-covid19-A-0223/volume-covid19-A-0223_trans.nii.gz\n",
      "2022-11-29 06:35:41,680 INFO image_writer.py:193 - writing: /workspace/monai-bundle-demo-covid19-lung-segmentation/out/volume-covid19-A-0224/volume-covid19-A-0224_trans.nii.gz\n",
      "2022-11-29 06:35:42,318 INFO image_writer.py:193 - writing: /workspace/monai-bundle-demo-covid19-lung-segmentation/out/volume-covid19-A-0225/volume-covid19-A-0225_trans.nii.gz\n",
      "2022-11-29 06:35:43,352 INFO image_writer.py:193 - writing: /workspace/monai-bundle-demo-covid19-lung-segmentation/out/volume-covid19-A-0226/volume-covid19-A-0226_trans.nii.gz\n",
      "2022-11-29 06:35:43,913 INFO image_writer.py:193 - writing: /workspace/monai-bundle-demo-covid19-lung-segmentation/out/volume-covid19-A-0227/volume-covid19-A-0227_trans.nii.gz\n",
      "2022-11-29 06:35:45,318 INFO image_writer.py:193 - writing: /workspace/monai-bundle-demo-covid19-lung-segmentation/out/volume-covid19-A-0228/volume-covid19-A-0228_trans.nii.gz\n",
      "2022-11-29 06:35:46,712 INFO image_writer.py:193 - writing: /workspace/monai-bundle-demo-covid19-lung-segmentation/out/volume-covid19-A-0229/volume-covid19-A-0229_trans.nii.gz\n",
      "2022-11-29 06:35:47,342 INFO image_writer.py:193 - writing: /workspace/monai-bundle-demo-covid19-lung-segmentation/out/volume-covid19-A-0231/volume-covid19-A-0231_trans.nii.gz\n",
      "2022-11-29 06:35:48,346 INFO image_writer.py:193 - writing: /workspace/monai-bundle-demo-covid19-lung-segmentation/out/volume-covid19-A-0232/volume-covid19-A-0232_trans.nii.gz\n",
      "2022-11-29 06:35:49,205 INFO image_writer.py:193 - writing: /workspace/monai-bundle-demo-covid19-lung-segmentation/out/volume-covid19-A-0233/volume-covid19-A-0233_trans.nii.gz\n",
      "2022-11-29 06:35:50,421 INFO image_writer.py:193 - writing: /workspace/monai-bundle-demo-covid19-lung-segmentation/out/volume-covid19-A-0234/volume-covid19-A-0234_trans.nii.gz\n",
      "2022-11-29 06:35:51,829 INFO image_writer.py:193 - writing: /workspace/monai-bundle-demo-covid19-lung-segmentation/out/volume-covid19-A-0235/volume-covid19-A-0235_trans.nii.gz\n",
      "2022-11-29 06:35:52,640 INFO image_writer.py:193 - writing: /workspace/monai-bundle-demo-covid19-lung-segmentation/out/volume-covid19-A-0236/volume-covid19-A-0236_trans.nii.gz\n",
      "2022-11-29 06:35:53,920 INFO image_writer.py:193 - writing: /workspace/monai-bundle-demo-covid19-lung-segmentation/out/volume-covid19-A-0237/volume-covid19-A-0237_trans.nii.gz\n",
      "2022-11-29 06:35:54,480 INFO image_writer.py:193 - writing: /workspace/monai-bundle-demo-covid19-lung-segmentation/out/volume-covid19-A-0238/volume-covid19-A-0238_trans.nii.gz\n",
      "2022-11-29 06:35:55,918 INFO image_writer.py:193 - writing: /workspace/monai-bundle-demo-covid19-lung-segmentation/out/volume-covid19-A-0239/volume-covid19-A-0239_trans.nii.gz\n",
      "2022-11-29 06:35:57,250 INFO image_writer.py:193 - writing: /workspace/monai-bundle-demo-covid19-lung-segmentation/out/volume-covid19-A-0240/volume-covid19-A-0240_trans.nii.gz\n",
      "2022-11-29 06:35:58,054 INFO image_writer.py:193 - writing: /workspace/monai-bundle-demo-covid19-lung-segmentation/out/volume-covid19-A-0241/volume-covid19-A-0241_trans.nii.gz\n",
      "2022-11-29 06:35:59,394 INFO image_writer.py:193 - writing: /workspace/monai-bundle-demo-covid19-lung-segmentation/out/volume-covid19-A-0242/volume-covid19-A-0242_trans.nii.gz\n",
      "2022-11-29 06:36:00,237 INFO image_writer.py:193 - writing: /workspace/monai-bundle-demo-covid19-lung-segmentation/out/volume-covid19-A-0244/volume-covid19-A-0244_trans.nii.gz\n",
      "2022-11-29 06:36:00,913 INFO image_writer.py:193 - writing: /workspace/monai-bundle-demo-covid19-lung-segmentation/out/volume-covid19-A-0245/volume-covid19-A-0245_trans.nii.gz\n",
      "2022-11-29 06:36:01,921 INFO image_writer.py:193 - writing: /workspace/monai-bundle-demo-covid19-lung-segmentation/out/volume-covid19-A-0246/volume-covid19-A-0246_trans.nii.gz\n",
      "2022-11-29 06:36:02,731 INFO image_writer.py:193 - writing: /workspace/monai-bundle-demo-covid19-lung-segmentation/out/volume-covid19-A-0247/volume-covid19-A-0247_trans.nii.gz\n",
      "2022-11-29 06:36:03,535 INFO image_writer.py:193 - writing: /workspace/monai-bundle-demo-covid19-lung-segmentation/out/volume-covid19-A-0249/volume-covid19-A-0249_trans.nii.gz\n",
      "2022-11-29 06:36:04,338 INFO image_writer.py:193 - writing: /workspace/monai-bundle-demo-covid19-lung-segmentation/out/volume-covid19-A-0251/volume-covid19-A-0251_trans.nii.gz\n",
      "2022-11-29 06:36:05,620 INFO image_writer.py:193 - writing: /workspace/monai-bundle-demo-covid19-lung-segmentation/out/volume-covid19-A-0252/volume-covid19-A-0252_trans.nii.gz\n",
      "2022-11-29 06:36:06,973 INFO image_writer.py:193 - writing: /workspace/monai-bundle-demo-covid19-lung-segmentation/out/volume-covid19-A-0253/volume-covid19-A-0253_trans.nii.gz\n",
      "2022-11-29 06:36:07,773 INFO image_writer.py:193 - writing: /workspace/monai-bundle-demo-covid19-lung-segmentation/out/volume-covid19-A-0254/volume-covid19-A-0254_trans.nii.gz\n",
      "2022-11-29 06:36:09,133 INFO image_writer.py:193 - writing: /workspace/monai-bundle-demo-covid19-lung-segmentation/out/volume-covid19-A-0255/volume-covid19-A-0255_trans.nii.gz\n",
      "2022-11-29 06:36:10,439 INFO image_writer.py:193 - writing: /workspace/monai-bundle-demo-covid19-lung-segmentation/out/volume-covid19-A-0256_0/volume-covid19-A-0256_0_trans.nii.gz\n",
      "2022-11-29 06:36:11,758 INFO image_writer.py:193 - writing: /workspace/monai-bundle-demo-covid19-lung-segmentation/out/volume-covid19-A-0256_1/volume-covid19-A-0256_1_trans.nii.gz\n",
      "2022-11-29 06:36:12,571 INFO image_writer.py:193 - writing: /workspace/monai-bundle-demo-covid19-lung-segmentation/out/volume-covid19-A-0257/volume-covid19-A-0257_trans.nii.gz\n",
      "2022-11-29 06:36:13,937 INFO image_writer.py:193 - writing: /workspace/monai-bundle-demo-covid19-lung-segmentation/out/volume-covid19-A-0258/volume-covid19-A-0258_trans.nii.gz\n",
      "2022-11-29 06:36:14,793 INFO image_writer.py:193 - writing: /workspace/monai-bundle-demo-covid19-lung-segmentation/out/volume-covid19-A-0259/volume-covid19-A-0259_trans.nii.gz\n",
      "2022-11-29 06:36:15,632 INFO image_writer.py:193 - writing: /workspace/monai-bundle-demo-covid19-lung-segmentation/out/volume-covid19-A-0260/volume-covid19-A-0260_trans.nii.gz\n",
      "2022-11-29 06:36:16,154 INFO image_writer.py:193 - writing: /workspace/monai-bundle-demo-covid19-lung-segmentation/out/volume-covid19-A-0261_0/volume-covid19-A-0261_0_trans.nii.gz\n",
      "2022-11-29 06:36:17,013 INFO image_writer.py:193 - writing: /workspace/monai-bundle-demo-covid19-lung-segmentation/out/volume-covid19-A-0261_1/volume-covid19-A-0261_1_trans.nii.gz\n",
      "2022-11-29 06:36:17,811 INFO image_writer.py:193 - writing: /workspace/monai-bundle-demo-covid19-lung-segmentation/out/volume-covid19-A-0262/volume-covid19-A-0262_trans.nii.gz\n",
      "2022-11-29 06:36:19,169 INFO image_writer.py:193 - writing: /workspace/monai-bundle-demo-covid19-lung-segmentation/out/volume-covid19-A-0263/volume-covid19-A-0263_trans.nii.gz\n",
      "2022-11-29 06:36:20,539 INFO image_writer.py:193 - writing: /workspace/monai-bundle-demo-covid19-lung-segmentation/out/volume-covid19-A-0264/volume-covid19-A-0264_trans.nii.gz\n",
      "2022-11-29 06:36:21,898 INFO image_writer.py:193 - writing: /workspace/monai-bundle-demo-covid19-lung-segmentation/out/volume-covid19-A-0266/volume-covid19-A-0266_trans.nii.gz\n",
      "2022-11-29 06:36:24,071 INFO image_writer.py:193 - writing: /workspace/monai-bundle-demo-covid19-lung-segmentation/out/volume-covid19-A-0267/volume-covid19-A-0267_trans.nii.gz\n",
      "2022-11-29 06:36:24,452 INFO image_writer.py:193 - writing: /workspace/monai-bundle-demo-covid19-lung-segmentation/out/volume-covid19-A-0268/volume-covid19-A-0268_trans.nii.gz\n",
      "2022-11-29 06:36:25,440 INFO image_writer.py:193 - writing: /workspace/monai-bundle-demo-covid19-lung-segmentation/out/volume-covid19-A-0269/volume-covid19-A-0269_trans.nii.gz\n",
      "2022-11-29 06:36:26,539 INFO image_writer.py:193 - writing: /workspace/monai-bundle-demo-covid19-lung-segmentation/out/volume-covid19-A-0270/volume-covid19-A-0270_trans.nii.gz\n",
      "2022-11-29 06:36:27,071 INFO image_writer.py:193 - writing: /workspace/monai-bundle-demo-covid19-lung-segmentation/out/volume-covid19-A-0271/volume-covid19-A-0271_trans.nii.gz\n",
      "2022-11-29 06:36:28,458 INFO image_writer.py:193 - writing: /workspace/monai-bundle-demo-covid19-lung-segmentation/out/volume-covid19-A-0272/volume-covid19-A-0272_trans.nii.gz\n",
      "2022-11-29 06:36:29,006 INFO image_writer.py:193 - writing: /workspace/monai-bundle-demo-covid19-lung-segmentation/out/volume-covid19-A-0273/volume-covid19-A-0273_trans.nii.gz\n",
      "2022-11-29 06:36:29,907 INFO image_writer.py:193 - writing: /workspace/monai-bundle-demo-covid19-lung-segmentation/out/volume-covid19-A-0274/volume-covid19-A-0274_trans.nii.gz\n",
      "2022-11-29 06:36:30,740 INFO image_writer.py:193 - writing: /workspace/monai-bundle-demo-covid19-lung-segmentation/out/volume-covid19-A-0275/volume-covid19-A-0275_trans.nii.gz\n",
      "2022-11-29 06:36:31,575 INFO image_writer.py:193 - writing: /workspace/monai-bundle-demo-covid19-lung-segmentation/out/volume-covid19-A-0276/volume-covid19-A-0276_trans.nii.gz\n",
      "2022-11-29 06:36:32,398 INFO image_writer.py:193 - writing: /workspace/monai-bundle-demo-covid19-lung-segmentation/out/volume-covid19-A-0277/volume-covid19-A-0277_trans.nii.gz\n",
      "2022-11-29 06:36:33,742 INFO image_writer.py:193 - writing: /workspace/monai-bundle-demo-covid19-lung-segmentation/out/volume-covid19-A-0279/volume-covid19-A-0279_trans.nii.gz\n",
      "2022-11-29 06:36:34,579 INFO image_writer.py:193 - writing: /workspace/monai-bundle-demo-covid19-lung-segmentation/out/volume-covid19-A-0280/volume-covid19-A-0280_trans.nii.gz\n",
      "2022-11-29 06:36:37,088 INFO image_writer.py:193 - writing: /workspace/monai-bundle-demo-covid19-lung-segmentation/out/volume-covid19-A-0281/volume-covid19-A-0281_trans.nii.gz\n",
      "2022-11-29 06:36:38,454 INFO image_writer.py:193 - writing: /workspace/monai-bundle-demo-covid19-lung-segmentation/out/volume-covid19-A-0282/volume-covid19-A-0282_trans.nii.gz\n",
      "2022-11-29 06:36:39,838 INFO image_writer.py:193 - writing: /workspace/monai-bundle-demo-covid19-lung-segmentation/out/volume-covid19-A-0284/volume-covid19-A-0284_trans.nii.gz\n",
      "2022-11-29 06:36:41,262 INFO image_writer.py:193 - writing: /workspace/monai-bundle-demo-covid19-lung-segmentation/out/volume-covid19-A-0285/volume-covid19-A-0285_trans.nii.gz\n",
      "2022-11-29 06:36:42,107 INFO image_writer.py:193 - writing: /workspace/monai-bundle-demo-covid19-lung-segmentation/out/volume-covid19-A-0286/volume-covid19-A-0286_trans.nii.gz\n",
      "2022-11-29 06:36:42,952 INFO image_writer.py:193 - writing: /workspace/monai-bundle-demo-covid19-lung-segmentation/out/volume-covid19-A-0287_0/volume-covid19-A-0287_0_trans.nii.gz\n",
      "2022-11-29 06:36:43,761 INFO image_writer.py:193 - writing: /workspace/monai-bundle-demo-covid19-lung-segmentation/out/volume-covid19-A-0287_1/volume-covid19-A-0287_1_trans.nii.gz\n",
      "2022-11-29 06:36:45,907 INFO image_writer.py:193 - writing: /workspace/monai-bundle-demo-covid19-lung-segmentation/out/volume-covid19-A-0288/volume-covid19-A-0288_trans.nii.gz\n",
      "2022-11-29 06:36:46,745 INFO image_writer.py:193 - writing: /workspace/monai-bundle-demo-covid19-lung-segmentation/out/volume-covid19-A-0289/volume-covid19-A-0289_trans.nii.gz\n",
      "2022-11-29 06:36:47,571 INFO image_writer.py:193 - writing: /workspace/monai-bundle-demo-covid19-lung-segmentation/out/volume-covid19-A-0290/volume-covid19-A-0290_trans.nii.gz\n",
      "2022-11-29 06:36:48,412 INFO image_writer.py:193 - writing: /workspace/monai-bundle-demo-covid19-lung-segmentation/out/volume-covid19-A-0291_0/volume-covid19-A-0291_0_trans.nii.gz\n",
      "2022-11-29 06:36:49,275 INFO image_writer.py:193 - writing: /workspace/monai-bundle-demo-covid19-lung-segmentation/out/volume-covid19-A-0291_1/volume-covid19-A-0291_1_trans.nii.gz\n",
      "2022-11-29 06:36:50,637 INFO image_writer.py:193 - writing: /workspace/monai-bundle-demo-covid19-lung-segmentation/out/volume-covid19-A-0293/volume-covid19-A-0293_trans.nii.gz\n",
      "2022-11-29 06:36:52,017 INFO image_writer.py:193 - writing: /workspace/monai-bundle-demo-covid19-lung-segmentation/out/volume-covid19-A-0294/volume-covid19-A-0294_trans.nii.gz\n",
      "2022-11-29 06:36:52,830 INFO image_writer.py:193 - writing: /workspace/monai-bundle-demo-covid19-lung-segmentation/out/volume-covid19-A-0295/volume-covid19-A-0295_trans.nii.gz\n",
      "2022-11-29 06:36:54,147 INFO image_writer.py:193 - writing: /workspace/monai-bundle-demo-covid19-lung-segmentation/out/volume-covid19-A-0296/volume-covid19-A-0296_trans.nii.gz\n",
      "2022-11-29 06:36:55,498 INFO image_writer.py:193 - writing: /workspace/monai-bundle-demo-covid19-lung-segmentation/out/volume-covid19-A-0297/volume-covid19-A-0297_trans.nii.gz\n",
      "2022-11-29 06:36:56,383 INFO image_writer.py:193 - writing: /workspace/monai-bundle-demo-covid19-lung-segmentation/out/volume-covid19-A-0298/volume-covid19-A-0298_trans.nii.gz\n",
      "2022-11-29 06:36:57,190 INFO image_writer.py:193 - writing: /workspace/monai-bundle-demo-covid19-lung-segmentation/out/volume-covid19-A-0299/volume-covid19-A-0299_trans.nii.gz\n",
      "2022-11-29 06:36:57,987 INFO image_writer.py:193 - writing: /workspace/monai-bundle-demo-covid19-lung-segmentation/out/volume-covid19-A-0300/volume-covid19-A-0300_trans.nii.gz\n",
      "2022-11-29 06:36:59,322 INFO image_writer.py:193 - writing: /workspace/monai-bundle-demo-covid19-lung-segmentation/out/volume-covid19-A-0301/volume-covid19-A-0301_trans.nii.gz\n",
      "2022-11-29 06:37:00,148 INFO image_writer.py:193 - writing: /workspace/monai-bundle-demo-covid19-lung-segmentation/out/volume-covid19-A-0302/volume-covid19-A-0302_trans.nii.gz\n",
      "2022-11-29 06:37:01,230 INFO image_writer.py:193 - writing: /workspace/monai-bundle-demo-covid19-lung-segmentation/out/volume-covid19-A-0303_0/volume-covid19-A-0303_0_trans.nii.gz\n",
      "2022-11-29 06:37:02,335 INFO image_writer.py:193 - writing: /workspace/monai-bundle-demo-covid19-lung-segmentation/out/volume-covid19-A-0303_1/volume-covid19-A-0303_1_trans.nii.gz\n",
      "2022-11-29 06:37:03,686 INFO image_writer.py:193 - writing: /workspace/monai-bundle-demo-covid19-lung-segmentation/out/volume-covid19-A-0304/volume-covid19-A-0304_trans.nii.gz\n",
      "2022-11-29 06:37:05,050 INFO image_writer.py:193 - writing: /workspace/monai-bundle-demo-covid19-lung-segmentation/out/volume-covid19-A-0305/volume-covid19-A-0305_trans.nii.gz\n",
      "2022-11-29 06:37:06,419 INFO image_writer.py:193 - writing: /workspace/monai-bundle-demo-covid19-lung-segmentation/out/volume-covid19-A-0306/volume-covid19-A-0306_trans.nii.gz\n",
      "2022-11-29 06:37:07,771 INFO image_writer.py:193 - writing: /workspace/monai-bundle-demo-covid19-lung-segmentation/out/volume-covid19-A-0307/volume-covid19-A-0307_trans.nii.gz\n",
      "2022-11-29 06:37:08,583 INFO image_writer.py:193 - writing: /workspace/monai-bundle-demo-covid19-lung-segmentation/out/volume-covid19-A-0308/volume-covid19-A-0308_trans.nii.gz\n",
      "2022-11-29 06:37:09,930 INFO image_writer.py:193 - writing: /workspace/monai-bundle-demo-covid19-lung-segmentation/out/volume-covid19-A-0309/volume-covid19-A-0309_trans.nii.gz\n",
      "2022-11-29 06:37:10,749 INFO image_writer.py:193 - writing: /workspace/monai-bundle-demo-covid19-lung-segmentation/out/volume-covid19-A-0310/volume-covid19-A-0310_trans.nii.gz\n",
      "2022-11-29 06:37:11,566 INFO image_writer.py:193 - writing: /workspace/monai-bundle-demo-covid19-lung-segmentation/out/volume-covid19-A-0311/volume-covid19-A-0311_trans.nii.gz\n",
      "2022-11-29 06:37:12,879 INFO image_writer.py:193 - writing: /workspace/monai-bundle-demo-covid19-lung-segmentation/out/volume-covid19-A-0313/volume-covid19-A-0313_trans.nii.gz\n",
      "2022-11-29 06:37:13,694 INFO image_writer.py:193 - writing: /workspace/monai-bundle-demo-covid19-lung-segmentation/out/volume-covid19-A-0314/volume-covid19-A-0314_trans.nii.gz\n",
      "2022-11-29 06:37:14,989 INFO image_writer.py:193 - writing: /workspace/monai-bundle-demo-covid19-lung-segmentation/out/volume-covid19-A-0315/volume-covid19-A-0315_trans.nii.gz\n",
      "2022-11-29 06:37:16,288 INFO image_writer.py:193 - writing: /workspace/monai-bundle-demo-covid19-lung-segmentation/out/volume-covid19-A-0316/volume-covid19-A-0316_trans.nii.gz\n",
      "2022-11-29 06:37:17,088 INFO image_writer.py:193 - writing: /workspace/monai-bundle-demo-covid19-lung-segmentation/out/volume-covid19-A-0318_0/volume-covid19-A-0318_0_trans.nii.gz\n",
      "2022-11-29 06:37:17,926 INFO image_writer.py:193 - writing: /workspace/monai-bundle-demo-covid19-lung-segmentation/out/volume-covid19-A-0318_1/volume-covid19-A-0318_1_trans.nii.gz\n",
      "2022-11-29 06:37:18,722 INFO image_writer.py:193 - writing: /workspace/monai-bundle-demo-covid19-lung-segmentation/out/volume-covid19-A-0319/volume-covid19-A-0319_trans.nii.gz\n",
      "2022-11-29 06:37:20,034 INFO image_writer.py:193 - writing: /workspace/monai-bundle-demo-covid19-lung-segmentation/out/volume-covid19-A-0320/volume-covid19-A-0320_trans.nii.gz\n",
      "2022-11-29 06:37:21,383 INFO image_writer.py:193 - writing: /workspace/monai-bundle-demo-covid19-lung-segmentation/out/volume-covid19-A-0321/volume-covid19-A-0321_trans.nii.gz\n",
      "2022-11-29 06:37:21,754 INFO image_writer.py:193 - writing: /workspace/monai-bundle-demo-covid19-lung-segmentation/out/volume-covid19-A-0323/volume-covid19-A-0323_trans.nii.gz\n",
      "2022-11-29 06:37:22,801 INFO image_writer.py:193 - writing: /workspace/monai-bundle-demo-covid19-lung-segmentation/out/volume-covid19-A-0324/volume-covid19-A-0324_trans.nii.gz\n",
      "2022-11-29 06:37:23,609 INFO image_writer.py:193 - writing: /workspace/monai-bundle-demo-covid19-lung-segmentation/out/volume-covid19-A-0325/volume-covid19-A-0325_trans.nii.gz\n",
      "2022-11-29 06:37:24,465 INFO image_writer.py:193 - writing: /workspace/monai-bundle-demo-covid19-lung-segmentation/out/volume-covid19-A-0326/volume-covid19-A-0326_trans.nii.gz\n",
      "2022-11-29 06:37:25,809 INFO image_writer.py:193 - writing: /workspace/monai-bundle-demo-covid19-lung-segmentation/out/volume-covid19-A-0327/volume-covid19-A-0327_trans.nii.gz\n",
      "2022-11-29 06:37:26,629 INFO image_writer.py:193 - writing: /workspace/monai-bundle-demo-covid19-lung-segmentation/out/volume-covid19-A-0328/volume-covid19-A-0328_trans.nii.gz\n",
      "2022-11-29 06:37:27,905 INFO image_writer.py:193 - writing: /workspace/monai-bundle-demo-covid19-lung-segmentation/out/volume-covid19-A-0329/volume-covid19-A-0329_trans.nii.gz\n",
      "2022-11-29 06:37:28,685 INFO image_writer.py:193 - writing: /workspace/monai-bundle-demo-covid19-lung-segmentation/out/volume-covid19-A-0330/volume-covid19-A-0330_trans.nii.gz\n",
      "2022-11-29 06:37:29,983 INFO image_writer.py:193 - writing: /workspace/monai-bundle-demo-covid19-lung-segmentation/out/volume-covid19-A-0331/volume-covid19-A-0331_trans.nii.gz\n",
      "2022-11-29 06:37:31,333 INFO image_writer.py:193 - writing: /workspace/monai-bundle-demo-covid19-lung-segmentation/out/volume-covid19-A-0332/volume-covid19-A-0332_trans.nii.gz\n",
      "2022-11-29 06:37:32,147 INFO image_writer.py:193 - writing: /workspace/monai-bundle-demo-covid19-lung-segmentation/out/volume-covid19-A-0333/volume-covid19-A-0333_trans.nii.gz\n",
      "2022-11-29 06:37:32,965 INFO image_writer.py:193 - writing: /workspace/monai-bundle-demo-covid19-lung-segmentation/out/volume-covid19-A-0335/volume-covid19-A-0335_trans.nii.gz\n",
      "2022-11-29 06:37:33,776 INFO image_writer.py:193 - writing: /workspace/monai-bundle-demo-covid19-lung-segmentation/out/volume-covid19-A-0336/volume-covid19-A-0336_trans.nii.gz\n",
      "2022-11-29 06:37:35,135 INFO image_writer.py:193 - writing: /workspace/monai-bundle-demo-covid19-lung-segmentation/out/volume-covid19-A-0337/volume-covid19-A-0337_trans.nii.gz\n",
      "2022-11-29 06:37:36,486 INFO image_writer.py:193 - writing: /workspace/monai-bundle-demo-covid19-lung-segmentation/out/volume-covid19-A-0338/volume-covid19-A-0338_trans.nii.gz\n",
      "2022-11-29 06:37:37,332 INFO image_writer.py:193 - writing: /workspace/monai-bundle-demo-covid19-lung-segmentation/out/volume-covid19-A-0339/volume-covid19-A-0339_trans.nii.gz\n",
      "2022-11-29 06:37:38,156 INFO image_writer.py:193 - writing: /workspace/monai-bundle-demo-covid19-lung-segmentation/out/volume-covid19-A-0340/volume-covid19-A-0340_trans.nii.gz\n",
      "2022-11-29 06:37:39,510 INFO image_writer.py:193 - writing: /workspace/monai-bundle-demo-covid19-lung-segmentation/out/volume-covid19-A-0341/volume-covid19-A-0341_trans.nii.gz\n",
      "2022-11-29 06:37:40,395 INFO image_writer.py:193 - writing: /workspace/monai-bundle-demo-covid19-lung-segmentation/out/volume-covid19-A-0342/volume-covid19-A-0342_trans.nii.gz\n",
      "2022-11-29 06:37:42,575 INFO image_writer.py:193 - writing: /workspace/monai-bundle-demo-covid19-lung-segmentation/out/volume-covid19-A-0343/volume-covid19-A-0343_trans.nii.gz\n",
      "2022-11-29 06:37:43,412 INFO image_writer.py:193 - writing: /workspace/monai-bundle-demo-covid19-lung-segmentation/out/volume-covid19-A-0344/volume-covid19-A-0344_trans.nii.gz\n",
      "2022-11-29 06:37:44,218 INFO image_writer.py:193 - writing: /workspace/monai-bundle-demo-covid19-lung-segmentation/out/volume-covid19-A-0345/volume-covid19-A-0345_trans.nii.gz\n",
      "2022-11-29 06:37:45,571 INFO image_writer.py:193 - writing: /workspace/monai-bundle-demo-covid19-lung-segmentation/out/volume-covid19-A-0346/volume-covid19-A-0346_trans.nii.gz\n",
      "2022-11-29 06:37:46,932 INFO image_writer.py:193 - writing: /workspace/monai-bundle-demo-covid19-lung-segmentation/out/volume-covid19-A-0347/volume-covid19-A-0347_trans.nii.gz\n",
      "2022-11-29 06:37:47,766 INFO image_writer.py:193 - writing: /workspace/monai-bundle-demo-covid19-lung-segmentation/out/volume-covid19-A-0348/volume-covid19-A-0348_trans.nii.gz\n",
      "2022-11-29 06:37:49,383 INFO image_writer.py:193 - writing: /workspace/monai-bundle-demo-covid19-lung-segmentation/out/volume-covid19-A-0349/volume-covid19-A-0349_trans.nii.gz\n",
      "2022-11-29 06:37:50,185 INFO image_writer.py:193 - writing: /workspace/monai-bundle-demo-covid19-lung-segmentation/out/volume-covid19-A-0350/volume-covid19-A-0350_trans.nii.gz\n",
      "2022-11-29 06:37:50,993 INFO image_writer.py:193 - writing: /workspace/monai-bundle-demo-covid19-lung-segmentation/out/volume-covid19-A-0351/volume-covid19-A-0351_trans.nii.gz\n",
      "2022-11-29 06:37:52,326 INFO image_writer.py:193 - writing: /workspace/monai-bundle-demo-covid19-lung-segmentation/out/volume-covid19-A-0352/volume-covid19-A-0352_trans.nii.gz\n",
      "2022-11-29 06:37:53,167 INFO image_writer.py:193 - writing: /workspace/monai-bundle-demo-covid19-lung-segmentation/out/volume-covid19-A-0353/volume-covid19-A-0353_trans.nii.gz\n",
      "2022-11-29 06:37:54,002 INFO image_writer.py:193 - writing: /workspace/monai-bundle-demo-covid19-lung-segmentation/out/volume-covid19-A-0354/volume-covid19-A-0354_trans.nii.gz\n",
      "2022-11-29 06:37:55,337 INFO image_writer.py:193 - writing: /workspace/monai-bundle-demo-covid19-lung-segmentation/out/volume-covid19-A-0355/volume-covid19-A-0355_trans.nii.gz\n",
      "2022-11-29 06:37:56,727 INFO image_writer.py:193 - writing: /workspace/monai-bundle-demo-covid19-lung-segmentation/out/volume-covid19-A-0356/volume-covid19-A-0356_trans.nii.gz\n",
      "2022-11-29 06:37:58,129 INFO image_writer.py:193 - writing: /workspace/monai-bundle-demo-covid19-lung-segmentation/out/volume-covid19-A-0357/volume-covid19-A-0357_trans.nii.gz\n",
      "2022-11-29 06:37:59,015 INFO image_writer.py:193 - writing: /workspace/monai-bundle-demo-covid19-lung-segmentation/out/volume-covid19-A-0358/volume-covid19-A-0358_trans.nii.gz\n",
      "2022-11-29 06:38:00,230 INFO image_writer.py:193 - writing: /workspace/monai-bundle-demo-covid19-lung-segmentation/out/volume-covid19-A-0359/volume-covid19-A-0359_trans.nii.gz\n",
      "2022-11-29 06:38:01,024 INFO image_writer.py:193 - writing: /workspace/monai-bundle-demo-covid19-lung-segmentation/out/volume-covid19-A-0360/volume-covid19-A-0360_trans.nii.gz\n",
      "2022-11-29 06:38:02,358 INFO image_writer.py:193 - writing: /workspace/monai-bundle-demo-covid19-lung-segmentation/out/volume-covid19-A-0361/volume-covid19-A-0361_trans.nii.gz\n",
      "2022-11-29 06:38:03,170 INFO image_writer.py:193 - writing: /workspace/monai-bundle-demo-covid19-lung-segmentation/out/volume-covid19-A-0362/volume-covid19-A-0362_trans.nii.gz\n",
      "2022-11-29 06:38:03,995 INFO image_writer.py:193 - writing: /workspace/monai-bundle-demo-covid19-lung-segmentation/out/volume-covid19-A-0363/volume-covid19-A-0363_trans.nii.gz\n",
      "2022-11-29 06:38:05,098 INFO image_writer.py:193 - writing: /workspace/monai-bundle-demo-covid19-lung-segmentation/out/volume-covid19-A-0365/volume-covid19-A-0365_trans.nii.gz\n",
      "2022-11-29 06:38:06,730 INFO image_writer.py:193 - writing: /workspace/monai-bundle-demo-covid19-lung-segmentation/out/volume-covid19-A-0366/volume-covid19-A-0366_trans.nii.gz\n",
      "2022-11-29 06:38:08,120 INFO image_writer.py:193 - writing: /workspace/monai-bundle-demo-covid19-lung-segmentation/out/volume-covid19-A-0367/volume-covid19-A-0367_trans.nii.gz\n",
      "2022-11-29 06:38:08,969 INFO image_writer.py:193 - writing: /workspace/monai-bundle-demo-covid19-lung-segmentation/out/volume-covid19-A-0369_0/volume-covid19-A-0369_0_trans.nii.gz\n",
      "2022-11-29 06:38:09,811 INFO image_writer.py:193 - writing: /workspace/monai-bundle-demo-covid19-lung-segmentation/out/volume-covid19-A-0369_1/volume-covid19-A-0369_1_trans.nii.gz\n",
      "2022-11-29 06:38:11,439 INFO image_writer.py:193 - writing: /workspace/monai-bundle-demo-covid19-lung-segmentation/out/volume-covid19-A-0370/volume-covid19-A-0370_trans.nii.gz\n",
      "2022-11-29 06:38:12,257 INFO image_writer.py:193 - writing: /workspace/monai-bundle-demo-covid19-lung-segmentation/out/volume-covid19-A-0371/volume-covid19-A-0371_trans.nii.gz\n",
      "2022-11-29 06:38:13,021 INFO image_writer.py:193 - writing: /workspace/monai-bundle-demo-covid19-lung-segmentation/out/volume-covid19-A-0372/volume-covid19-A-0372_trans.nii.gz\n",
      "2022-11-29 06:38:13,854 INFO image_writer.py:193 - writing: /workspace/monai-bundle-demo-covid19-lung-segmentation/out/volume-covid19-A-0373/volume-covid19-A-0373_trans.nii.gz\n",
      "2022-11-29 06:38:14,644 INFO image_writer.py:193 - writing: /workspace/monai-bundle-demo-covid19-lung-segmentation/out/volume-covid19-A-0374/volume-covid19-A-0374_trans.nii.gz\n",
      "2022-11-29 06:38:16,879 INFO image_writer.py:193 - writing: /workspace/monai-bundle-demo-covid19-lung-segmentation/out/volume-covid19-A-0375/volume-covid19-A-0375_trans.nii.gz\n",
      "2022-11-29 06:38:17,711 INFO image_writer.py:193 - writing: /workspace/monai-bundle-demo-covid19-lung-segmentation/out/volume-covid19-A-0376/volume-covid19-A-0376_trans.nii.gz\n",
      "2022-11-29 06:38:18,577 INFO image_writer.py:193 - writing: /workspace/monai-bundle-demo-covid19-lung-segmentation/out/volume-covid19-A-0377/volume-covid19-A-0377_trans.nii.gz\n",
      "2022-11-29 06:38:19,349 INFO image_writer.py:193 - writing: /workspace/monai-bundle-demo-covid19-lung-segmentation/out/volume-covid19-A-0378/volume-covid19-A-0378_trans.nii.gz\n",
      "2022-11-29 06:38:20,159 INFO image_writer.py:193 - writing: /workspace/monai-bundle-demo-covid19-lung-segmentation/out/volume-covid19-A-0380/volume-covid19-A-0380_trans.nii.gz\n",
      "2022-11-29 06:38:21,014 INFO image_writer.py:193 - writing: /workspace/monai-bundle-demo-covid19-lung-segmentation/out/volume-covid19-A-0381_0/volume-covid19-A-0381_0_trans.nii.gz\n",
      "2022-11-29 06:38:21,836 INFO image_writer.py:193 - writing: /workspace/monai-bundle-demo-covid19-lung-segmentation/out/volume-covid19-A-0381_1/volume-covid19-A-0381_1_trans.nii.gz\n",
      "2022-11-29 06:38:22,664 INFO image_writer.py:193 - writing: /workspace/monai-bundle-demo-covid19-lung-segmentation/out/volume-covid19-A-0382/volume-covid19-A-0382_trans.nii.gz\n",
      "2022-11-29 06:38:23,892 INFO image_writer.py:193 - writing: /workspace/monai-bundle-demo-covid19-lung-segmentation/out/volume-covid19-A-0383_0/volume-covid19-A-0383_0_trans.nii.gz\n",
      "2022-11-29 06:38:24,732 INFO image_writer.py:193 - writing: /workspace/monai-bundle-demo-covid19-lung-segmentation/out/volume-covid19-A-0383_1/volume-covid19-A-0383_1_trans.nii.gz\n",
      "2022-11-29 06:38:26,026 INFO image_writer.py:193 - writing: /workspace/monai-bundle-demo-covid19-lung-segmentation/out/volume-covid19-A-0384/volume-covid19-A-0384_trans.nii.gz\n",
      "2022-11-29 06:38:28,158 INFO image_writer.py:193 - writing: /workspace/monai-bundle-demo-covid19-lung-segmentation/out/volume-covid19-A-0385/volume-covid19-A-0385_trans.nii.gz\n",
      "2022-11-29 06:38:28,963 INFO image_writer.py:193 - writing: /workspace/monai-bundle-demo-covid19-lung-segmentation/out/volume-covid19-A-0386/volume-covid19-A-0386_trans.nii.gz\n",
      "2022-11-29 06:38:29,775 INFO image_writer.py:193 - writing: /workspace/monai-bundle-demo-covid19-lung-segmentation/out/volume-covid19-A-0387/volume-covid19-A-0387_trans.nii.gz\n",
      "2022-11-29 06:38:31,972 INFO image_writer.py:193 - writing: /workspace/monai-bundle-demo-covid19-lung-segmentation/out/volume-covid19-A-0388/volume-covid19-A-0388_trans.nii.gz\n",
      "2022-11-29 06:38:32,798 INFO image_writer.py:193 - writing: /workspace/monai-bundle-demo-covid19-lung-segmentation/out/volume-covid19-A-0390/volume-covid19-A-0390_trans.nii.gz\n",
      "2022-11-29 06:38:34,161 INFO image_writer.py:193 - writing: /workspace/monai-bundle-demo-covid19-lung-segmentation/out/volume-covid19-A-0391/volume-covid19-A-0391_trans.nii.gz\n",
      "2022-11-29 06:38:34,975 INFO image_writer.py:193 - writing: /workspace/monai-bundle-demo-covid19-lung-segmentation/out/volume-covid19-A-0392/volume-covid19-A-0392_trans.nii.gz\n",
      "2022-11-29 06:38:35,751 INFO image_writer.py:193 - writing: /workspace/monai-bundle-demo-covid19-lung-segmentation/out/volume-covid19-A-0393/volume-covid19-A-0393_trans.nii.gz\n",
      "2022-11-29 06:38:36,596 INFO image_writer.py:193 - writing: /workspace/monai-bundle-demo-covid19-lung-segmentation/out/volume-covid19-A-0394/volume-covid19-A-0394_trans.nii.gz\n",
      "2022-11-29 06:38:37,396 INFO image_writer.py:193 - writing: /workspace/monai-bundle-demo-covid19-lung-segmentation/out/volume-covid19-A-0396/volume-covid19-A-0396_trans.nii.gz\n",
      "2022-11-29 06:38:39,633 INFO image_writer.py:193 - writing: /workspace/monai-bundle-demo-covid19-lung-segmentation/out/volume-covid19-A-0397/volume-covid19-A-0397_trans.nii.gz\n",
      "2022-11-29 06:38:41,812 INFO image_writer.py:193 - writing: /workspace/monai-bundle-demo-covid19-lung-segmentation/out/volume-covid19-A-0398/volume-covid19-A-0398_trans.nii.gz\n",
      "2022-11-29 06:38:42,624 INFO image_writer.py:193 - writing: /workspace/monai-bundle-demo-covid19-lung-segmentation/out/volume-covid19-A-0400/volume-covid19-A-0400_trans.nii.gz\n",
      "2022-11-29 06:38:43,439 INFO image_writer.py:193 - writing: /workspace/monai-bundle-demo-covid19-lung-segmentation/out/volume-covid19-A-0401/volume-covid19-A-0401_trans.nii.gz\n",
      "2022-11-29 06:38:44,572 INFO image_writer.py:193 - writing: /workspace/monai-bundle-demo-covid19-lung-segmentation/out/volume-covid19-A-0402/volume-covid19-A-0402_trans.nii.gz\n",
      "2022-11-29 06:38:45,431 INFO image_writer.py:193 - writing: /workspace/monai-bundle-demo-covid19-lung-segmentation/out/volume-covid19-A-0403/volume-covid19-A-0403_trans.nii.gz\n",
      "2022-11-29 06:38:46,300 INFO image_writer.py:193 - writing: /workspace/monai-bundle-demo-covid19-lung-segmentation/out/volume-covid19-A-0404/volume-covid19-A-0404_trans.nii.gz\n",
      "2022-11-29 06:38:47,085 INFO image_writer.py:193 - writing: /workspace/monai-bundle-demo-covid19-lung-segmentation/out/volume-covid19-A-0405/volume-covid19-A-0405_trans.nii.gz\n",
      "2022-11-29 06:38:48,992 INFO image_writer.py:193 - writing: /workspace/monai-bundle-demo-covid19-lung-segmentation/out/volume-covid19-A-0406/volume-covid19-A-0406_trans.nii.gz\n",
      "2022-11-29 06:38:49,951 INFO image_writer.py:193 - writing: /workspace/monai-bundle-demo-covid19-lung-segmentation/out/volume-covid19-A-0407/volume-covid19-A-0407_trans.nii.gz\n",
      "2022-11-29 06:38:51,289 INFO image_writer.py:193 - writing: /workspace/monai-bundle-demo-covid19-lung-segmentation/out/volume-covid19-A-0408/volume-covid19-A-0408_trans.nii.gz\n",
      "2022-11-29 06:38:52,149 INFO image_writer.py:193 - writing: /workspace/monai-bundle-demo-covid19-lung-segmentation/out/volume-covid19-A-0409/volume-covid19-A-0409_trans.nii.gz\n",
      "2022-11-29 06:38:53,011 INFO image_writer.py:193 - writing: /workspace/monai-bundle-demo-covid19-lung-segmentation/out/volume-covid19-A-0410/volume-covid19-A-0410_trans.nii.gz\n",
      "2022-11-29 06:38:53,879 INFO image_writer.py:193 - writing: /workspace/monai-bundle-demo-covid19-lung-segmentation/out/volume-covid19-A-0411/volume-covid19-A-0411_trans.nii.gz\n",
      "2022-11-29 06:38:54,734 INFO image_writer.py:193 - writing: /workspace/monai-bundle-demo-covid19-lung-segmentation/out/volume-covid19-A-0412/volume-covid19-A-0412_trans.nii.gz\n",
      "2022-11-29 06:38:55,567 INFO image_writer.py:193 - writing: /workspace/monai-bundle-demo-covid19-lung-segmentation/out/volume-covid19-A-0413/volume-covid19-A-0413_trans.nii.gz\n",
      "2022-11-29 06:38:57,773 INFO image_writer.py:193 - writing: /workspace/monai-bundle-demo-covid19-lung-segmentation/out/volume-covid19-A-0414/volume-covid19-A-0414_trans.nii.gz\n",
      "2022-11-29 06:38:58,672 INFO image_writer.py:193 - writing: /workspace/monai-bundle-demo-covid19-lung-segmentation/out/volume-covid19-A-0415/volume-covid19-A-0415_trans.nii.gz\n",
      "2022-11-29 06:38:59,486 INFO image_writer.py:193 - writing: /workspace/monai-bundle-demo-covid19-lung-segmentation/out/volume-covid19-A-0416/volume-covid19-A-0416_trans.nii.gz\n",
      "2022-11-29 06:39:00,810 INFO image_writer.py:193 - writing: /workspace/monai-bundle-demo-covid19-lung-segmentation/out/volume-covid19-A-0417/volume-covid19-A-0417_trans.nii.gz\n",
      "2022-11-29 06:39:01,611 INFO image_writer.py:193 - writing: /workspace/monai-bundle-demo-covid19-lung-segmentation/out/volume-covid19-A-0418/volume-covid19-A-0418_trans.nii.gz\n",
      "2022-11-29 06:39:02,434 INFO image_writer.py:193 - writing: /workspace/monai-bundle-demo-covid19-lung-segmentation/out/volume-covid19-A-0419/volume-covid19-A-0419_trans.nii.gz\n",
      "2022-11-29 06:39:03,791 INFO image_writer.py:193 - writing: /workspace/monai-bundle-demo-covid19-lung-segmentation/out/volume-covid19-A-0420/volume-covid19-A-0420_trans.nii.gz\n",
      "2022-11-29 06:39:04,605 INFO image_writer.py:193 - writing: /workspace/monai-bundle-demo-covid19-lung-segmentation/out/volume-covid19-A-0421/volume-covid19-A-0421_trans.nii.gz\n",
      "2022-11-29 06:39:05,448 INFO image_writer.py:193 - writing: /workspace/monai-bundle-demo-covid19-lung-segmentation/out/volume-covid19-A-0422/volume-covid19-A-0422_trans.nii.gz\n",
      "2022-11-29 06:39:06,276 INFO image_writer.py:193 - writing: /workspace/monai-bundle-demo-covid19-lung-segmentation/out/volume-covid19-A-0423/volume-covid19-A-0423_trans.nii.gz\n",
      "2022-11-29 06:39:07,601 INFO image_writer.py:193 - writing: /workspace/monai-bundle-demo-covid19-lung-segmentation/out/volume-covid19-A-0424/volume-covid19-A-0424_trans.nii.gz\n",
      "2022-11-29 06:39:08,367 INFO image_writer.py:193 - writing: /workspace/monai-bundle-demo-covid19-lung-segmentation/out/volume-covid19-A-0425/volume-covid19-A-0425_trans.nii.gz\n",
      "2022-11-29 06:39:08,906 INFO image_writer.py:193 - writing: /workspace/monai-bundle-demo-covid19-lung-segmentation/out/volume-covid19-A-0426/volume-covid19-A-0426_trans.nii.gz\n",
      "2022-11-29 06:39:10,261 INFO image_writer.py:193 - writing: /workspace/monai-bundle-demo-covid19-lung-segmentation/out/volume-covid19-A-0427/volume-covid19-A-0427_trans.nii.gz\n",
      "2022-11-29 06:39:10,779 INFO image_writer.py:193 - writing: /workspace/monai-bundle-demo-covid19-lung-segmentation/out/volume-covid19-A-0428/volume-covid19-A-0428_trans.nii.gz\n",
      "2022-11-29 06:39:11,569 INFO image_writer.py:193 - writing: /workspace/monai-bundle-demo-covid19-lung-segmentation/out/volume-covid19-A-0429/volume-covid19-A-0429_trans.nii.gz\n",
      "2022-11-29 06:39:12,414 INFO image_writer.py:193 - writing: /workspace/monai-bundle-demo-covid19-lung-segmentation/out/volume-covid19-A-0430/volume-covid19-A-0430_trans.nii.gz\n",
      "2022-11-29 06:39:12,964 INFO image_writer.py:193 - writing: /workspace/monai-bundle-demo-covid19-lung-segmentation/out/volume-covid19-A-0431/volume-covid19-A-0431_trans.nii.gz\n",
      "2022-11-29 06:39:13,929 INFO image_writer.py:193 - writing: /workspace/monai-bundle-demo-covid19-lung-segmentation/out/volume-covid19-A-0432/volume-covid19-A-0432_trans.nii.gz\n",
      "2022-11-29 06:39:14,733 INFO image_writer.py:193 - writing: /workspace/monai-bundle-demo-covid19-lung-segmentation/out/volume-covid19-A-0433/volume-covid19-A-0433_trans.nii.gz\n",
      "2022-11-29 06:39:15,552 INFO image_writer.py:193 - writing: /workspace/monai-bundle-demo-covid19-lung-segmentation/out/volume-covid19-A-0434/volume-covid19-A-0434_trans.nii.gz\n",
      "2022-11-29 06:39:16,345 INFO image_writer.py:193 - writing: /workspace/monai-bundle-demo-covid19-lung-segmentation/out/volume-covid19-A-0435/volume-covid19-A-0435_trans.nii.gz\n",
      "2022-11-29 06:39:16,680 INFO image_writer.py:193 - writing: /workspace/monai-bundle-demo-covid19-lung-segmentation/out/volume-covid19-A-0436/volume-covid19-A-0436_trans.nii.gz\n",
      "2022-11-29 06:39:17,506 INFO image_writer.py:193 - writing: /workspace/monai-bundle-demo-covid19-lung-segmentation/out/volume-covid19-A-0437/volume-covid19-A-0437_trans.nii.gz\n",
      "2022-11-29 06:39:18,274 INFO image_writer.py:193 - writing: /workspace/monai-bundle-demo-covid19-lung-segmentation/out/volume-covid19-A-0438/volume-covid19-A-0438_trans.nii.gz\n",
      "2022-11-29 06:39:19,298 INFO image_writer.py:193 - writing: /workspace/monai-bundle-demo-covid19-lung-segmentation/out/volume-covid19-A-0439/volume-covid19-A-0439_trans.nii.gz\n",
      "2022-11-29 06:39:20,623 INFO image_writer.py:193 - writing: /workspace/monai-bundle-demo-covid19-lung-segmentation/out/volume-covid19-A-0440/volume-covid19-A-0440_trans.nii.gz\n",
      "2022-11-29 06:39:21,171 INFO image_writer.py:193 - writing: /workspace/monai-bundle-demo-covid19-lung-segmentation/out/volume-covid19-A-0441/volume-covid19-A-0441_trans.nii.gz\n",
      "2022-11-29 06:39:22,006 INFO image_writer.py:193 - writing: /workspace/monai-bundle-demo-covid19-lung-segmentation/out/volume-covid19-A-0442/volume-covid19-A-0442_trans.nii.gz\n",
      "2022-11-29 06:39:23,342 INFO image_writer.py:193 - writing: /workspace/monai-bundle-demo-covid19-lung-segmentation/out/volume-covid19-A-0443/volume-covid19-A-0443_trans.nii.gz\n",
      "2022-11-29 06:39:24,186 INFO image_writer.py:193 - writing: /workspace/monai-bundle-demo-covid19-lung-segmentation/out/volume-covid19-A-0444/volume-covid19-A-0444_trans.nii.gz\n",
      "2022-11-29 06:39:24,992 INFO image_writer.py:193 - writing: /workspace/monai-bundle-demo-covid19-lung-segmentation/out/volume-covid19-A-0445/volume-covid19-A-0445_trans.nii.gz\n",
      "2022-11-29 06:39:26,236 INFO image_writer.py:193 - writing: /workspace/monai-bundle-demo-covid19-lung-segmentation/out/volume-covid19-A-0446/volume-covid19-A-0446_trans.nii.gz\n",
      "2022-11-29 06:39:27,578 INFO image_writer.py:193 - writing: /workspace/monai-bundle-demo-covid19-lung-segmentation/out/volume-covid19-A-0447/volume-covid19-A-0447_trans.nii.gz\n",
      "2022-11-29 06:39:29,870 INFO image_writer.py:193 - writing: /workspace/monai-bundle-demo-covid19-lung-segmentation/out/volume-covid19-A-0448/volume-covid19-A-0448_trans.nii.gz\n",
      "2022-11-29 06:39:31,234 INFO image_writer.py:193 - writing: /workspace/monai-bundle-demo-covid19-lung-segmentation/out/volume-covid19-A-0449/volume-covid19-A-0449_trans.nii.gz\n",
      "2022-11-29 06:39:31,796 INFO image_writer.py:193 - writing: /workspace/monai-bundle-demo-covid19-lung-segmentation/out/volume-covid19-A-0450/volume-covid19-A-0450_trans.nii.gz\n",
      "2022-11-29 06:39:33,280 INFO image_writer.py:193 - writing: /workspace/monai-bundle-demo-covid19-lung-segmentation/out/volume-covid19-A-0451/volume-covid19-A-0451_trans.nii.gz\n",
      "2022-11-29 06:39:34,625 INFO image_writer.py:193 - writing: /workspace/monai-bundle-demo-covid19-lung-segmentation/out/volume-covid19-A-0452/volume-covid19-A-0452_trans.nii.gz\n",
      "2022-11-29 06:39:35,462 INFO image_writer.py:193 - writing: /workspace/monai-bundle-demo-covid19-lung-segmentation/out/volume-covid19-A-0453/volume-covid19-A-0453_trans.nii.gz\n",
      "2022-11-29 06:39:36,558 INFO image_writer.py:193 - writing: /workspace/monai-bundle-demo-covid19-lung-segmentation/out/volume-covid19-A-0454/volume-covid19-A-0454_trans.nii.gz\n",
      "2022-11-29 06:39:37,907 INFO image_writer.py:193 - writing: /workspace/monai-bundle-demo-covid19-lung-segmentation/out/volume-covid19-A-0455/volume-covid19-A-0455_trans.nii.gz\n",
      "2022-11-29 06:39:38,764 INFO image_writer.py:193 - writing: /workspace/monai-bundle-demo-covid19-lung-segmentation/out/volume-covid19-A-0456/volume-covid19-A-0456_trans.nii.gz\n",
      "2022-11-29 06:39:39,172 INFO image_writer.py:193 - writing: /workspace/monai-bundle-demo-covid19-lung-segmentation/out/volume-covid19-A-0457/volume-covid19-A-0457_trans.nii.gz\n",
      "2022-11-29 06:39:40,807 INFO image_writer.py:193 - writing: /workspace/monai-bundle-demo-covid19-lung-segmentation/out/volume-covid19-A-0458/volume-covid19-A-0458_trans.nii.gz\n",
      "2022-11-29 06:39:41,617 INFO image_writer.py:193 - writing: /workspace/monai-bundle-demo-covid19-lung-segmentation/out/volume-covid19-A-0460/volume-covid19-A-0460_trans.nii.gz\n",
      "2022-11-29 06:39:42,501 INFO image_writer.py:193 - writing: /workspace/monai-bundle-demo-covid19-lung-segmentation/out/volume-covid19-A-0461/volume-covid19-A-0461_trans.nii.gz\n",
      "2022-11-29 06:39:43,340 INFO image_writer.py:193 - writing: /workspace/monai-bundle-demo-covid19-lung-segmentation/out/volume-covid19-A-0462/volume-covid19-A-0462_trans.nii.gz\n",
      "2022-11-29 06:39:43,889 INFO image_writer.py:193 - writing: /workspace/monai-bundle-demo-covid19-lung-segmentation/out/volume-covid19-A-0463/volume-covid19-A-0463_trans.nii.gz\n",
      "2022-11-29 06:39:44,793 INFO image_writer.py:193 - writing: /workspace/monai-bundle-demo-covid19-lung-segmentation/out/volume-covid19-A-0464/volume-covid19-A-0464_trans.nii.gz\n",
      "2022-11-29 06:39:46,158 INFO image_writer.py:193 - writing: /workspace/monai-bundle-demo-covid19-lung-segmentation/out/volume-covid19-A-0465/volume-covid19-A-0465_trans.nii.gz\n",
      "2022-11-29 06:39:46,983 INFO image_writer.py:193 - writing: /workspace/monai-bundle-demo-covid19-lung-segmentation/out/volume-covid19-A-0467/volume-covid19-A-0467_trans.nii.gz\n",
      "2022-11-29 06:39:47,816 INFO image_writer.py:193 - writing: /workspace/monai-bundle-demo-covid19-lung-segmentation/out/volume-covid19-A-0468/volume-covid19-A-0468_trans.nii.gz\n",
      "2022-11-29 06:39:49,130 INFO image_writer.py:193 - writing: /workspace/monai-bundle-demo-covid19-lung-segmentation/out/volume-covid19-A-0469/volume-covid19-A-0469_trans.nii.gz\n",
      "2022-11-29 06:39:50,736 INFO image_writer.py:193 - writing: /workspace/monai-bundle-demo-covid19-lung-segmentation/out/volume-covid19-A-0470/volume-covid19-A-0470_trans.nii.gz\n",
      "2022-11-29 06:39:51,565 INFO image_writer.py:193 - writing: /workspace/monai-bundle-demo-covid19-lung-segmentation/out/volume-covid19-A-0472/volume-covid19-A-0472_trans.nii.gz\n",
      "2022-11-29 06:39:52,096 INFO image_writer.py:193 - writing: /workspace/monai-bundle-demo-covid19-lung-segmentation/out/volume-covid19-A-0473/volume-covid19-A-0473_trans.nii.gz\n",
      "2022-11-29 06:39:53,560 INFO image_writer.py:193 - writing: /workspace/monai-bundle-demo-covid19-lung-segmentation/out/volume-covid19-A-0474/volume-covid19-A-0474_trans.nii.gz\n",
      "2022-11-29 06:39:54,434 INFO image_writer.py:193 - writing: /workspace/monai-bundle-demo-covid19-lung-segmentation/out/volume-covid19-A-0475/volume-covid19-A-0475_trans.nii.gz\n",
      "2022-11-29 06:39:55,298 INFO image_writer.py:193 - writing: /workspace/monai-bundle-demo-covid19-lung-segmentation/out/volume-covid19-A-0476/volume-covid19-A-0476_trans.nii.gz\n",
      "2022-11-29 06:39:56,176 INFO image_writer.py:193 - writing: /workspace/monai-bundle-demo-covid19-lung-segmentation/out/volume-covid19-A-0477/volume-covid19-A-0477_trans.nii.gz\n",
      "2022-11-29 06:39:57,231 INFO image_writer.py:193 - writing: /workspace/monai-bundle-demo-covid19-lung-segmentation/out/volume-covid19-A-0478/volume-covid19-A-0478_trans.nii.gz\n",
      "2022-11-29 06:39:57,804 INFO image_writer.py:193 - writing: /workspace/monai-bundle-demo-covid19-lung-segmentation/out/volume-covid19-A-0479/volume-covid19-A-0479_trans.nii.gz\n",
      "2022-11-29 06:39:59,265 INFO image_writer.py:193 - writing: /workspace/monai-bundle-demo-covid19-lung-segmentation/out/volume-covid19-A-0480/volume-covid19-A-0480_trans.nii.gz\n",
      "2022-11-29 06:40:00,629 INFO image_writer.py:193 - writing: /workspace/monai-bundle-demo-covid19-lung-segmentation/out/volume-covid19-A-0481/volume-covid19-A-0481_trans.nii.gz\n",
      "2022-11-29 06:40:02,007 INFO image_writer.py:193 - writing: /workspace/monai-bundle-demo-covid19-lung-segmentation/out/volume-covid19-A-0482/volume-covid19-A-0482_trans.nii.gz\n",
      "2022-11-29 06:40:03,376 INFO image_writer.py:193 - writing: /workspace/monai-bundle-demo-covid19-lung-segmentation/out/volume-covid19-A-0483/volume-covid19-A-0483_trans.nii.gz\n",
      "2022-11-29 06:40:04,231 INFO image_writer.py:193 - writing: /workspace/monai-bundle-demo-covid19-lung-segmentation/out/volume-covid19-A-0484/volume-covid19-A-0484_trans.nii.gz\n",
      "2022-11-29 06:40:05,593 INFO image_writer.py:193 - writing: /workspace/monai-bundle-demo-covid19-lung-segmentation/out/volume-covid19-A-0485/volume-covid19-A-0485_trans.nii.gz\n",
      "2022-11-29 06:40:07,778 INFO image_writer.py:193 - writing: /workspace/monai-bundle-demo-covid19-lung-segmentation/out/volume-covid19-A-0486/volume-covid19-A-0486_trans.nii.gz\n",
      "2022-11-29 06:40:09,166 INFO image_writer.py:193 - writing: /workspace/monai-bundle-demo-covid19-lung-segmentation/out/volume-covid19-A-0487/volume-covid19-A-0487_trans.nii.gz\n",
      "2022-11-29 06:40:09,977 INFO image_writer.py:193 - writing: /workspace/monai-bundle-demo-covid19-lung-segmentation/out/volume-covid19-A-0488/volume-covid19-A-0488_trans.nii.gz\n",
      "2022-11-29 06:40:11,276 INFO image_writer.py:193 - writing: /workspace/monai-bundle-demo-covid19-lung-segmentation/out/volume-covid19-A-0489/volume-covid19-A-0489_trans.nii.gz\n",
      "2022-11-29 06:40:12,122 INFO image_writer.py:193 - writing: /workspace/monai-bundle-demo-covid19-lung-segmentation/out/volume-covid19-A-0490/volume-covid19-A-0490_trans.nii.gz\n",
      "2022-11-29 06:40:12,963 INFO image_writer.py:193 - writing: /workspace/monai-bundle-demo-covid19-lung-segmentation/out/volume-covid19-A-0491/volume-covid19-A-0491_trans.nii.gz\n",
      "2022-11-29 06:40:14,066 INFO image_writer.py:193 - writing: /workspace/monai-bundle-demo-covid19-lung-segmentation/out/volume-covid19-A-0492/volume-covid19-A-0492_trans.nii.gz\n",
      "2022-11-29 06:40:15,410 INFO image_writer.py:193 - writing: /workspace/monai-bundle-demo-covid19-lung-segmentation/out/volume-covid19-A-0493/volume-covid19-A-0493_trans.nii.gz\n",
      "2022-11-29 06:40:16,244 INFO image_writer.py:193 - writing: /workspace/monai-bundle-demo-covid19-lung-segmentation/out/volume-covid19-A-0494/volume-covid19-A-0494_trans.nii.gz\n",
      "2022-11-29 06:40:17,092 INFO image_writer.py:193 - writing: /workspace/monai-bundle-demo-covid19-lung-segmentation/out/volume-covid19-A-0495/volume-covid19-A-0495_trans.nii.gz\n",
      "2022-11-29 06:40:17,901 INFO image_writer.py:193 - writing: /workspace/monai-bundle-demo-covid19-lung-segmentation/out/volume-covid19-A-0498/volume-covid19-A-0498_trans.nii.gz\n",
      "2022-11-29 06:40:18,663 INFO image_writer.py:193 - writing: /workspace/monai-bundle-demo-covid19-lung-segmentation/out/volume-covid19-A-0499/volume-covid19-A-0499_trans.nii.gz\n",
      "2022-11-29 06:40:20,022 INFO image_writer.py:193 - writing: /workspace/monai-bundle-demo-covid19-lung-segmentation/out/volume-covid19-A-0500/volume-covid19-A-0500_trans.nii.gz\n",
      "2022-11-29 06:40:20,875 INFO image_writer.py:193 - writing: /workspace/monai-bundle-demo-covid19-lung-segmentation/out/volume-covid19-A-0501/volume-covid19-A-0501_trans.nii.gz\n",
      "2022-11-29 06:40:22,241 INFO image_writer.py:193 - writing: /workspace/monai-bundle-demo-covid19-lung-segmentation/out/volume-covid19-A-0502/volume-covid19-A-0502_trans.nii.gz\n",
      "2022-11-29 06:40:23,093 INFO image_writer.py:193 - writing: /workspace/monai-bundle-demo-covid19-lung-segmentation/out/volume-covid19-A-0503/volume-covid19-A-0503_trans.nii.gz\n",
      "2022-11-29 06:40:25,344 INFO image_writer.py:193 - writing: /workspace/monai-bundle-demo-covid19-lung-segmentation/out/volume-covid19-A-0504/volume-covid19-A-0504_trans.nii.gz\n",
      "2022-11-29 06:40:26,762 INFO image_writer.py:193 - writing: /workspace/monai-bundle-demo-covid19-lung-segmentation/out/volume-covid19-A-0505/volume-covid19-A-0505_trans.nii.gz\n",
      "2022-11-29 06:40:27,291 INFO image_writer.py:193 - writing: /workspace/monai-bundle-demo-covid19-lung-segmentation/out/volume-covid19-A-0506/volume-covid19-A-0506_trans.nii.gz\n",
      "2022-11-29 06:40:28,668 INFO image_writer.py:193 - writing: /workspace/monai-bundle-demo-covid19-lung-segmentation/out/volume-covid19-A-0507/volume-covid19-A-0507_trans.nii.gz\n",
      "2022-11-29 06:40:29,521 INFO image_writer.py:193 - writing: /workspace/monai-bundle-demo-covid19-lung-segmentation/out/volume-covid19-A-0509/volume-covid19-A-0509_trans.nii.gz\n",
      "2022-11-29 06:40:30,843 INFO image_writer.py:193 - writing: /workspace/monai-bundle-demo-covid19-lung-segmentation/out/volume-covid19-A-0510/volume-covid19-A-0510_trans.nii.gz\n",
      "2022-11-29 06:40:31,377 INFO image_writer.py:193 - writing: /workspace/monai-bundle-demo-covid19-lung-segmentation/out/volume-covid19-A-0511/volume-covid19-A-0511_trans.nii.gz\n",
      "2022-11-29 06:40:32,148 INFO image_writer.py:193 - writing: /workspace/monai-bundle-demo-covid19-lung-segmentation/out/volume-covid19-A-0512/volume-covid19-A-0512_trans.nii.gz\n",
      "2022-11-29 06:40:32,648 INFO image_writer.py:193 - writing: /workspace/monai-bundle-demo-covid19-lung-segmentation/out/volume-covid19-A-0513/volume-covid19-A-0513_trans.nii.gz\n",
      "2022-11-29 06:40:33,468 INFO image_writer.py:193 - writing: /workspace/monai-bundle-demo-covid19-lung-segmentation/out/volume-covid19-A-0514/volume-covid19-A-0514_trans.nii.gz\n",
      "2022-11-29 06:40:34,271 INFO image_writer.py:193 - writing: /workspace/monai-bundle-demo-covid19-lung-segmentation/out/volume-covid19-A-0515/volume-covid19-A-0515_trans.nii.gz\n",
      "2022-11-29 06:40:35,104 INFO image_writer.py:193 - writing: /workspace/monai-bundle-demo-covid19-lung-segmentation/out/volume-covid19-A-0516/volume-covid19-A-0516_trans.nii.gz\n",
      "2022-11-29 06:40:36,477 INFO image_writer.py:193 - writing: /workspace/monai-bundle-demo-covid19-lung-segmentation/out/volume-covid19-A-0517/volume-covid19-A-0517_trans.nii.gz\n",
      "2022-11-29 06:40:37,862 INFO image_writer.py:193 - writing: /workspace/monai-bundle-demo-covid19-lung-segmentation/out/volume-covid19-A-0518/volume-covid19-A-0518_trans.nii.gz\n",
      "2022-11-29 06:40:38,405 INFO image_writer.py:193 - writing: /workspace/monai-bundle-demo-covid19-lung-segmentation/out/volume-covid19-A-0519/volume-covid19-A-0519_trans.nii.gz\n",
      "2022-11-29 06:40:39,246 INFO image_writer.py:193 - writing: /workspace/monai-bundle-demo-covid19-lung-segmentation/out/volume-covid19-A-0521/volume-covid19-A-0521_trans.nii.gz\n",
      "2022-11-29 06:40:40,081 INFO image_writer.py:193 - writing: /workspace/monai-bundle-demo-covid19-lung-segmentation/out/volume-covid19-A-0522/volume-covid19-A-0522_trans.nii.gz\n",
      "2022-11-29 06:40:40,496 INFO image_writer.py:193 - writing: /workspace/monai-bundle-demo-covid19-lung-segmentation/out/volume-covid19-A-0523/volume-covid19-A-0523_trans.nii.gz\n",
      "2022-11-29 06:40:41,569 INFO image_writer.py:193 - writing: /workspace/monai-bundle-demo-covid19-lung-segmentation/out/volume-covid19-A-0524/volume-covid19-A-0524_trans.nii.gz\n",
      "2022-11-29 06:40:42,457 INFO image_writer.py:193 - writing: /workspace/monai-bundle-demo-covid19-lung-segmentation/out/volume-covid19-A-0525/volume-covid19-A-0525_trans.nii.gz\n",
      "2022-11-29 06:40:43,757 INFO image_writer.py:193 - writing: /workspace/monai-bundle-demo-covid19-lung-segmentation/out/volume-covid19-A-0526/volume-covid19-A-0526_trans.nii.gz\n",
      "2022-11-29 06:40:44,641 INFO image_writer.py:193 - writing: /workspace/monai-bundle-demo-covid19-lung-segmentation/out/volume-covid19-A-0527/volume-covid19-A-0527_trans.nii.gz\n",
      "2022-11-29 06:40:45,457 INFO image_writer.py:193 - writing: /workspace/monai-bundle-demo-covid19-lung-segmentation/out/volume-covid19-A-0528/volume-covid19-A-0528_trans.nii.gz\n",
      "2022-11-29 06:40:46,103 INFO image_writer.py:193 - writing: /workspace/monai-bundle-demo-covid19-lung-segmentation/out/volume-covid19-A-0529/volume-covid19-A-0529_trans.nii.gz\n",
      "2022-11-29 06:40:47,031 INFO image_writer.py:193 - writing: /workspace/monai-bundle-demo-covid19-lung-segmentation/out/volume-covid19-A-0530/volume-covid19-A-0530_trans.nii.gz\n",
      "2022-11-29 06:40:47,928 INFO image_writer.py:193 - writing: /workspace/monai-bundle-demo-covid19-lung-segmentation/out/volume-covid19-A-0531/volume-covid19-A-0531_trans.nii.gz\n",
      "2022-11-29 06:40:49,006 INFO image_writer.py:193 - writing: /workspace/monai-bundle-demo-covid19-lung-segmentation/out/volume-covid19-A-0532/volume-covid19-A-0532_trans.nii.gz\n",
      "2022-11-29 06:40:49,809 INFO image_writer.py:193 - writing: /workspace/monai-bundle-demo-covid19-lung-segmentation/out/volume-covid19-A-0533/volume-covid19-A-0533_trans.nii.gz\n",
      "2022-11-29 06:40:51,185 INFO image_writer.py:193 - writing: /workspace/monai-bundle-demo-covid19-lung-segmentation/out/volume-covid19-A-0534/volume-covid19-A-0534_trans.nii.gz\n",
      "2022-11-29 06:40:52,083 INFO image_writer.py:193 - writing: /workspace/monai-bundle-demo-covid19-lung-segmentation/out/volume-covid19-A-0535/volume-covid19-A-0535_trans.nii.gz\n",
      "2022-11-29 06:40:54,390 INFO image_writer.py:193 - writing: /workspace/monai-bundle-demo-covid19-lung-segmentation/out/volume-covid19-A-0536/volume-covid19-A-0536_trans.nii.gz\n",
      "2022-11-29 06:40:55,273 INFO image_writer.py:193 - writing: /workspace/monai-bundle-demo-covid19-lung-segmentation/out/volume-covid19-A-0537/volume-covid19-A-0537_trans.nii.gz\n",
      "2022-11-29 06:40:55,839 INFO image_writer.py:193 - writing: /workspace/monai-bundle-demo-covid19-lung-segmentation/out/volume-covid19-A-0538/volume-covid19-A-0538_trans.nii.gz\n",
      "2022-11-29 06:40:56,217 INFO image_writer.py:193 - writing: /workspace/monai-bundle-demo-covid19-lung-segmentation/out/volume-covid19-A-0539/volume-covid19-A-0539_trans.nii.gz\n",
      "2022-11-29 06:40:57,098 INFO image_writer.py:193 - writing: /workspace/monai-bundle-demo-covid19-lung-segmentation/out/volume-covid19-A-0540/volume-covid19-A-0540_trans.nii.gz\n",
      "2022-11-29 06:40:58,190 INFO image_writer.py:193 - writing: /workspace/monai-bundle-demo-covid19-lung-segmentation/out/volume-covid19-A-0541/volume-covid19-A-0541_trans.nii.gz\n",
      "2022-11-29 06:41:00,440 INFO image_writer.py:193 - writing: /workspace/monai-bundle-demo-covid19-lung-segmentation/out/volume-covid19-A-0542/volume-covid19-A-0542_trans.nii.gz\n",
      "2022-11-29 06:41:01,809 INFO image_writer.py:193 - writing: /workspace/monai-bundle-demo-covid19-lung-segmentation/out/volume-covid19-A-0543/volume-covid19-A-0543_trans.nii.gz\n",
      "2022-11-29 06:41:02,646 INFO image_writer.py:193 - writing: /workspace/monai-bundle-demo-covid19-lung-segmentation/out/volume-covid19-A-0544/volume-covid19-A-0544_trans.nii.gz\n",
      "2022-11-29 06:41:03,453 INFO image_writer.py:193 - writing: /workspace/monai-bundle-demo-covid19-lung-segmentation/out/volume-covid19-A-0545/volume-covid19-A-0545_trans.nii.gz\n",
      "2022-11-29 06:41:04,292 INFO image_writer.py:193 - writing: /workspace/monai-bundle-demo-covid19-lung-segmentation/out/volume-covid19-A-0547/volume-covid19-A-0547_trans.nii.gz\n",
      "2022-11-29 06:41:05,117 INFO image_writer.py:193 - writing: /workspace/monai-bundle-demo-covid19-lung-segmentation/out/volume-covid19-A-0548/volume-covid19-A-0548_trans.nii.gz\n",
      "2022-11-29 06:41:05,590 INFO image_writer.py:193 - writing: /workspace/monai-bundle-demo-covid19-lung-segmentation/out/volume-covid19-A-0549/volume-covid19-A-0549_trans.nii.gz\n",
      "2022-11-29 06:41:07,090 INFO image_writer.py:193 - writing: /workspace/monai-bundle-demo-covid19-lung-segmentation/out/volume-covid19-A-0550/volume-covid19-A-0550_trans.nii.gz\n",
      "2022-11-29 06:41:07,896 INFO image_writer.py:193 - writing: /workspace/monai-bundle-demo-covid19-lung-segmentation/out/volume-covid19-A-0551/volume-covid19-A-0551_trans.nii.gz\n",
      "2022-11-29 06:41:08,822 INFO image_writer.py:193 - writing: /workspace/monai-bundle-demo-covid19-lung-segmentation/out/volume-covid19-A-0552/volume-covid19-A-0552_trans.nii.gz\n",
      "2022-11-29 06:41:10,184 INFO image_writer.py:193 - writing: /workspace/monai-bundle-demo-covid19-lung-segmentation/out/volume-covid19-A-0553/volume-covid19-A-0553_trans.nii.gz\n",
      "2022-11-29 06:41:11,554 INFO image_writer.py:193 - writing: /workspace/monai-bundle-demo-covid19-lung-segmentation/out/volume-covid19-A-0554/volume-covid19-A-0554_trans.nii.gz\n",
      "2022-11-29 06:41:12,941 INFO image_writer.py:193 - writing: /workspace/monai-bundle-demo-covid19-lung-segmentation/out/volume-covid19-A-0555/volume-covid19-A-0555_trans.nii.gz\n",
      "2022-11-29 06:41:13,805 INFO image_writer.py:193 - writing: /workspace/monai-bundle-demo-covid19-lung-segmentation/out/volume-covid19-A-0557/volume-covid19-A-0557_trans.nii.gz\n",
      "2022-11-29 06:41:14,639 INFO image_writer.py:193 - writing: /workspace/monai-bundle-demo-covid19-lung-segmentation/out/volume-covid19-A-0558/volume-covid19-A-0558_trans.nii.gz\n",
      "2022-11-29 06:41:16,010 INFO image_writer.py:193 - writing: /workspace/monai-bundle-demo-covid19-lung-segmentation/out/volume-covid19-A-0559/volume-covid19-A-0559_trans.nii.gz\n",
      "2022-11-29 06:41:16,861 INFO image_writer.py:193 - writing: /workspace/monai-bundle-demo-covid19-lung-segmentation/out/volume-covid19-A-0560/volume-covid19-A-0560_trans.nii.gz\n",
      "2022-11-29 06:41:17,657 INFO image_writer.py:193 - writing: /workspace/monai-bundle-demo-covid19-lung-segmentation/out/volume-covid19-A-0561/volume-covid19-A-0561_trans.nii.gz\n",
      "2022-11-29 06:41:18,204 INFO image_writer.py:193 - writing: /workspace/monai-bundle-demo-covid19-lung-segmentation/out/volume-covid19-A-0562/volume-covid19-A-0562_trans.nii.gz\n",
      "2022-11-29 06:41:19,034 INFO image_writer.py:193 - writing: /workspace/monai-bundle-demo-covid19-lung-segmentation/out/volume-covid19-A-0563/volume-covid19-A-0563_trans.nii.gz\n",
      "2022-11-29 06:41:20,342 INFO image_writer.py:193 - writing: /workspace/monai-bundle-demo-covid19-lung-segmentation/out/volume-covid19-A-0564/volume-covid19-A-0564_trans.nii.gz\n",
      "2022-11-29 06:41:21,635 INFO image_writer.py:193 - writing: /workspace/monai-bundle-demo-covid19-lung-segmentation/out/volume-covid19-A-0566/volume-covid19-A-0566_trans.nii.gz\n",
      "2022-11-29 06:41:22,427 INFO image_writer.py:193 - writing: /workspace/monai-bundle-demo-covid19-lung-segmentation/out/volume-covid19-A-0567/volume-covid19-A-0567_trans.nii.gz\n",
      "2022-11-29 06:41:23,757 INFO image_writer.py:193 - writing: /workspace/monai-bundle-demo-covid19-lung-segmentation/out/volume-covid19-A-0568/volume-covid19-A-0568_trans.nii.gz\n",
      "2022-11-29 06:41:24,595 INFO image_writer.py:193 - writing: /workspace/monai-bundle-demo-covid19-lung-segmentation/out/volume-covid19-A-0569/volume-covid19-A-0569_trans.nii.gz\n",
      "2022-11-29 06:41:25,458 INFO image_writer.py:193 - writing: /workspace/monai-bundle-demo-covid19-lung-segmentation/out/volume-covid19-A-0570/volume-covid19-A-0570_trans.nii.gz\n",
      "2022-11-29 06:41:26,319 INFO image_writer.py:193 - writing: /workspace/monai-bundle-demo-covid19-lung-segmentation/out/volume-covid19-A-0571/volume-covid19-A-0571_trans.nii.gz\n",
      "2022-11-29 06:41:27,170 INFO image_writer.py:193 - writing: /workspace/monai-bundle-demo-covid19-lung-segmentation/out/volume-covid19-A-0572/volume-covid19-A-0572_trans.nii.gz\n",
      "2022-11-29 06:41:27,993 INFO image_writer.py:193 - writing: /workspace/monai-bundle-demo-covid19-lung-segmentation/out/volume-covid19-A-0573/volume-covid19-A-0573_trans.nii.gz\n",
      "2022-11-29 06:41:28,821 INFO image_writer.py:193 - writing: /workspace/monai-bundle-demo-covid19-lung-segmentation/out/volume-covid19-A-0574/volume-covid19-A-0574_trans.nii.gz\n",
      "2022-11-29 06:41:29,662 INFO image_writer.py:193 - writing: /workspace/monai-bundle-demo-covid19-lung-segmentation/out/volume-covid19-A-0575/volume-covid19-A-0575_trans.nii.gz\n",
      "2022-11-29 06:41:30,494 INFO image_writer.py:193 - writing: /workspace/monai-bundle-demo-covid19-lung-segmentation/out/volume-covid19-A-0576/volume-covid19-A-0576_trans.nii.gz\n",
      "2022-11-29 06:41:31,599 INFO image_writer.py:193 - writing: /workspace/monai-bundle-demo-covid19-lung-segmentation/out/volume-covid19-A-0577/volume-covid19-A-0577_trans.nii.gz\n",
      "2022-11-29 06:41:32,927 INFO image_writer.py:193 - writing: /workspace/monai-bundle-demo-covid19-lung-segmentation/out/volume-covid19-A-0578/volume-covid19-A-0578_trans.nii.gz\n",
      "2022-11-29 06:41:33,768 INFO image_writer.py:193 - writing: /workspace/monai-bundle-demo-covid19-lung-segmentation/out/volume-covid19-A-0579/volume-covid19-A-0579_trans.nii.gz\n",
      "2022-11-29 06:41:35,933 INFO image_writer.py:193 - writing: /workspace/monai-bundle-demo-covid19-lung-segmentation/out/volume-covid19-A-0580/volume-covid19-A-0580_trans.nii.gz\n",
      "2022-11-29 06:41:37,287 INFO image_writer.py:193 - writing: /workspace/monai-bundle-demo-covid19-lung-segmentation/out/volume-covid19-A-0581/volume-covid19-A-0581_trans.nii.gz\n",
      "2022-11-29 06:41:38,146 INFO image_writer.py:193 - writing: /workspace/monai-bundle-demo-covid19-lung-segmentation/out/volume-covid19-A-0582/volume-covid19-A-0582_trans.nii.gz\n",
      "2022-11-29 06:41:38,933 INFO image_writer.py:193 - writing: /workspace/monai-bundle-demo-covid19-lung-segmentation/out/volume-covid19-A-0584/volume-covid19-A-0584_trans.nii.gz\n",
      "2022-11-29 06:41:39,446 INFO image_writer.py:193 - writing: /workspace/monai-bundle-demo-covid19-lung-segmentation/out/volume-covid19-A-0585/volume-covid19-A-0585_trans.nii.gz\n",
      "2022-11-29 06:41:40,681 INFO image_writer.py:193 - writing: /workspace/monai-bundle-demo-covid19-lung-segmentation/out/volume-covid19-A-0586/volume-covid19-A-0586_trans.nii.gz\n",
      "2022-11-29 06:41:41,788 INFO image_writer.py:193 - writing: /workspace/monai-bundle-demo-covid19-lung-segmentation/out/volume-covid19-A-0587/volume-covid19-A-0587_trans.nii.gz\n",
      "2022-11-29 06:41:43,152 INFO image_writer.py:193 - writing: /workspace/monai-bundle-demo-covid19-lung-segmentation/out/volume-covid19-A-0588/volume-covid19-A-0588_trans.nii.gz\n",
      "2022-11-29 06:41:44,013 INFO image_writer.py:193 - writing: /workspace/monai-bundle-demo-covid19-lung-segmentation/out/volume-covid19-A-0589/volume-covid19-A-0589_trans.nii.gz\n",
      "2022-11-29 06:41:46,320 INFO image_writer.py:193 - writing: /workspace/monai-bundle-demo-covid19-lung-segmentation/out/volume-covid19-A-0590/volume-covid19-A-0590_trans.nii.gz\n",
      "2022-11-29 06:41:47,705 INFO image_writer.py:193 - writing: /workspace/monai-bundle-demo-covid19-lung-segmentation/out/volume-covid19-A-0591/volume-covid19-A-0591_trans.nii.gz\n",
      "2022-11-29 06:41:48,948 INFO image_writer.py:193 - writing: /workspace/monai-bundle-demo-covid19-lung-segmentation/out/volume-covid19-A-0592/volume-covid19-A-0592_trans.nii.gz\n",
      "2022-11-29 06:41:49,725 INFO image_writer.py:193 - writing: /workspace/monai-bundle-demo-covid19-lung-segmentation/out/volume-covid19-A-0593/volume-covid19-A-0593_trans.nii.gz\n",
      "2022-11-29 06:41:51,096 INFO image_writer.py:193 - writing: /workspace/monai-bundle-demo-covid19-lung-segmentation/out/volume-covid19-A-0594/volume-covid19-A-0594_trans.nii.gz\n",
      "2022-11-29 06:41:53,270 INFO image_writer.py:193 - writing: /workspace/monai-bundle-demo-covid19-lung-segmentation/out/volume-covid19-A-0595/volume-covid19-A-0595_trans.nii.gz\n",
      "2022-11-29 06:41:54,123 INFO image_writer.py:193 - writing: /workspace/monai-bundle-demo-covid19-lung-segmentation/out/volume-covid19-A-0596/volume-covid19-A-0596_trans.nii.gz\n",
      "2022-11-29 06:41:56,666 INFO image_writer.py:193 - writing: /workspace/monai-bundle-demo-covid19-lung-segmentation/out/volume-covid19-A-0597/volume-covid19-A-0597_trans.nii.gz\n",
      "2022-11-29 06:41:58,043 INFO image_writer.py:193 - writing: /workspace/monai-bundle-demo-covid19-lung-segmentation/out/volume-covid19-A-0598/volume-covid19-A-0598_trans.nii.gz\n",
      "2022-11-29 06:41:58,825 INFO image_writer.py:193 - writing: /workspace/monai-bundle-demo-covid19-lung-segmentation/out/volume-covid19-A-0599/volume-covid19-A-0599_trans.nii.gz\n",
      "2022-11-29 06:41:59,793 INFO image_writer.py:193 - writing: /workspace/monai-bundle-demo-covid19-lung-segmentation/out/volume-covid19-A-0600/volume-covid19-A-0600_trans.nii.gz\n",
      "2022-11-29 06:42:00,590 INFO image_writer.py:193 - writing: /workspace/monai-bundle-demo-covid19-lung-segmentation/out/volume-covid19-A-0601/volume-covid19-A-0601_trans.nii.gz\n",
      "2022-11-29 06:42:01,372 INFO image_writer.py:193 - writing: /workspace/monai-bundle-demo-covid19-lung-segmentation/out/volume-covid19-A-0602/volume-covid19-A-0602_trans.nii.gz\n",
      "2022-11-29 06:42:01,767 INFO image_writer.py:193 - writing: /workspace/monai-bundle-demo-covid19-lung-segmentation/out/volume-covid19-A-0603/volume-covid19-A-0603_trans.nii.gz\n",
      "2022-11-29 06:42:02,739 INFO image_writer.py:193 - writing: /workspace/monai-bundle-demo-covid19-lung-segmentation/out/volume-covid19-A-0604/volume-covid19-A-0604_trans.nii.gz\n",
      "2022-11-29 06:42:04,109 INFO image_writer.py:193 - writing: /workspace/monai-bundle-demo-covid19-lung-segmentation/out/volume-covid19-A-0605/volume-covid19-A-0605_trans.nii.gz\n",
      "2022-11-29 06:42:04,943 INFO image_writer.py:193 - writing: /workspace/monai-bundle-demo-covid19-lung-segmentation/out/volume-covid19-A-0606/volume-covid19-A-0606_trans.nii.gz\n",
      "2022-11-29 06:42:05,751 INFO image_writer.py:193 - writing: /workspace/monai-bundle-demo-covid19-lung-segmentation/out/volume-covid19-A-0607/volume-covid19-A-0607_trans.nii.gz\n",
      "2022-11-29 06:42:07,139 INFO image_writer.py:193 - writing: /workspace/monai-bundle-demo-covid19-lung-segmentation/out/volume-covid19-A-0608/volume-covid19-A-0608_trans.nii.gz\n",
      "2022-11-29 06:42:08,482 INFO image_writer.py:193 - writing: /workspace/monai-bundle-demo-covid19-lung-segmentation/out/volume-covid19-A-0609/volume-covid19-A-0609_trans.nii.gz\n",
      "2022-11-29 06:42:09,816 INFO image_writer.py:193 - writing: /workspace/monai-bundle-demo-covid19-lung-segmentation/out/volume-covid19-A-0610/volume-covid19-A-0610_trans.nii.gz\n",
      "2022-11-29 06:42:11,144 INFO image_writer.py:193 - writing: /workspace/monai-bundle-demo-covid19-lung-segmentation/out/volume-covid19-A-0611/volume-covid19-A-0611_trans.nii.gz\n",
      "2022-11-29 06:42:12,486 INFO image_writer.py:193 - writing: /workspace/monai-bundle-demo-covid19-lung-segmentation/out/volume-covid19-A-0612/volume-covid19-A-0612_trans.nii.gz\n",
      "2022-11-29 06:42:13,291 INFO image_writer.py:193 - writing: /workspace/monai-bundle-demo-covid19-lung-segmentation/out/volume-covid19-A-0613/volume-covid19-A-0613_trans.nii.gz\n",
      "2022-11-29 06:42:14,098 INFO image_writer.py:193 - writing: /workspace/monai-bundle-demo-covid19-lung-segmentation/out/volume-covid19-A-0614/volume-covid19-A-0614_trans.nii.gz\n",
      "2022-11-29 06:42:14,893 INFO image_writer.py:193 - writing: /workspace/monai-bundle-demo-covid19-lung-segmentation/out/volume-covid19-A-0615/volume-covid19-A-0615_trans.nii.gz\n",
      "2022-11-29 06:42:15,697 INFO image_writer.py:193 - writing: /workspace/monai-bundle-demo-covid19-lung-segmentation/out/volume-covid19-A-0616/volume-covid19-A-0616_trans.nii.gz\n",
      "2022-11-29 06:42:16,486 INFO image_writer.py:193 - writing: /workspace/monai-bundle-demo-covid19-lung-segmentation/out/volume-covid19-A-0617/volume-covid19-A-0617_trans.nii.gz\n",
      "2022-11-29 06:42:17,074 INFO image_writer.py:193 - writing: /workspace/monai-bundle-demo-covid19-lung-segmentation/out/volume-covid19-A-0618/volume-covid19-A-0618_trans.nii.gz\n",
      "2022-11-29 06:42:18,195 INFO image_writer.py:193 - writing: /workspace/monai-bundle-demo-covid19-lung-segmentation/out/volume-covid19-A-0619/volume-covid19-A-0619_trans.nii.gz\n",
      "2022-11-29 06:42:18,975 INFO image_writer.py:193 - writing: /workspace/monai-bundle-demo-covid19-lung-segmentation/out/volume-covid19-A-0620/volume-covid19-A-0620_trans.nii.gz\n",
      "2022-11-29 06:42:20,311 INFO image_writer.py:193 - writing: /workspace/monai-bundle-demo-covid19-lung-segmentation/out/volume-covid19-A-0621/volume-covid19-A-0621_trans.nii.gz\n",
      "2022-11-29 06:42:21,128 INFO image_writer.py:193 - writing: /workspace/monai-bundle-demo-covid19-lung-segmentation/out/volume-covid19-A-0622/volume-covid19-A-0622_trans.nii.gz\n",
      "2022-11-29 06:42:21,965 INFO image_writer.py:193 - writing: /workspace/monai-bundle-demo-covid19-lung-segmentation/out/volume-covid19-A-0623/volume-covid19-A-0623_trans.nii.gz\n",
      "2022-11-29 06:42:22,804 INFO image_writer.py:193 - writing: /workspace/monai-bundle-demo-covid19-lung-segmentation/out/volume-covid19-A-0624/volume-covid19-A-0624_trans.nii.gz\n",
      "2022-11-29 06:42:24,235 INFO image_writer.py:193 - writing: /workspace/monai-bundle-demo-covid19-lung-segmentation/out/volume-covid19-A-0625/volume-covid19-A-0625_trans.nii.gz\n",
      "2022-11-29 06:42:25,467 INFO image_writer.py:193 - writing: /workspace/monai-bundle-demo-covid19-lung-segmentation/out/volume-covid19-A-0626/volume-covid19-A-0626_trans.nii.gz\n",
      "2022-11-29 06:42:26,774 INFO image_writer.py:193 - writing: /workspace/monai-bundle-demo-covid19-lung-segmentation/out/volume-covid19-A-0627/volume-covid19-A-0627_trans.nii.gz\n",
      "2022-11-29 06:42:27,117 INFO image_writer.py:193 - writing: /workspace/monai-bundle-demo-covid19-lung-segmentation/out/volume-covid19-A-0628/volume-covid19-A-0628_trans.nii.gz\n",
      "2022-11-29 06:42:27,957 INFO image_writer.py:193 - writing: /workspace/monai-bundle-demo-covid19-lung-segmentation/out/volume-covid19-A-0629/volume-covid19-A-0629_trans.nii.gz\n",
      "2022-11-29 06:42:28,536 INFO image_writer.py:193 - writing: /workspace/monai-bundle-demo-covid19-lung-segmentation/out/volume-covid19-A-0630/volume-covid19-A-0630_trans.nii.gz\n",
      "2022-11-29 06:42:29,919 INFO image_writer.py:193 - writing: /workspace/monai-bundle-demo-covid19-lung-segmentation/out/volume-covid19-A-0631/volume-covid19-A-0631_trans.nii.gz\n",
      "2022-11-29 06:42:31,857 INFO image_writer.py:193 - writing: /workspace/monai-bundle-demo-covid19-lung-segmentation/out/volume-covid19-A-0632/volume-covid19-A-0632_trans.nii.gz\n",
      "2022-11-29 06:42:32,746 INFO image_writer.py:193 - writing: /workspace/monai-bundle-demo-covid19-lung-segmentation/out/volume-covid19-A-0633/volume-covid19-A-0633_trans.nii.gz\n",
      "2022-11-29 06:42:34,922 INFO image_writer.py:193 - writing: /workspace/monai-bundle-demo-covid19-lung-segmentation/out/volume-covid19-A-0635/volume-covid19-A-0635_trans.nii.gz\n",
      "2022-11-29 06:42:35,784 INFO image_writer.py:193 - writing: /workspace/monai-bundle-demo-covid19-lung-segmentation/out/volume-covid19-A-0636/volume-covid19-A-0636_trans.nii.gz\n",
      "2022-11-29 06:42:36,589 INFO image_writer.py:193 - writing: /workspace/monai-bundle-demo-covid19-lung-segmentation/out/volume-covid19-A-0637/volume-covid19-A-0637_trans.nii.gz\n",
      "2022-11-29 06:42:37,686 INFO image_writer.py:193 - writing: /workspace/monai-bundle-demo-covid19-lung-segmentation/out/volume-covid19-A-0638/volume-covid19-A-0638_trans.nii.gz\n",
      "2022-11-29 06:42:38,477 INFO image_writer.py:193 - writing: /workspace/monai-bundle-demo-covid19-lung-segmentation/out/volume-covid19-A-0639/volume-covid19-A-0639_trans.nii.gz\n",
      "2022-11-29 06:42:39,805 INFO image_writer.py:193 - writing: /workspace/monai-bundle-demo-covid19-lung-segmentation/out/volume-covid19-A-0640/volume-covid19-A-0640_trans.nii.gz\n",
      "2022-11-29 06:42:41,168 INFO image_writer.py:193 - writing: /workspace/monai-bundle-demo-covid19-lung-segmentation/out/volume-covid19-A-0641/volume-covid19-A-0641_trans.nii.gz\n",
      "2022-11-29 06:42:43,465 INFO image_writer.py:193 - writing: /workspace/monai-bundle-demo-covid19-lung-segmentation/out/volume-covid19-A-0643/volume-covid19-A-0643_trans.nii.gz\n",
      "2022-11-29 06:42:43,857 INFO image_writer.py:193 - writing: /workspace/monai-bundle-demo-covid19-lung-segmentation/out/volume-covid19-A-0644/volume-covid19-A-0644_trans.nii.gz\n",
      "2022-11-29 06:42:44,328 INFO image_writer.py:193 - writing: /workspace/monai-bundle-demo-covid19-lung-segmentation/out/volume-covid19-A-0645/volume-covid19-A-0645_trans.nii.gz\n",
      "2022-11-29 06:42:45,309 INFO image_writer.py:193 - writing: /workspace/monai-bundle-demo-covid19-lung-segmentation/out/volume-covid19-A-0646/volume-covid19-A-0646_trans.nii.gz\n",
      "2022-11-29 06:42:45,828 INFO image_writer.py:193 - writing: /workspace/monai-bundle-demo-covid19-lung-segmentation/out/volume-covid19-A-0647/volume-covid19-A-0647_trans.nii.gz\n",
      "2022-11-29 06:42:46,733 INFO image_writer.py:193 - writing: /workspace/monai-bundle-demo-covid19-lung-segmentation/out/volume-covid19-A-0648/volume-covid19-A-0648_trans.nii.gz\n",
      "2022-11-29 06:42:47,826 INFO image_writer.py:193 - writing: /workspace/monai-bundle-demo-covid19-lung-segmentation/out/volume-covid19-A-0649/volume-covid19-A-0649_trans.nii.gz\n",
      "2022-11-29 06:42:48,656 INFO image_writer.py:193 - writing: /workspace/monai-bundle-demo-covid19-lung-segmentation/out/volume-covid19-A-0650/volume-covid19-A-0650_trans.nii.gz\n",
      "2022-11-29 06:42:49,762 INFO image_writer.py:193 - writing: /workspace/monai-bundle-demo-covid19-lung-segmentation/out/volume-covid19-A-0651/volume-covid19-A-0651_trans.nii.gz\n",
      "2022-11-29 06:42:50,190 INFO image_writer.py:193 - writing: /workspace/monai-bundle-demo-covid19-lung-segmentation/out/volume-covid19-A-0652/volume-covid19-A-0652_trans.nii.gz\n",
      "2022-11-29 06:42:51,286 INFO image_writer.py:193 - writing: /workspace/monai-bundle-demo-covid19-lung-segmentation/out/volume-covid19-A-0653/volume-covid19-A-0653_trans.nii.gz\n",
      "2022-11-29 06:42:52,622 INFO image_writer.py:193 - writing: /workspace/monai-bundle-demo-covid19-lung-segmentation/out/volume-covid19-A-0654/volume-covid19-A-0654_trans.nii.gz\n",
      "2022-11-29 06:42:53,983 INFO image_writer.py:193 - writing: /workspace/monai-bundle-demo-covid19-lung-segmentation/out/volume-covid19-A-0655/volume-covid19-A-0655_trans.nii.gz\n",
      "2022-11-29 06:42:54,536 INFO image_writer.py:193 - writing: /workspace/monai-bundle-demo-covid19-lung-segmentation/out/volume-covid19-A-0656/volume-covid19-A-0656_trans.nii.gz\n",
      "2022-11-29 06:42:55,918 INFO image_writer.py:193 - writing: /workspace/monai-bundle-demo-covid19-lung-segmentation/out/volume-covid19-A-0657/volume-covid19-A-0657_trans.nii.gz\n",
      "2022-11-29 06:42:57,289 INFO image_writer.py:193 - writing: /workspace/monai-bundle-demo-covid19-lung-segmentation/out/volume-covid19-A-0658/volume-covid19-A-0658_trans.nii.gz\n",
      "2022-11-29 06:42:58,690 INFO image_writer.py:193 - writing: /workspace/monai-bundle-demo-covid19-lung-segmentation/out/volume-covid19-A-0659/volume-covid19-A-0659_trans.nii.gz\n",
      "2022-11-29 06:42:59,123 INFO image_writer.py:193 - writing: /workspace/monai-bundle-demo-covid19-lung-segmentation/out/volume-covid19-A-0660/volume-covid19-A-0660_trans.nii.gz\n",
      "2022-11-29 06:43:00,668 INFO image_writer.py:193 - writing: /workspace/monai-bundle-demo-covid19-lung-segmentation/out/volume-covid19-A-0661/volume-covid19-A-0661_trans.nii.gz\n",
      "2022-11-29 06:43:01,480 INFO image_writer.py:193 - writing: /workspace/monai-bundle-demo-covid19-lung-segmentation/out/volume-covid19-A-0662/volume-covid19-A-0662_trans.nii.gz\n",
      "2022-11-29 06:43:02,304 INFO image_writer.py:193 - writing: /workspace/monai-bundle-demo-covid19-lung-segmentation/out/volume-covid19-A-0663/volume-covid19-A-0663_trans.nii.gz\n",
      "2022-11-29 06:43:03,409 INFO image_writer.py:193 - writing: /workspace/monai-bundle-demo-covid19-lung-segmentation/out/volume-covid19-A-0664/volume-covid19-A-0664_trans.nii.gz\n",
      "2022-11-29 06:43:03,962 INFO image_writer.py:193 - writing: /workspace/monai-bundle-demo-covid19-lung-segmentation/out/volume-covid19-A-0665/volume-covid19-A-0665_trans.nii.gz\n",
      "2022-11-29 06:43:05,627 INFO image_writer.py:193 - writing: /workspace/monai-bundle-demo-covid19-lung-segmentation/out/volume-covid19-A-0666/volume-covid19-A-0666_trans.nii.gz\n",
      "2022-11-29 06:43:06,470 INFO image_writer.py:193 - writing: /workspace/monai-bundle-demo-covid19-lung-segmentation/out/volume-covid19-A-0667/volume-covid19-A-0667_trans.nii.gz\n",
      "2022-11-29 06:43:07,515 INFO image_writer.py:193 - writing: /workspace/monai-bundle-demo-covid19-lung-segmentation/out/volume-covid19-A-0668/volume-covid19-A-0668_trans.nii.gz\n",
      "2022-11-29 06:43:08,326 INFO image_writer.py:193 - writing: /workspace/monai-bundle-demo-covid19-lung-segmentation/out/volume-covid19-A-0669/volume-covid19-A-0669_trans.nii.gz\n",
      "2022-11-29 06:43:09,149 INFO image_writer.py:193 - writing: /workspace/monai-bundle-demo-covid19-lung-segmentation/out/volume-covid19-A-0670/volume-covid19-A-0670_trans.nii.gz\n",
      "2022-11-29 06:43:10,024 INFO image_writer.py:193 - writing: /workspace/monai-bundle-demo-covid19-lung-segmentation/out/volume-covid19-A-0671/volume-covid19-A-0671_trans.nii.gz\n",
      "2022-11-29 06:43:10,643 INFO image_writer.py:193 - writing: /workspace/monai-bundle-demo-covid19-lung-segmentation/out/volume-covid19-A-0672/volume-covid19-A-0672_trans.nii.gz\n",
      "2022-11-29 06:43:11,289 INFO image_writer.py:193 - writing: /workspace/monai-bundle-demo-covid19-lung-segmentation/out/volume-covid19-A-0673/volume-covid19-A-0673_trans.nii.gz\n",
      "2022-11-29 06:43:12,153 INFO image_writer.py:193 - writing: /workspace/monai-bundle-demo-covid19-lung-segmentation/out/volume-covid19-A-0674/volume-covid19-A-0674_trans.nii.gz\n",
      "2022-11-29 06:43:12,957 INFO image_writer.py:193 - writing: /workspace/monai-bundle-demo-covid19-lung-segmentation/out/volume-covid19-A-0675/volume-covid19-A-0675_trans.nii.gz\n",
      "2022-11-29 06:43:13,766 INFO image_writer.py:193 - writing: /workspace/monai-bundle-demo-covid19-lung-segmentation/out/volume-covid19-A-0676/volume-covid19-A-0676_trans.nii.gz\n",
      "2022-11-29 06:43:14,602 INFO image_writer.py:193 - writing: /workspace/monai-bundle-demo-covid19-lung-segmentation/out/volume-covid19-A-0678/volume-covid19-A-0678_trans.nii.gz\n",
      "2022-11-29 06:43:16,231 INFO image_writer.py:193 - writing: /workspace/monai-bundle-demo-covid19-lung-segmentation/out/volume-covid19-A-0679/volume-covid19-A-0679_trans.nii.gz\n",
      "2022-11-29 06:43:17,075 INFO image_writer.py:193 - writing: /workspace/monai-bundle-demo-covid19-lung-segmentation/out/volume-covid19-A-0680/volume-covid19-A-0680_trans.nii.gz\n",
      "2022-11-29 06:43:17,903 INFO image_writer.py:193 - writing: /workspace/monai-bundle-demo-covid19-lung-segmentation/out/volume-covid19-A-0681/volume-covid19-A-0681_trans.nii.gz\n",
      "2022-11-29 06:43:19,248 INFO image_writer.py:193 - writing: /workspace/monai-bundle-demo-covid19-lung-segmentation/out/volume-covid19-A-0682/volume-covid19-A-0682_trans.nii.gz\n",
      "2022-11-29 06:43:19,767 INFO image_writer.py:193 - writing: /workspace/monai-bundle-demo-covid19-lung-segmentation/out/volume-covid19-A-0683/volume-covid19-A-0683_trans.nii.gz\n",
      "2022-11-29 06:43:20,331 INFO image_writer.py:193 - writing: /workspace/monai-bundle-demo-covid19-lung-segmentation/out/volume-covid19-A-0684/volume-covid19-A-0684_trans.nii.gz\n",
      "2022-11-29 06:43:22,464 INFO image_writer.py:193 - writing: /workspace/monai-bundle-demo-covid19-lung-segmentation/out/volume-covid19-A-0685/volume-covid19-A-0685_trans.nii.gz\n",
      "2022-11-29 06:43:23,289 INFO image_writer.py:193 - writing: /workspace/monai-bundle-demo-covid19-lung-segmentation/out/volume-covid19-A-0686/volume-covid19-A-0686_trans.nii.gz\n",
      "2022-11-29 06:43:24,114 INFO image_writer.py:193 - writing: /workspace/monai-bundle-demo-covid19-lung-segmentation/out/volume-covid19-A-0687/volume-covid19-A-0687_trans.nii.gz\n",
      "2022-11-29 06:43:25,466 INFO image_writer.py:193 - writing: /workspace/monai-bundle-demo-covid19-lung-segmentation/out/volume-covid19-A-0688/volume-covid19-A-0688_trans.nii.gz\n",
      "2022-11-29 06:43:26,333 INFO image_writer.py:193 - writing: /workspace/monai-bundle-demo-covid19-lung-segmentation/out/volume-covid19-A-0689/volume-covid19-A-0689_trans.nii.gz\n",
      "2022-11-29 06:43:27,160 INFO image_writer.py:193 - writing: /workspace/monai-bundle-demo-covid19-lung-segmentation/out/volume-covid19-A-0690/volume-covid19-A-0690_trans.nii.gz\n",
      "2022-11-29 06:43:27,925 INFO image_writer.py:193 - writing: /workspace/monai-bundle-demo-covid19-lung-segmentation/out/volume-covid19-A-0692/volume-covid19-A-0692_trans.nii.gz\n",
      "2022-11-29 06:43:28,428 INFO image_writer.py:193 - writing: /workspace/monai-bundle-demo-covid19-lung-segmentation/out/volume-covid19-A-0693/volume-covid19-A-0693_trans.nii.gz\n",
      "2022-11-29 06:43:29,257 INFO image_writer.py:193 - writing: /workspace/monai-bundle-demo-covid19-lung-segmentation/out/volume-covid19-A-0694/volume-covid19-A-0694_trans.nii.gz\n",
      "2022-11-29 06:43:29,735 INFO image_writer.py:193 - writing: /workspace/monai-bundle-demo-covid19-lung-segmentation/out/volume-covid19-A-0695/volume-covid19-A-0695_trans.nii.gz\n",
      "2022-11-29 06:43:31,884 INFO image_writer.py:193 - writing: /workspace/monai-bundle-demo-covid19-lung-segmentation/out/volume-covid19-A-0696/volume-covid19-A-0696_trans.nii.gz\n",
      "2022-11-29 06:43:32,939 INFO image_writer.py:193 - writing: /workspace/monai-bundle-demo-covid19-lung-segmentation/out/volume-covid19-A-0697/volume-covid19-A-0697_trans.nii.gz\n",
      "2022-11-29 06:43:33,868 INFO image_writer.py:193 - writing: /workspace/monai-bundle-demo-covid19-lung-segmentation/out/volume-covid19-A-0698/volume-covid19-A-0698_trans.nii.gz\n",
      "2022-11-29 06:43:34,341 INFO image_writer.py:193 - writing: /workspace/monai-bundle-demo-covid19-lung-segmentation/out/volume-covid19-A-0699/volume-covid19-A-0699_trans.nii.gz\n",
      "2022-11-29 06:43:34,525 - Key metric: None best value: -1 at epoch: -1\n",
      "2022-11-29 06:43:34,525 - Epoch[1] Complete. Time taken: 00:11:59.394\n",
      "2022-11-29 06:43:34,525 - Engine run complete. Time taken: 00:11:59.445\n",
      "[null, null]\n"
     ]
    }
   ],
   "source": [
    "!python -m monai.bundle run evaluating --config_file $APP_ROOT/configs/inference.json"
   ]
  },
  {
   "cell_type": "code",
   "execution_count": null,
   "id": "a4189cad",
   "metadata": {},
   "outputs": [],
   "source": []
  }
 ],
 "metadata": {
  "kernelspec": {
   "display_name": "Python 3 (ipykernel)",
   "language": "python",
   "name": "python3"
  },
  "language_info": {
   "codemirror_mode": {
    "name": "ipython",
    "version": 3
   },
   "file_extension": ".py",
   "mimetype": "text/x-python",
   "name": "python",
   "nbconvert_exporter": "python",
   "pygments_lexer": "ipython3",
   "version": "3.8.12"
  }
 },
 "nbformat": 4,
 "nbformat_minor": 5
}
