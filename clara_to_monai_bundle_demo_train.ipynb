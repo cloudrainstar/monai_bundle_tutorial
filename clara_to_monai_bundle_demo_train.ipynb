{
 "cells": [
  {
   "cell_type": "markdown",
   "id": "14615c6b",
   "metadata": {},
   "source": [
    "# Bundling a MONAI Train Bundle\n",
    "It is simple to package your MONAI code into a MONAI Application. For this tutorial, we will convert a Clara 4.1 model from NGC\n",
    "- For imports, all we need is the json package"
   ]
  },
  {
   "cell_type": "code",
   "execution_count": 1,
   "id": "d57e2fe1",
   "metadata": {},
   "outputs": [],
   "source": [
    "import json"
   ]
  },
  {
   "cell_type": "markdown",
   "id": "ed16ac80",
   "metadata": {},
   "source": [
    "- We'll need to create our bundle directory"
   ]
  },
  {
   "cell_type": "code",
   "execution_count": 2,
   "id": "89024bda",
   "metadata": {},
   "outputs": [],
   "source": [
    "# Create app directory structure\n",
    "APP_ROOT = \"/workspace/monai-bundle-demo-covid19-lung-segmentation\"\n",
    "!mkdir -p $APP_ROOT\n",
    "!mkdir -p $APP_ROOT/configs\n",
    "!mkdir -p $APP_ROOT/docs"
   ]
  },
  {
   "cell_type": "markdown",
   "id": "e3653058",
   "metadata": {},
   "source": [
    "- At the top of our json, we declare our imports for the bundle\n",
    "- Next we set a few variables\n",
    "- Anything that begins with an @ is a variable that is referenced elsewhere in the config file.\n",
    "- Anything that begins with a $ is evaluated before being written into the code."
   ]
  },
  {
   "cell_type": "code",
   "execution_count": 3,
   "id": "e54bd1a4",
   "metadata": {},
   "outputs": [],
   "source": [
    "# Common elements\n",
    "bundle_config = {\n",
    "    \"imports\": [\"$import glob\", \"$import os\", \"$import ignite\"],\n",
    "    \"device\": \"$torch.device('cuda:0' if torch.cuda.is_available() else 'cpu')\",\n",
    "    \"bundle_root\": APP_ROOT,\n",
    "    \"ckpt_dir\": \"$@bundle_root + '/models'\",\n",
    "    \"output_dir\": \"$@bundle_root + '/eval'\",\n",
    "    \"dataset_dir\": \"/workspace/datasets\",\n",
    "    \"images\": \"$list(sorted(glob.glob(@dataset_dir + '/CT-Covid-19-August2020/*.nii.gz')))\",\n",
    "    \"labels\": \"$list(sorted(glob.glob(@dataset_dir + '/CT-Covid-19-August2020-seg/*.nii.gz')))\",\n",
    "    \"val_interval\": 5,\n",
    "    \"epochs\": 100,\n",
    "}"
   ]
  },
  {
   "cell_type": "markdown",
   "id": "c3a0847e",
   "metadata": {},
   "source": [
    "- Next we download the Clara 4.1 app and extract it.\n",
    "- In this tutorial, we downloaded and extracted the following:\n",
    "- https://catalog.ngc.nvidia.com/orgs/nvidia/teams/med/models/clara_pt_covid19_ct_lung_segmentation"
   ]
  },
  {
   "cell_type": "code",
   "execution_count": 4,
   "id": "34833eef",
   "metadata": {},
   "outputs": [],
   "source": [
    "CLARA_APP_ROOT = \"/workspace/covid19_seg\""
   ]
  },
  {
   "cell_type": "markdown",
   "id": "3cba464d",
   "metadata": {},
   "source": [
    "- We'll run this tutorial on the train configuration."
   ]
  },
  {
   "cell_type": "code",
   "execution_count": 5,
   "id": "7c9b9b29",
   "metadata": {},
   "outputs": [],
   "source": [
    "# Read CLARA 4.1 Training Config\n",
    "with open(CLARA_APP_ROOT + \"/config/config_train.json\") as f:\n",
    "    config_train = json.load(f)"
   ]
  },
  {
   "cell_type": "markdown",
   "id": "1ee82267",
   "metadata": {},
   "source": [
    "- Here we check the model in the clara app, an define the model in the MONAI Bundle style"
   ]
  },
  {
   "cell_type": "code",
   "execution_count": 6,
   "id": "00f7c230",
   "metadata": {},
   "outputs": [
    {
     "data": {
      "text/plain": [
       "{'name': 'AHNet',\n",
       " 'args': {'spatial_dims': 3,\n",
       "  'in_channels': '{in_channels}',\n",
       "  'out_channels': '{out_classes}',\n",
       "  'psp_block_num': 0,\n",
       "  'upsample_mode': 'trilinear',\n",
       "  'pretrained': True}}"
      ]
     },
     "execution_count": 6,
     "metadata": {},
     "output_type": "execute_result"
    }
   ],
   "source": [
    "# Get model\n",
    "config_train[\"train\"][\"model\"]"
   ]
  },
  {
   "cell_type": "code",
   "execution_count": 7,
   "id": "a0b7a0bc",
   "metadata": {},
   "outputs": [
    {
     "data": {
      "text/plain": [
       "{'_target_': 'AHNet',\n",
       " 'spatial_dims': 3,\n",
       " 'in_channels': 1,\n",
       " 'out_channels': 2,\n",
       " 'psp_block_num': 0,\n",
       " 'upsample_mode': 'trilinear',\n",
       " 'pretrained': True}"
      ]
     },
     "execution_count": 7,
     "metadata": {},
     "output_type": "execute_result"
    }
   ],
   "source": [
    "# Convert variables and change to network_def\n",
    "network_def = json.loads(\n",
    "    json.dumps(config_train[\"train\"][\"model\"])\n",
    "    .replace('\"{in_channels}\"', str(config_train[\"in_channels\"]))\n",
    "    .replace('\"{out_classes}\"', str(config_train[\"out_classes\"]))\n",
    ")\n",
    "network_def = {\"_target_\": network_def[\"name\"], **network_def[\"args\"]}\n",
    "network_def"
   ]
  },
  {
   "cell_type": "code",
   "execution_count": 8,
   "id": "1a6db780",
   "metadata": {},
   "outputs": [],
   "source": [
    "# Add network to bundle config\n",
    "bundle_config[\"network_def\"] = network_def\n",
    "bundle_config[\"network\"] = \"$@network_def.to(@device)\""
   ]
  },
  {
   "cell_type": "markdown",
   "id": "a2dc7837",
   "metadata": {},
   "source": [
    "- Next we do the same with the loss and optimizer"
   ]
  },
  {
   "cell_type": "code",
   "execution_count": 9,
   "id": "c19f8afa",
   "metadata": {},
   "outputs": [
    {
     "name": "stdout",
     "output_type": "stream",
     "text": [
      "{'name': 'DiceLoss', 'args': {'jaccard': False, 'to_onehot_y': True, 'softmax': True, 'squared_pred': True}}\n",
      "{'name': 'Adam', 'args': {'params': '#@model.parameters()', 'lr': '{learning_rate}'}}\n"
     ]
    }
   ],
   "source": [
    "# Check out Loss and Optimizer\n",
    "print(config_train[\"train\"][\"loss\"])\n",
    "print(config_train[\"train\"][\"optimizer\"])"
   ]
  },
  {
   "cell_type": "code",
   "execution_count": 10,
   "id": "3c87b48f",
   "metadata": {},
   "outputs": [
    {
     "name": "stdout",
     "output_type": "stream",
     "text": [
      "{'_target_': 'DiceLoss', 'jaccard': False, 'to_onehot_y': True, 'softmax': True, 'squared_pred': True}\n",
      "{'_target_': 'torch.optim.Adam', 'params': '$@network.parameters()', 'lr': 0.0001}\n"
     ]
    }
   ],
   "source": [
    "# Define our target loss and optimizer\n",
    "loss = {\n",
    "    \"_target_\": config_train[\"train\"][\"loss\"][\"name\"],\n",
    "    **config_train[\"train\"][\"loss\"][\"args\"],\n",
    "}\n",
    "optimizer = {\"_target_\": \"torch.optim.Adam\"}\n",
    "optimizer[\"params\"] = \"$@network.parameters()\"  # Convert to MONAI Bundle schema\n",
    "optimizer[\"lr\"] = config_train[\"learning_rate\"]\n",
    "print(loss)\n",
    "print(optimizer)"
   ]
  },
  {
   "cell_type": "code",
   "execution_count": 11,
   "id": "27f599f8",
   "metadata": {},
   "outputs": [],
   "source": [
    "# Add loss and optimizer to bundle config\n",
    "bundle_config[\"loss\"] = loss\n",
    "bundle_config[\"optimizer\"] = optimizer"
   ]
  },
  {
   "cell_type": "markdown",
   "id": "e9421377",
   "metadata": {},
   "source": [
    "- Next let's set up the configs that are specific to training.\n",
    "- We'll wrap them under a train header."
   ]
  },
  {
   "cell_type": "code",
   "execution_count": 12,
   "id": "8cc6a0f2",
   "metadata": {},
   "outputs": [],
   "source": [
    "# Set up training configs\n",
    "train = {}"
   ]
  },
  {
   "cell_type": "markdown",
   "id": "55d46c49",
   "metadata": {},
   "source": [
    "- Start with our preprocessing"
   ]
  },
  {
   "cell_type": "code",
   "execution_count": 13,
   "id": "dfca8860",
   "metadata": {},
   "outputs": [
    {
     "name": "stdout",
     "output_type": "stream",
     "text": [
      "LoadImaged(keys=['image', 'label'])\n",
      "EnsureChannelFirstd(keys=['image', 'label'])\n",
      "Spacingd(keys=['image', 'label'], pixdim=[0.8, 0.8, 5], mode=['bilinear', 'nearest'], align_corners=[True, True])\n",
      "ScaleIntensityRanged(keys=image, a_min=-1500, a_max=500, b_min=0, b_max=1, clip=True)\n",
      "CropForegroundd(keys=['image', 'label'], source_key=image)\n",
      "SpatialPadd(keys=['image', 'label'], spatial_size=['{roi_x}', '{roi_y}', '{roi_z}'], mode=['minimum', 'constant'])\n",
      "RandCropByPosNegLabeld(keys=['image', 'label'], label_key=label, spatial_size=['{roi_x}', '{roi_y}', '{roi_z}'], pos=1, neg=1, num_samples=2, image_key=image, image_threshold=0)\n",
      "RandFlipd(keys=['image', 'label'], spatial_axis=[0], prob=0.1)\n",
      "RandFlipd(keys=['image', 'label'], spatial_axis=[1], prob=0.1)\n",
      "RandFlipd(keys=['image', 'label'], spatial_axis=[2], prob=0.1)\n",
      "RandRotate90d(keys=['image', 'label'], prob=0.1, max_k=3)\n",
      "RandShiftIntensityd(keys=image, offsets=0.1, prob=0.5)\n",
      "ToTensord(keys=['image', 'label'])\n"
     ]
    }
   ],
   "source": [
    "# Read Pre-Transforms\n",
    "pre_transforms = config_train[\"train\"][\"pre_transforms\"]\n",
    "for t in pre_transforms:\n",
    "    print(f\"\"\"{t[\"name\"]}({\", \".join([f'''{k}={str(v)}''' for k,v in t[\"args\"].items()])})\"\"\")"
   ]
  },
  {
   "cell_type": "markdown",
   "id": "abc237d8",
   "metadata": {},
   "source": [
    "- Some variables are being referenced in this application.\n",
    "- Here I've set the values for the variables directly into the functions.\n",
    "- Another method is to convert `{roi_x}` to `@roi_x` and assign the variable at the top of the bundle config.\n",
    "- We also remove the random transforms for the validation transforms, which we will reference at the validation section."
   ]
  },
  {
   "cell_type": "code",
   "execution_count": 14,
   "id": "ffc252b0",
   "metadata": {},
   "outputs": [
    {
     "name": "stdout",
     "output_type": "stream",
     "text": [
      "{'_target_': 'Compose', 'transforms': [{'_target_': 'LoadImaged', 'keys': ['image', 'label']}, {'_target_': 'EnsureChannelFirstd', 'keys': ['image', 'label']}, {'_target_': 'Spacingd', 'keys': ['image', 'label'], 'pixdim': [0.8, 0.8, 5], 'mode': ['bilinear', 'nearest'], 'align_corners': [True, True]}, {'_target_': 'ScaleIntensityRanged', 'keys': 'image', 'a_min': -1500, 'a_max': 500, 'b_min': 0, 'b_max': 1, 'clip': True}, {'_target_': 'CropForegroundd', 'keys': ['image', 'label'], 'source_key': 'image'}, {'_target_': 'SpatialPadd', 'keys': ['image', 'label'], 'spatial_size': [224, 224, 32], 'mode': ['minimum', 'constant']}, {'_target_': 'RandCropByPosNegLabeld', 'keys': ['image', 'label'], 'label_key': 'label', 'spatial_size': [224, 224, 32], 'pos': 1, 'neg': 1, 'num_samples': 2, 'image_key': 'image', 'image_threshold': 0}, {'_target_': 'RandFlipd', 'keys': ['image', 'label'], 'spatial_axis': [0], 'prob': 0.1}, {'_target_': 'RandFlipd', 'keys': ['image', 'label'], 'spatial_axis': [1], 'prob': 0.1}, {'_target_': 'RandFlipd', 'keys': ['image', 'label'], 'spatial_axis': [2], 'prob': 0.1}, {'_target_': 'RandRotate90d', 'keys': ['image', 'label'], 'prob': 0.1, 'max_k': 3}, {'_target_': 'RandShiftIntensityd', 'keys': 'image', 'offsets': 0.1, 'prob': 0.5}, {'_target_': 'ToTensord', 'keys': ['image', 'label']}]}\n",
      "{'_target_': 'Compose', 'transforms': [{'_target_': 'LoadImaged', 'keys': ['image', 'label']}, {'_target_': 'EnsureChannelFirstd', 'keys': ['image', 'label']}, {'_target_': 'Spacingd', 'keys': ['image', 'label'], 'pixdim': [0.8, 0.8, 5], 'mode': ['bilinear', 'nearest'], 'align_corners': [True, True]}, {'_target_': 'ScaleIntensityRanged', 'keys': 'image', 'a_min': -1500, 'a_max': 500, 'b_min': 0, 'b_max': 1, 'clip': True}, {'_target_': 'CropForegroundd', 'keys': ['image', 'label'], 'source_key': 'image'}, {'_target_': 'SpatialPadd', 'keys': ['image', 'label'], 'spatial_size': [224, 224, 32], 'mode': ['minimum', 'constant']}, {'_target_': 'ToTensord', 'keys': ['image', 'label']}]}\n"
     ]
    }
   ],
   "source": [
    "# Replace Variables\n",
    "pre_transforms = json.loads(\n",
    "    json.dumps(config_train[\"train\"][\"pre_transforms\"])\n",
    "    .replace('\"{roi_x}\"', str(config_train[\"roi_x\"]))\n",
    "    .replace('\"{roi_y}\"', str(config_train[\"roi_y\"]))\n",
    "    .replace('\"{roi_z}\"', str(config_train[\"roi_z\"]))\n",
    ")\n",
    "train_transforms = {\n",
    "    \"_target_\": \"Compose\",\n",
    "    \"transforms\": [{\"_target_\": t[\"name\"], **t[\"args\"]} for t in pre_transforms],\n",
    "}\n",
    "validation_transforms = {\n",
    "    \"_target_\": \"Compose\",\n",
    "    \"transforms\": [\n",
    "        {\"_target_\": t[\"name\"], **t[\"args\"]}\n",
    "        for t in pre_transforms\n",
    "        if \"Rand\" not in t[\"name\"]\n",
    "    ],\n",
    "}\n",
    "print(train_transforms)\n",
    "print(validation_transforms)"
   ]
  },
  {
   "cell_type": "code",
   "execution_count": 15,
   "id": "0552eb18",
   "metadata": {},
   "outputs": [],
   "source": [
    "# Add train pre-transforms\n",
    "train[\"pre_transforms\"] = train_transforms"
   ]
  },
  {
   "cell_type": "markdown",
   "id": "379834f0",
   "metadata": {},
   "source": [
    "- Next we convert the training dataset and dataloader as well"
   ]
  },
  {
   "cell_type": "code",
   "execution_count": 16,
   "id": "0ed4c4d3",
   "metadata": {},
   "outputs": [
    {
     "name": "stdout",
     "output_type": "stream",
     "text": [
      "{'name': 'CacheDataset', 'data_list_file_path': '{DATASET_JSON}', 'data_file_base_dir': '{DATA_ROOT}', 'data_list_key': '{TRAIN_DATALIST_KEY}', 'args': {'transform': '@pre_transforms', 'cache_rate': 1, 'num_workers': 4}}\n",
      "{'name': 'DataLoader', 'args': {'dataset': '@dataset', 'batch_size': 2, 'shuffle': True, 'num_workers': 4}}\n"
     ]
    }
   ],
   "source": [
    "# Get Dataset and DataLoader\n",
    "print(config_train[\"train\"][\"dataset\"])\n",
    "print(config_train[\"train\"][\"dataloader\"])"
   ]
  },
  {
   "cell_type": "markdown",
   "id": "81975ec6",
   "metadata": {},
   "source": [
    "- Here we use the first 90% of the images as our training images.\n",
    "- Notice that we can write code to be evaluated directly in the config"
   ]
  },
  {
   "cell_type": "code",
   "execution_count": 17,
   "id": "0f4b3cd5",
   "metadata": {},
   "outputs": [
    {
     "name": "stdout",
     "output_type": "stream",
     "text": [
      "{'_target_': 'CacheDataset', 'transform': '@train#pre_transforms', 'cache_rate': 1, 'num_workers': 4, 'data': \"$[{'image': i, 'label': l} for i, l in zip(@images[-9:], @labels[-9:])]\"}\n",
      "{'_target_': 'DataLoader', 'dataset': '@train#dataset', 'batch_size': 2, 'shuffle': True, 'num_workers': 4}\n"
     ]
    }
   ],
   "source": [
    "dataset = {\n",
    "    \"_target_\": config_train[\"train\"][\"dataset\"][\"name\"],\n",
    "    **config_train[\"train\"][\"dataset\"][\"args\"]\n",
    "}\n",
    "dataset[\"data\"] = \"$[{'image': i, 'label': l} for i, l in zip(@images[-9:], @labels[-9:])]\"\n",
    "dataset[\"transform\"] = \"@train#pre_transforms\"\n",
    "dataloader = {\n",
    "    \"_target_\": config_train[\"train\"][\"dataloader\"][\"name\"],\n",
    "    **config_train[\"train\"][\"dataloader\"][\"args\"]\n",
    "}\n",
    "dataloader[\"dataset\"] = \"@train#dataset\"\n",
    "print(dataset)\n",
    "print(dataloader)"
   ]
  },
  {
   "cell_type": "code",
   "execution_count": 18,
   "id": "65a038d4",
   "metadata": {},
   "outputs": [],
   "source": [
    "# Add train dataset and dataloader\n",
    "train[\"dataset\"] = dataset\n",
    "train[\"dataloader\"] = dataloader"
   ]
  },
  {
   "cell_type": "markdown",
   "id": "3f2526bf",
   "metadata": {},
   "source": [
    "- Next we set up the inferer to use for training"
   ]
  },
  {
   "cell_type": "code",
   "execution_count": 19,
   "id": "1af359a6",
   "metadata": {},
   "outputs": [
    {
     "name": "stdout",
     "output_type": "stream",
     "text": [
      "{'_target_': 'SimpleInferer'}\n"
     ]
    }
   ],
   "source": [
    "# Inferer\n",
    "inferer = {\"_target_\": config_train[\"train\"][\"inferer\"][\"name\"]}\n",
    "print(inferer)"
   ]
  },
  {
   "cell_type": "code",
   "execution_count": 20,
   "id": "5f53e098",
   "metadata": {},
   "outputs": [],
   "source": [
    "# Add train inferer\n",
    "train[\"inferer\"] = inferer"
   ]
  },
  {
   "cell_type": "markdown",
   "id": "91e5789a",
   "metadata": {},
   "source": [
    "- Next we convert the learning rate scheduler as well"
   ]
  },
  {
   "cell_type": "code",
   "execution_count": 21,
   "id": "e262607f",
   "metadata": {},
   "outputs": [
    {
     "name": "stdout",
     "output_type": "stream",
     "text": [
      "{'name': 'StepLR', 'args': {'optimizer': '@optimizer', 'step_size': 5000, 'gamma': 0.1}}\n"
     ]
    }
   ],
   "source": [
    "# LR_Scheduler\n",
    "print(config_train[\"train\"][\"lr_scheduler\"])"
   ]
  },
  {
   "cell_type": "code",
   "execution_count": 22,
   "id": "26a626cb",
   "metadata": {},
   "outputs": [
    {
     "name": "stdout",
     "output_type": "stream",
     "text": [
      "{'_target_': 'torch.optim.lr_scheduler.StepLR', 'optimizer': '@optimizer', 'step_size': 5000, 'gamma': 0.1}\n"
     ]
    }
   ],
   "source": [
    "lr_scheduler = {\n",
    "    \"_target_\": \"torch.optim.lr_scheduler.StepLR\",\n",
    "    **config_train[\"train\"][\"lr_scheduler\"][\"args\"]\n",
    "}\n",
    "lr_scheduler[\"optimizer\"] = \"@optimizer\"\n",
    "print(lr_scheduler)"
   ]
  },
  {
   "cell_type": "code",
   "execution_count": 23,
   "id": "f7a979f9",
   "metadata": {},
   "outputs": [],
   "source": [
    "# Add train lr_scheduler\n",
    "train[\"lr_scheduler\"] = lr_scheduler"
   ]
  },
  {
   "cell_type": "markdown",
   "id": "6f5ac684",
   "metadata": {},
   "source": [
    "- Next let's take a look at the handlers"
   ]
  },
  {
   "cell_type": "code",
   "execution_count": 24,
   "id": "3b2d3ab7",
   "metadata": {},
   "outputs": [
    {
     "name": "stdout",
     "output_type": "stream",
     "text": [
      "{'name': 'CheckpointLoader', 'disabled': '{dont_load_ckpt_model}', 'args': {'load_path': '{MMAR_CKPT}', 'load_dict': {'model': '@model'}}}\n",
      "{'name': 'LrScheduleHandler', 'args': {'lr_scheduler': '@lr_scheduler', 'print_lr': True}}\n",
      "{'name': 'ValidationHandler', 'args': {'validator': '@evaluator', 'epoch_level': True, 'interval': '{num_interval_per_valid}'}}\n",
      "{'name': 'CheckpointSaver', 'rank': 0, 'args': {'save_dir': '{MMAR_CKPT_DIR}', 'save_dict': {'model': '@model', 'optimizer': '@optimizer', 'lr_scheduler': '@lr_scheduler', 'train_conf': '@conf'}, 'save_final': True, 'save_interval': 400}}\n",
      "{'name': 'StatsHandler', 'rank': 0, 'args': {'tag_name': 'train_loss', 'output_transform': \"#monai.handlers.from_engine(['loss'], first=True)\"}}\n",
      "{'name': 'TensorBoardStatsHandler', 'rank': 0, 'args': {'log_dir': '{MMAR_CKPT_DIR}', 'tag_name': 'train_loss', 'output_transform': \"#monai.handlers.from_engine(['loss'], first=True)\"}}\n"
     ]
    },
    {
     "data": {
      "text/plain": [
       "[None, None, None, None, None, None]"
      ]
     },
     "execution_count": 24,
     "metadata": {},
     "output_type": "execute_result"
    }
   ],
   "source": [
    "[print(handler) for handler in config_train[\"train\"][\"handlers\"]]"
   ]
  },
  {
   "cell_type": "markdown",
   "id": "999c481e",
   "metadata": {},
   "source": [
    "Since the handlers are more complicated, we'll write them one by one."
   ]
  },
  {
   "cell_type": "code",
   "execution_count": 25,
   "id": "3d2799d1",
   "metadata": {},
   "outputs": [
    {
     "name": "stdout",
     "output_type": "stream",
     "text": [
      "{'_target_': 'LrScheduleHandler', 'lr_scheduler': '@train#lr_scheduler', 'print_lr': True}\n",
      "{'_target_': 'ValidationHandler', 'validator': '@validate#evaluator', 'epoch_level': True, 'interval': '@val_interval'}\n",
      "{'_target_': 'CheckpointSaver', 'save_dir': '@ckpt_dir', 'save_dict': {'model': '@network', 'optimizer': '@optimizer', 'lr_scheduler': '@train#lr_scheduler'}, 'save_final': True, 'save_interval': 400}\n",
      "{'_target_': 'StatsHandler', 'tag_name': 'train_loss', 'output_transform': \"$monai.handlers.from_engine(['loss'], first=True)\"}\n",
      "{'_target_': 'TensorBoardStatsHandler', 'log_dir': '@output_dir', 'tag_name': 'train_loss', 'output_transform': \"$monai.handlers.from_engine(['loss'], first=True)\"}\n"
     ]
    },
    {
     "data": {
      "text/plain": [
       "[None, None, None, None, None]"
      ]
     },
     "execution_count": 25,
     "metadata": {},
     "output_type": "execute_result"
    }
   ],
   "source": [
    "handlers = [\n",
    "    {\n",
    "        \"_target_\": \"LrScheduleHandler\",\n",
    "        \"lr_scheduler\": \"@train#lr_scheduler\",\n",
    "        \"print_lr\": True,\n",
    "    },\n",
    "    {\n",
    "        \"_target_\": \"ValidationHandler\",\n",
    "        \"validator\": \"@validate#evaluator\",\n",
    "        \"epoch_level\": True,\n",
    "        \"interval\": \"@val_interval\",\n",
    "    },\n",
    "    {\n",
    "        \"_target_\": \"CheckpointSaver\",\n",
    "        \"save_dir\": \"@ckpt_dir\",\n",
    "        \"save_dict\": {\n",
    "            \"model\": \"@network\",\n",
    "            \"optimizer\": \"@optimizer\",\n",
    "            \"lr_scheduler\": \"@train#lr_scheduler\",\n",
    "        },\n",
    "        \"save_final\": True,\n",
    "        \"save_interval\": 400,\n",
    "    },\n",
    "    {\n",
    "        \"_target_\": \"StatsHandler\",\n",
    "        \"tag_name\": \"train_loss\",\n",
    "        \"output_transform\": \"$monai.handlers.from_engine(['loss'], first=True)\",\n",
    "    },\n",
    "    {\n",
    "        \"_target_\": \"TensorBoardStatsHandler\",\n",
    "        \"log_dir\": \"@output_dir\",\n",
    "        \"tag_name\": \"train_loss\",\n",
    "        \"output_transform\": \"$monai.handlers.from_engine(['loss'], first=True)\",\n",
    "    },\n",
    "]\n",
    "[print(handler) for handler in handlers]\n"
   ]
  },
  {
   "cell_type": "code",
   "execution_count": 26,
   "id": "949d48c5",
   "metadata": {},
   "outputs": [],
   "source": [
    "# Add train handlers\n",
    "train[\"handlers\"] = handlers"
   ]
  },
  {
   "cell_type": "markdown",
   "id": "7a7e868c",
   "metadata": {},
   "source": [
    "- Next we have the postprocessing transforms"
   ]
  },
  {
   "cell_type": "code",
   "execution_count": 27,
   "id": "3c4e5010",
   "metadata": {},
   "outputs": [
    {
     "data": {
      "text/plain": [
       "[{'name': 'Activationsd', 'args': {'keys': 'pred', 'softmax': True}},\n",
       " {'name': 'AsDiscreted',\n",
       "  'args': {'keys': ['pred', 'label'],\n",
       "   'argmax': [True, False],\n",
       "   'to_onehot': True,\n",
       "   'n_classes': '{out_classes}'}}]"
      ]
     },
     "execution_count": 27,
     "metadata": {},
     "output_type": "execute_result"
    }
   ],
   "source": [
    "config_train[\"train\"][\"post_transforms\"]"
   ]
  },
  {
   "cell_type": "code",
   "execution_count": 28,
   "id": "810504de",
   "metadata": {},
   "outputs": [],
   "source": [
    "post_transforms = [\n",
    "    {\n",
    "        \"_target_\": t[\"name\"],\n",
    "        **{\n",
    "            k: config_train[\"out_classes\"] if k == \"to_onehot\" else v\n",
    "            for k, v in t[\"args\"].items()\n",
    "            if k != \"n_classes\"\n",
    "        },\n",
    "    }\n",
    "    for t in config_train[\"train\"][\"post_transforms\"]\n",
    "]\n",
    "post_transforms = {\n",
    "    \"_target_\": \"Compose\",\n",
    "    \"transforms\": post_transforms,\n",
    "}"
   ]
  },
  {
   "cell_type": "code",
   "execution_count": 29,
   "id": "b02a3ffb",
   "metadata": {},
   "outputs": [],
   "source": [
    "# Add train post_transforms\n",
    "train[\"post_transforms\"] = post_transforms"
   ]
  },
  {
   "cell_type": "markdown",
   "id": "05af704e",
   "metadata": {},
   "source": [
    "- Then we convert our key metric"
   ]
  },
  {
   "cell_type": "code",
   "execution_count": 30,
   "id": "a6b998fc",
   "metadata": {},
   "outputs": [
    {
     "data": {
      "text/plain": [
       "{'name': 'Accuracy',\n",
       " 'log_label': 'train_acc',\n",
       " 'args': {'output_transform': \"#monai.handlers.from_engine(['pred', 'label'])\"}}"
      ]
     },
     "execution_count": 30,
     "metadata": {},
     "output_type": "execute_result"
    }
   ],
   "source": [
    "config_train[\"train\"][\"key_metric\"]"
   ]
  },
  {
   "cell_type": "markdown",
   "id": "b824befb",
   "metadata": {},
   "source": [
    "- Note that we'll need to address the Accuracy metric with ignite.metrics"
   ]
  },
  {
   "cell_type": "code",
   "execution_count": 31,
   "id": "af93c3a6",
   "metadata": {},
   "outputs": [
    {
     "data": {
      "text/plain": [
       "{'_target_': 'ignite.metrics.Accuracy',\n",
       " 'output_transform': \"$monai.handlers.from_engine(['pred', 'label'])\"}"
      ]
     },
     "execution_count": 31,
     "metadata": {},
     "output_type": "execute_result"
    }
   ],
   "source": [
    "key_metric = {\n",
    "    \"_target_\": \"ignite.metrics.Accuracy\",\n",
    "    \"output_transform\": \"$monai.handlers.from_engine(['pred', 'label'])\",\n",
    "}\n",
    "key_metric"
   ]
  },
  {
   "cell_type": "code",
   "execution_count": 32,
   "id": "0f6d8057",
   "metadata": {},
   "outputs": [],
   "source": [
    "# Add train key_metric\n",
    "train[\"key_metric\"] = {\"train_accuracy\": key_metric}"
   ]
  },
  {
   "cell_type": "markdown",
   "id": "88fbd789",
   "metadata": {},
   "source": [
    "- Finally we can create our SupervisedTrainer for ignite to handle our training"
   ]
  },
  {
   "cell_type": "code",
   "execution_count": 33,
   "id": "b0b1e53a",
   "metadata": {},
   "outputs": [
    {
     "data": {
      "text/plain": [
       "{'name': 'SupervisedTrainer',\n",
       " 'args': {'max_epochs': '{epochs}',\n",
       "  'device': 'cuda',\n",
       "  'train_data_loader': '@dataloader',\n",
       "  'network': '@model',\n",
       "  'loss_function': '@loss',\n",
       "  'optimizer': '@optimizer',\n",
       "  'inferer': '@inferer',\n",
       "  'postprocessing': '@post_transforms',\n",
       "  'key_train_metric': '@key_metric',\n",
       "  'train_handlers': '@handlers',\n",
       "  'amp': '{amp}'}}"
      ]
     },
     "execution_count": 33,
     "metadata": {},
     "output_type": "execute_result"
    }
   ],
   "source": [
    "config_train[\"train\"][\"trainer\"]"
   ]
  },
  {
   "cell_type": "markdown",
   "id": "0794fb71",
   "metadata": {},
   "source": [
    "- Note that we refer to all our variables that are referred to in train by prefixing with `train#`"
   ]
  },
  {
   "cell_type": "code",
   "execution_count": 34,
   "id": "e4d0d5bc",
   "metadata": {},
   "outputs": [
    {
     "data": {
      "text/plain": [
       "{'_target_': 'SupervisedTrainer',\n",
       " 'max_epochs': '@epochs',\n",
       " 'device': '@device',\n",
       " 'train_data_loader': '@train#dataloader',\n",
       " 'network': '@network',\n",
       " 'loss_function': '@loss',\n",
       " 'optimizer': '@optimizer',\n",
       " 'inferer': '@train#inferer',\n",
       " 'postprocessing': '@train#post_transforms',\n",
       " 'key_train_metric': '@train#key_metric',\n",
       " 'train_handlers': '@train#handlers',\n",
       " 'amp': True}"
      ]
     },
     "execution_count": 34,
     "metadata": {},
     "output_type": "execute_result"
    }
   ],
   "source": [
    "trainer = {\n",
    "    \"_target_\": config_train[\"train\"][\"trainer\"][\"name\"],\n",
    "    \"max_epochs\": \"@epochs\",\n",
    "    \"device\": \"@device\",\n",
    "    \"train_data_loader\": \"@train#dataloader\",\n",
    "    \"network\": \"@network\",\n",
    "    \"loss_function\": \"@loss\",\n",
    "    \"optimizer\": \"@optimizer\",\n",
    "    \"inferer\": \"@train#inferer\",\n",
    "    \"postprocessing\": \"@train#post_transforms\",\n",
    "    \"key_train_metric\": \"@train#key_metric\",\n",
    "    \"train_handlers\": \"@train#handlers\",\n",
    "    \"amp\": True,\n",
    "}\n",
    "trainer"
   ]
  },
  {
   "cell_type": "code",
   "execution_count": 35,
   "id": "e7d689d2",
   "metadata": {},
   "outputs": [],
   "source": [
    "# add to our configs\n",
    "train[\"trainer\"] = trainer\n",
    "bundle_config[\"train\"] = train"
   ]
  },
  {
   "cell_type": "markdown",
   "id": "c6722c3e",
   "metadata": {},
   "source": [
    "- Validation section is done similarly"
   ]
  },
  {
   "cell_type": "code",
   "execution_count": 36,
   "id": "edf55e86",
   "metadata": {},
   "outputs": [],
   "source": [
    "validate = {}\n",
    "validate[\"pre_transforms\"] = validation_transforms\n",
    "validate[\"dataset\"] = {\n",
    "    \"_target_\": \"CacheDataset\",\n",
    "    \"data\": \"$[{'image': i, 'label': l} for i, l in zip(@images[-9:], @labels[-9:])]\",\n",
    "    \"transform\": \"@validate#pre_transforms\",\n",
    "    \"cache_rate\": 1.0,\n",
    "    \"num_workers\": 2,\n",
    "}\n",
    "validate[\"dataloader\"] = {\n",
    "    \"_target_\": \"DataLoader\",\n",
    "    \"dataset\": \"@validate#dataset\",\n",
    "    \"batch_size\": 1,\n",
    "    \"shuffle\": False,\n",
    "    \"num_workers\": 2,\n",
    "}"
   ]
  },
  {
   "cell_type": "code",
   "execution_count": 37,
   "id": "758574a0",
   "metadata": {},
   "outputs": [
    {
     "data": {
      "text/plain": [
       "{'name': 'SlidingWindowInferer',\n",
       " 'args': {'roi_size': ['{roi_x}', '{roi_y}', '{roi_z}'],\n",
       "  'sw_batch_size': 4,\n",
       "  'overlap': 0.5}}"
      ]
     },
     "execution_count": 37,
     "metadata": {},
     "output_type": "execute_result"
    }
   ],
   "source": [
    "config_train[\"validate\"][\"inferer\"]"
   ]
  },
  {
   "cell_type": "code",
   "execution_count": 38,
   "id": "bec7dce5",
   "metadata": {},
   "outputs": [],
   "source": [
    "inferer = json.loads(\n",
    "    json.dumps(config_train[\"validate\"][\"inferer\"])\n",
    "    .replace('\"{roi_x}\"', str(config_train[\"roi_x\"]))\n",
    "    .replace('\"{roi_y}\"', str(config_train[\"roi_y\"]))\n",
    "    .replace('\"{roi_z}\"', str(config_train[\"roi_z\"]))\n",
    ")\n",
    "inferer = {\n",
    "    \"_target_\": inferer[\"name\"],\n",
    "    **inferer[\"args\"],\n",
    "}"
   ]
  },
  {
   "cell_type": "code",
   "execution_count": 39,
   "id": "8a8231cf",
   "metadata": {},
   "outputs": [],
   "source": [
    "validate[\"inferer\"] = inferer"
   ]
  },
  {
   "cell_type": "code",
   "execution_count": 40,
   "id": "058d2276",
   "metadata": {},
   "outputs": [
    {
     "data": {
      "text/plain": [
       "[{'name': 'StatsHandler',\n",
       "  'rank': 0,\n",
       "  'args': {'output_transform': 'lambda x: None'}},\n",
       " {'name': 'TensorBoardStatsHandler',\n",
       "  'rank': 0,\n",
       "  'args': {'log_dir': '{MMAR_CKPT_DIR}',\n",
       "   'output_transform': 'lambda x: None'}},\n",
       " {'name': 'CheckpointSaver',\n",
       "  'rank': 0,\n",
       "  'args': {'save_dir': '{MMAR_CKPT_DIR}',\n",
       "   'save_dict': {'model': '@model', 'train_conf': '@conf'},\n",
       "   'save_key_metric': True}}]"
      ]
     },
     "execution_count": 40,
     "metadata": {},
     "output_type": "execute_result"
    }
   ],
   "source": [
    "config_train[\"validate\"][\"handlers\"]"
   ]
  },
  {
   "cell_type": "code",
   "execution_count": 41,
   "id": "cabbeea1",
   "metadata": {},
   "outputs": [
    {
     "data": {
      "text/plain": [
       "[{'_target_': 'StatsHandler', 'output_transform': '$lambda x: None'},\n",
       " {'_target_': 'TensorBoardStatsHandler',\n",
       "  'log_dir': '@output_dir',\n",
       "  'output_transform': '$lambda x: None'},\n",
       " {'_target_': 'CheckpointSaver',\n",
       "  'save_dir': '@ckpt_dir',\n",
       "  'save_dict': {'model': '@network'},\n",
       "  'save_key_metric': True,\n",
       "  'key_metric_filename': 'val_model.pt'}]"
      ]
     },
     "execution_count": 41,
     "metadata": {},
     "output_type": "execute_result"
    }
   ],
   "source": [
    "validate[\"handlers\"] = [\n",
    "    {\"_target_\": \"StatsHandler\", \"output_transform\": \"$lambda x: None\"},\n",
    "    {\n",
    "        \"_target_\": \"TensorBoardStatsHandler\",\n",
    "        \"log_dir\": \"@output_dir\",\n",
    "        \"output_transform\": \"$lambda x: None\",\n",
    "    },\n",
    "    {\n",
    "        \"_target_\": \"CheckpointSaver\",\n",
    "        \"save_dir\": \"@ckpt_dir\",\n",
    "        \"save_dict\": {\"model\": \"@network\"},\n",
    "        \"save_key_metric\": True,\n",
    "        \"key_metric_filename\": \"val_model.pt\"\n",
    "    },\n",
    "]\n",
    "validate[\"handlers\"]"
   ]
  },
  {
   "cell_type": "code",
   "execution_count": 42,
   "id": "d21c529b",
   "metadata": {},
   "outputs": [
    {
     "data": {
      "text/plain": [
       "{'name': 'MeanDice',\n",
       " 'log_label': 'val_mean_dice',\n",
       " 'args': {'include_background': False,\n",
       "  'output_transform': \"#monai.handlers.from_engine(['pred', 'label'])\"}}"
      ]
     },
     "execution_count": 42,
     "metadata": {},
     "output_type": "execute_result"
    }
   ],
   "source": [
    "config_train[\"validate\"][\"key_metric\"]"
   ]
  },
  {
   "cell_type": "code",
   "execution_count": 43,
   "id": "ef179ddc",
   "metadata": {},
   "outputs": [
    {
     "data": {
      "text/plain": [
       "{'val_mean_dice': {'_target_': 'MeanDice',\n",
       "  'include_background': False,\n",
       "  'output_transform': \"$monai.handlers.from_engine(['pred', 'label'])\"}}"
      ]
     },
     "execution_count": 43,
     "metadata": {},
     "output_type": "execute_result"
    }
   ],
   "source": [
    "validate[\"key_metric\"] = {\n",
    "    \"val_mean_dice\": {\n",
    "        \"_target_\": config_train[\"validate\"][\"key_metric\"][\"name\"],\n",
    "        **config_train[\"validate\"][\"key_metric\"][\"args\"],\n",
    "    }\n",
    "}\n",
    "validate[\"key_metric\"][\"val_mean_dice\"][\n",
    "    \"output_transform\"\n",
    "] = \"$monai.handlers.from_engine(['pred', 'label'])\"\n",
    "validate[\"key_metric\"]"
   ]
  },
  {
   "cell_type": "code",
   "execution_count": 44,
   "id": "4b010c3f",
   "metadata": {},
   "outputs": [
    {
     "data": {
      "text/plain": [
       "[{'name': 'Accuracy',\n",
       "  'log_label': 'val_acc',\n",
       "  'args': {'output_transform': \"#monai.handlers.from_engine(['pred', 'label'])\"}}]"
      ]
     },
     "execution_count": 44,
     "metadata": {},
     "output_type": "execute_result"
    }
   ],
   "source": [
    "config_train[\"validate\"][\"additional_metrics\"]"
   ]
  },
  {
   "cell_type": "code",
   "execution_count": 45,
   "id": "48baecbd",
   "metadata": {},
   "outputs": [
    {
     "data": {
      "text/plain": [
       "{'val_accuracy': {'_target_': 'ignite.metrics.Accuracy',\n",
       "  'output_transform': \"$monai.handlers.from_engine(['pred', 'label'])\"}}"
      ]
     },
     "execution_count": 45,
     "metadata": {},
     "output_type": "execute_result"
    }
   ],
   "source": [
    "validate[\"additional_metrics\"] = {\n",
    "    \"val_accuracy\": {\n",
    "        \"_target_\": \"ignite.metrics.Accuracy\",\n",
    "        \"output_transform\": \"$monai.handlers.from_engine(['pred', 'label'])\",\n",
    "    }\n",
    "}\n",
    "validate[\"additional_metrics\"]"
   ]
  },
  {
   "cell_type": "code",
   "execution_count": 46,
   "id": "8e2a112c",
   "metadata": {},
   "outputs": [
    {
     "data": {
      "text/plain": [
       "{'name': 'SupervisedEvaluator',\n",
       " 'args': {'device': 'cuda',\n",
       "  'val_data_loader': '@dataloader',\n",
       "  'network': '@model',\n",
       "  'inferer': '@inferer',\n",
       "  'postprocessing': '@post_transforms',\n",
       "  'key_val_metric': '@key_metric',\n",
       "  'additional_metrics': '@additional_metrics',\n",
       "  'val_handlers': '@handlers',\n",
       "  'amp': '{amp}'}}"
      ]
     },
     "execution_count": 46,
     "metadata": {},
     "output_type": "execute_result"
    }
   ],
   "source": [
    "config_train[\"validate\"][\"evaluator\"]"
   ]
  },
  {
   "cell_type": "code",
   "execution_count": 47,
   "id": "7b9b2a7d",
   "metadata": {},
   "outputs": [
    {
     "data": {
      "text/plain": [
       "{'_target_': 'SupervisedEvaluator',\n",
       " 'device': '@device',\n",
       " 'val_data_loader': '@validate#dataloader',\n",
       " 'network': '@network',\n",
       " 'inferer': '@validate#inferer',\n",
       " 'postprocessing': '@train#post_transforms',\n",
       " 'key_val_metric': '@validate#key_metric',\n",
       " 'additional_metrics': '@validate#additional_metrics',\n",
       " 'val_handlers': '@validate#handlers',\n",
       " 'amp': True}"
      ]
     },
     "execution_count": 47,
     "metadata": {},
     "output_type": "execute_result"
    }
   ],
   "source": [
    "evaluator = {\n",
    "    \"_target_\": config_train[\"validate\"][\"evaluator\"][\"name\"],\n",
    "    \"device\": \"@device\",\n",
    "    \"val_data_loader\": \"@validate#dataloader\",\n",
    "    \"network\": \"@network\",\n",
    "    \"inferer\": \"@validate#inferer\",\n",
    "    \"postprocessing\": \"@train#post_transforms\",\n",
    "    \"key_val_metric\": \"@validate#key_metric\",\n",
    "    \"additional_metrics\": \"@validate#additional_metrics\",\n",
    "    \"val_handlers\": \"@validate#handlers\",\n",
    "    \"amp\": True,\n",
    "}\n",
    "evaluator"
   ]
  },
  {
   "cell_type": "code",
   "execution_count": 48,
   "id": "41ecaea9",
   "metadata": {},
   "outputs": [],
   "source": [
    "validate[\"evaluator\"] = evaluator"
   ]
  },
  {
   "cell_type": "code",
   "execution_count": 49,
   "id": "d0f36f2b",
   "metadata": {},
   "outputs": [],
   "source": [
    "bundle_config[\"validate\"] = validate"
   ]
  },
  {
   "cell_type": "markdown",
   "id": "7d3d87e2",
   "metadata": {},
   "source": [
    "- Finally, we add a \"training\" section\n",
    "- This includes the code that we will run if we select \"training\""
   ]
  },
  {
   "cell_type": "code",
   "execution_count": 50,
   "id": "e331e4f4",
   "metadata": {},
   "outputs": [],
   "source": [
    "bundle_config[\"training\"] = [\n",
    "    \"$monai.utils.set_determinism(seed=123)\",\n",
    "    \"$setattr(torch.backends.cudnn, 'benchmark', True)\",\n",
    "    \"$@train#trainer.run()\"\n",
    "]"
   ]
  },
  {
   "cell_type": "markdown",
   "id": "a053fe1f",
   "metadata": {},
   "source": [
    "- This is what the overall bundle_config will look like"
   ]
  },
  {
   "cell_type": "code",
   "execution_count": 51,
   "id": "f1691ef4",
   "metadata": {},
   "outputs": [
    {
     "data": {
      "text/plain": [
       "{'imports': ['$import glob', '$import os', '$import ignite'],\n",
       " 'device': \"$torch.device('cuda:0' if torch.cuda.is_available() else 'cpu')\",\n",
       " 'bundle_root': '/workspace/monai-bundle-demo-covid19-lung-segmentation',\n",
       " 'ckpt_dir': \"$@bundle_root + '/models'\",\n",
       " 'output_dir': \"$@bundle_root + '/eval'\",\n",
       " 'dataset_dir': '/workspace/datasets',\n",
       " 'images': \"$list(sorted(glob.glob(@dataset_dir + '/CT-Covid-19-August2020/*.nii.gz')))\",\n",
       " 'labels': \"$list(sorted(glob.glob(@dataset_dir + '/CT-Covid-19-August2020-seg/*.nii.gz')))\",\n",
       " 'val_interval': 5,\n",
       " 'epochs': 100,\n",
       " 'network_def': {'_target_': 'AHNet',\n",
       "  'spatial_dims': 3,\n",
       "  'in_channels': 1,\n",
       "  'out_channels': 2,\n",
       "  'psp_block_num': 0,\n",
       "  'upsample_mode': 'trilinear',\n",
       "  'pretrained': True},\n",
       " 'network': '$@network_def.to(@device)',\n",
       " 'loss': {'_target_': 'DiceLoss',\n",
       "  'jaccard': False,\n",
       "  'to_onehot_y': True,\n",
       "  'softmax': True,\n",
       "  'squared_pred': True},\n",
       " 'optimizer': {'_target_': 'torch.optim.Adam',\n",
       "  'params': '$@network.parameters()',\n",
       "  'lr': 0.0001},\n",
       " 'train': {'pre_transforms': {'_target_': 'Compose',\n",
       "   'transforms': [{'_target_': 'LoadImaged', 'keys': ['image', 'label']},\n",
       "    {'_target_': 'EnsureChannelFirstd', 'keys': ['image', 'label']},\n",
       "    {'_target_': 'Spacingd',\n",
       "     'keys': ['image', 'label'],\n",
       "     'pixdim': [0.8, 0.8, 5],\n",
       "     'mode': ['bilinear', 'nearest'],\n",
       "     'align_corners': [True, True]},\n",
       "    {'_target_': 'ScaleIntensityRanged',\n",
       "     'keys': 'image',\n",
       "     'a_min': -1500,\n",
       "     'a_max': 500,\n",
       "     'b_min': 0,\n",
       "     'b_max': 1,\n",
       "     'clip': True},\n",
       "    {'_target_': 'CropForegroundd',\n",
       "     'keys': ['image', 'label'],\n",
       "     'source_key': 'image'},\n",
       "    {'_target_': 'SpatialPadd',\n",
       "     'keys': ['image', 'label'],\n",
       "     'spatial_size': [224, 224, 32],\n",
       "     'mode': ['minimum', 'constant']},\n",
       "    {'_target_': 'RandCropByPosNegLabeld',\n",
       "     'keys': ['image', 'label'],\n",
       "     'label_key': 'label',\n",
       "     'spatial_size': [224, 224, 32],\n",
       "     'pos': 1,\n",
       "     'neg': 1,\n",
       "     'num_samples': 2,\n",
       "     'image_key': 'image',\n",
       "     'image_threshold': 0},\n",
       "    {'_target_': 'RandFlipd',\n",
       "     'keys': ['image', 'label'],\n",
       "     'spatial_axis': [0],\n",
       "     'prob': 0.1},\n",
       "    {'_target_': 'RandFlipd',\n",
       "     'keys': ['image', 'label'],\n",
       "     'spatial_axis': [1],\n",
       "     'prob': 0.1},\n",
       "    {'_target_': 'RandFlipd',\n",
       "     'keys': ['image', 'label'],\n",
       "     'spatial_axis': [2],\n",
       "     'prob': 0.1},\n",
       "    {'_target_': 'RandRotate90d',\n",
       "     'keys': ['image', 'label'],\n",
       "     'prob': 0.1,\n",
       "     'max_k': 3},\n",
       "    {'_target_': 'RandShiftIntensityd',\n",
       "     'keys': 'image',\n",
       "     'offsets': 0.1,\n",
       "     'prob': 0.5},\n",
       "    {'_target_': 'ToTensord', 'keys': ['image', 'label']}]},\n",
       "  'dataset': {'_target_': 'CacheDataset',\n",
       "   'transform': '@train#pre_transforms',\n",
       "   'cache_rate': 1,\n",
       "   'num_workers': 4,\n",
       "   'data': \"$[{'image': i, 'label': l} for i, l in zip(@images[-9:], @labels[-9:])]\"},\n",
       "  'dataloader': {'_target_': 'DataLoader',\n",
       "   'dataset': '@train#dataset',\n",
       "   'batch_size': 2,\n",
       "   'shuffle': True,\n",
       "   'num_workers': 4},\n",
       "  'inferer': {'_target_': 'SimpleInferer'},\n",
       "  'lr_scheduler': {'_target_': 'torch.optim.lr_scheduler.StepLR',\n",
       "   'optimizer': '@optimizer',\n",
       "   'step_size': 5000,\n",
       "   'gamma': 0.1},\n",
       "  'handlers': [{'_target_': 'LrScheduleHandler',\n",
       "    'lr_scheduler': '@train#lr_scheduler',\n",
       "    'print_lr': True},\n",
       "   {'_target_': 'ValidationHandler',\n",
       "    'validator': '@validate#evaluator',\n",
       "    'epoch_level': True,\n",
       "    'interval': '@val_interval'},\n",
       "   {'_target_': 'CheckpointSaver',\n",
       "    'save_dir': '@ckpt_dir',\n",
       "    'save_dict': {'model': '@network',\n",
       "     'optimizer': '@optimizer',\n",
       "     'lr_scheduler': '@train#lr_scheduler'},\n",
       "    'save_final': True,\n",
       "    'save_interval': 400},\n",
       "   {'_target_': 'StatsHandler',\n",
       "    'tag_name': 'train_loss',\n",
       "    'output_transform': \"$monai.handlers.from_engine(['loss'], first=True)\"},\n",
       "   {'_target_': 'TensorBoardStatsHandler',\n",
       "    'log_dir': '@output_dir',\n",
       "    'tag_name': 'train_loss',\n",
       "    'output_transform': \"$monai.handlers.from_engine(['loss'], first=True)\"}],\n",
       "  'post_transforms': {'_target_': 'Compose',\n",
       "   'transforms': [{'_target_': 'Activationsd',\n",
       "     'keys': 'pred',\n",
       "     'softmax': True},\n",
       "    {'_target_': 'AsDiscreted',\n",
       "     'keys': ['pred', 'label'],\n",
       "     'argmax': [True, False],\n",
       "     'to_onehot': 2}]},\n",
       "  'key_metric': {'train_accuracy': {'_target_': 'ignite.metrics.Accuracy',\n",
       "    'output_transform': \"$monai.handlers.from_engine(['pred', 'label'])\"}},\n",
       "  'trainer': {'_target_': 'SupervisedTrainer',\n",
       "   'max_epochs': '@epochs',\n",
       "   'device': '@device',\n",
       "   'train_data_loader': '@train#dataloader',\n",
       "   'network': '@network',\n",
       "   'loss_function': '@loss',\n",
       "   'optimizer': '@optimizer',\n",
       "   'inferer': '@train#inferer',\n",
       "   'postprocessing': '@train#post_transforms',\n",
       "   'key_train_metric': '@train#key_metric',\n",
       "   'train_handlers': '@train#handlers',\n",
       "   'amp': True}},\n",
       " 'validate': {'pre_transforms': {'_target_': 'Compose',\n",
       "   'transforms': [{'_target_': 'LoadImaged', 'keys': ['image', 'label']},\n",
       "    {'_target_': 'EnsureChannelFirstd', 'keys': ['image', 'label']},\n",
       "    {'_target_': 'Spacingd',\n",
       "     'keys': ['image', 'label'],\n",
       "     'pixdim': [0.8, 0.8, 5],\n",
       "     'mode': ['bilinear', 'nearest'],\n",
       "     'align_corners': [True, True]},\n",
       "    {'_target_': 'ScaleIntensityRanged',\n",
       "     'keys': 'image',\n",
       "     'a_min': -1500,\n",
       "     'a_max': 500,\n",
       "     'b_min': 0,\n",
       "     'b_max': 1,\n",
       "     'clip': True},\n",
       "    {'_target_': 'CropForegroundd',\n",
       "     'keys': ['image', 'label'],\n",
       "     'source_key': 'image'},\n",
       "    {'_target_': 'SpatialPadd',\n",
       "     'keys': ['image', 'label'],\n",
       "     'spatial_size': [224, 224, 32],\n",
       "     'mode': ['minimum', 'constant']},\n",
       "    {'_target_': 'ToTensord', 'keys': ['image', 'label']}]},\n",
       "  'dataset': {'_target_': 'CacheDataset',\n",
       "   'data': \"$[{'image': i, 'label': l} for i, l in zip(@images[-9:], @labels[-9:])]\",\n",
       "   'transform': '@validate#pre_transforms',\n",
       "   'cache_rate': 1.0,\n",
       "   'num_workers': 2},\n",
       "  'dataloader': {'_target_': 'DataLoader',\n",
       "   'dataset': '@validate#dataset',\n",
       "   'batch_size': 1,\n",
       "   'shuffle': False,\n",
       "   'num_workers': 2},\n",
       "  'inferer': {'_target_': 'SlidingWindowInferer',\n",
       "   'roi_size': [224, 224, 32],\n",
       "   'sw_batch_size': 4,\n",
       "   'overlap': 0.5},\n",
       "  'handlers': [{'_target_': 'StatsHandler',\n",
       "    'output_transform': '$lambda x: None'},\n",
       "   {'_target_': 'TensorBoardStatsHandler',\n",
       "    'log_dir': '@output_dir',\n",
       "    'output_transform': '$lambda x: None'},\n",
       "   {'_target_': 'CheckpointSaver',\n",
       "    'save_dir': '@ckpt_dir',\n",
       "    'save_dict': {'model': '@network'},\n",
       "    'save_key_metric': True,\n",
       "    'key_metric_filename': 'val_model.pt'}],\n",
       "  'key_metric': {'val_mean_dice': {'_target_': 'MeanDice',\n",
       "    'include_background': False,\n",
       "    'output_transform': \"$monai.handlers.from_engine(['pred', 'label'])\"}},\n",
       "  'additional_metrics': {'val_accuracy': {'_target_': 'ignite.metrics.Accuracy',\n",
       "    'output_transform': \"$monai.handlers.from_engine(['pred', 'label'])\"}},\n",
       "  'evaluator': {'_target_': 'SupervisedEvaluator',\n",
       "   'device': '@device',\n",
       "   'val_data_loader': '@validate#dataloader',\n",
       "   'network': '@network',\n",
       "   'inferer': '@validate#inferer',\n",
       "   'postprocessing': '@train#post_transforms',\n",
       "   'key_val_metric': '@validate#key_metric',\n",
       "   'additional_metrics': '@validate#additional_metrics',\n",
       "   'val_handlers': '@validate#handlers',\n",
       "   'amp': True}},\n",
       " 'training': ['$monai.utils.set_determinism(seed=123)',\n",
       "  \"$setattr(torch.backends.cudnn, 'benchmark', True)\",\n",
       "  '$@train#trainer.run()']}"
      ]
     },
     "execution_count": 51,
     "metadata": {},
     "output_type": "execute_result"
    }
   ],
   "source": [
    "bundle_config"
   ]
  },
  {
   "cell_type": "markdown",
   "id": "26987ca0",
   "metadata": {},
   "source": [
    "- Next we'll open up a train.json file and write the config into it."
   ]
  },
  {
   "cell_type": "code",
   "execution_count": 52,
   "id": "eb122114",
   "metadata": {},
   "outputs": [],
   "source": [
    "with open(APP_ROOT + \"/configs/train.json\", \"w\") as f:\n",
    "    json.dump(bundle_config, f)"
   ]
  },
  {
   "cell_type": "markdown",
   "id": "beee7e65",
   "metadata": {},
   "source": [
    "- Finally to test our code, we can use `monai.bundle run`\n",
    "- then we specify `training` which will run the code under the training section that we wrote at the end\n",
    "- and we specify the config file to be the one that we just wrote into"
   ]
  },
  {
   "cell_type": "code",
   "execution_count": 53,
   "id": "62992d7f",
   "metadata": {
    "scrolled": true
   },
   "outputs": [
    {
     "name": "stdout",
     "output_type": "stream",
     "text": [
      "2022-11-29 06:22:51,125 - INFO - --- input summary of monai.bundle.scripts.run ---\n",
      "2022-11-29 06:22:51,125 - INFO - > runner_id: 'training'\n",
      "2022-11-29 06:22:51,125 - INFO - > config_file: '/workspace/monai-bundle-demo-covid19-lung-segmentation/configs/train.json'\n",
      "2022-11-29 06:22:51,125 - INFO - ---\n",
      "\n",
      "\n",
      "Loading dataset: 100%|████████████████████████████| 9/9 [00:05<00:00,  1.56it/s]\n",
      "Downloading: \"https://download.pytorch.org/models/resnet50-0676ba61.pth\" to /root/.cache/torch/hub/checkpoints/resnet50-0676ba61.pth\n",
      "100%|██████████████████████████████████████| 97.8M/97.8M [00:02<00:00, 39.7MB/s]\n",
      "Loading dataset: 100%|████████████████████████████| 9/9 [00:07<00:00,  1.24it/s]\n",
      "2022-11-29 06:23:08,975 - Engine run resuming from iteration 0, epoch 0 until 100 epochs\n",
      "2022-11-29 06:23:14,657 - Epoch: 1/100, Iter: 1/5 -- train_loss: 0.5739 \n",
      "2022-11-29 06:23:14,887 - Epoch: 1/100, Iter: 2/5 -- train_loss: 0.5293 \n",
      "2022-11-29 06:23:15,113 - Epoch: 1/100, Iter: 3/5 -- train_loss: 0.5801 \n",
      "2022-11-29 06:23:15,382 - Epoch: 1/100, Iter: 4/5 -- train_loss: 0.5841 \n",
      "2022-11-29 06:23:18,697 - Epoch: 1/100, Iter: 5/5 -- train_loss: 0.4984 \n",
      "2022-11-29 06:23:18,697 - Got new best metric of train_accuracy: 0.4891888884460034\n",
      "2022-11-29 06:23:18,697 - Current learning rate: 0.0001\n",
      "2022-11-29 06:23:18,697 - Epoch[1] Metrics -- train_accuracy: 0.4892 \n",
      "2022-11-29 06:23:18,697 - Key metric: train_accuracy best value: 0.4891888884460034 at epoch: 1\n",
      "2022-11-29 06:23:18,698 - Epoch[1] Complete. Time taken: 00:00:09.647\n",
      "2022-11-29 06:23:19,377 - Epoch: 2/100, Iter: 1/5 -- train_loss: 0.4907 \n",
      "2022-11-29 06:23:19,604 - Epoch: 2/100, Iter: 2/5 -- train_loss: 0.4712 \n",
      "2022-11-29 06:23:19,832 - Epoch: 2/100, Iter: 3/5 -- train_loss: 0.5270 \n",
      "2022-11-29 06:23:20,059 - Epoch: 2/100, Iter: 4/5 -- train_loss: 0.4368 \n",
      "2022-11-29 06:23:20,215 - Epoch: 2/100, Iter: 5/5 -- train_loss: 0.4366 \n",
      "2022-11-29 06:23:20,216 - Got new best metric of train_accuracy: 0.5779240061096053\n",
      "2022-11-29 06:23:20,216 - Current learning rate: 0.0001\n",
      "2022-11-29 06:23:20,216 - Epoch[2] Metrics -- train_accuracy: 0.5779 \n",
      "2022-11-29 06:23:20,216 - Key metric: train_accuracy best value: 0.5779240061096053 at epoch: 2\n",
      "2022-11-29 06:23:20,216 - Epoch[2] Complete. Time taken: 00:00:01.518\n",
      "2022-11-29 06:23:20,926 - Epoch: 3/100, Iter: 1/5 -- train_loss: 0.4403 \n",
      "2022-11-29 06:23:21,153 - Epoch: 3/100, Iter: 2/5 -- train_loss: 0.5749 \n",
      "2022-11-29 06:23:21,380 - Epoch: 3/100, Iter: 3/5 -- train_loss: 0.3491 \n",
      "2022-11-29 06:23:21,606 - Epoch: 3/100, Iter: 4/5 -- train_loss: 0.4082 \n",
      "2022-11-29 06:23:21,762 - Epoch: 3/100, Iter: 5/5 -- train_loss: 0.3798 \n",
      "2022-11-29 06:23:21,762 - Got new best metric of train_accuracy: 0.659062080642804\n",
      "2022-11-29 06:23:21,762 - Current learning rate: 0.0001\n",
      "2022-11-29 06:23:21,763 - Epoch[3] Metrics -- train_accuracy: 0.6591 \n",
      "2022-11-29 06:23:21,763 - Key metric: train_accuracy best value: 0.659062080642804 at epoch: 3\n",
      "2022-11-29 06:23:21,763 - Epoch[3] Complete. Time taken: 00:00:01.547\n",
      "2022-11-29 06:23:22,359 - Epoch: 4/100, Iter: 1/5 -- train_loss: 0.4088 \n",
      "2022-11-29 06:23:22,606 - Epoch: 4/100, Iter: 2/5 -- train_loss: 0.4552 \n",
      "2022-11-29 06:23:22,854 - Epoch: 4/100, Iter: 3/5 -- train_loss: 0.3871 \n",
      "2022-11-29 06:23:23,121 - Epoch: 4/100, Iter: 4/5 -- train_loss: 0.2907 \n",
      "2022-11-29 06:23:23,257 - Epoch: 4/100, Iter: 5/5 -- train_loss: 0.5296 \n",
      "2022-11-29 06:23:23,257 - Got new best metric of train_accuracy: 0.6945924304780506\n",
      "2022-11-29 06:23:23,257 - Current learning rate: 0.0001\n",
      "2022-11-29 06:23:23,257 - Epoch[4] Metrics -- train_accuracy: 0.6946 \n",
      "2022-11-29 06:23:23,257 - Key metric: train_accuracy best value: 0.6945924304780506 at epoch: 4\n",
      "2022-11-29 06:23:23,258 - Epoch[4] Complete. Time taken: 00:00:01.495\n",
      "2022-11-29 06:23:23,952 - Epoch: 5/100, Iter: 1/5 -- train_loss: 0.3147 \n",
      "2022-11-29 06:23:24,201 - Epoch: 5/100, Iter: 2/5 -- train_loss: 0.2878 \n",
      "2022-11-29 06:23:24,427 - Epoch: 5/100, Iter: 3/5 -- train_loss: 0.3359 \n",
      "2022-11-29 06:23:24,654 - Epoch: 5/100, Iter: 4/5 -- train_loss: 0.4088 \n",
      "2022-11-29 06:23:24,809 - Epoch: 5/100, Iter: 5/5 -- train_loss: 0.2743 \n",
      "2022-11-29 06:23:24,809 - Got new best metric of train_accuracy: 0.758027091858879\n",
      "2022-11-29 06:23:24,810 - Current learning rate: 0.0001\n",
      "2022-11-29 06:23:24,810 - Engine run resuming from iteration 0, epoch 4 until 5 epochs\n",
      "2022-11-29 06:23:33,104 - Got new best metric of val_mean_dice: 0.004253517370671034\n",
      "2022-11-29 06:23:33,104 - Epoch[5] Metrics -- val_accuracy: 0.9254 val_mean_dice: 0.0043 \n",
      "2022-11-29 06:23:33,104 - Key metric: val_mean_dice best value: 0.004253517370671034 at epoch: 5\n",
      "2022-11-29 06:23:33,180 - Epoch[5] Complete. Time taken: 00:00:08.339\n",
      "2022-11-29 06:23:33,180 - Engine run complete. Time taken: 00:00:08.370\n",
      "2022-11-29 06:23:33,224 - Epoch[5] Metrics -- train_accuracy: 0.7580 \n",
      "2022-11-29 06:23:33,224 - Key metric: train_accuracy best value: 0.758027091858879 at epoch: 5\n",
      "2022-11-29 06:23:33,224 - Epoch[5] Complete. Time taken: 00:00:09.967\n",
      "2022-11-29 06:23:33,820 - Epoch: 6/100, Iter: 1/5 -- train_loss: 0.2548 \n",
      "2022-11-29 06:23:34,107 - Epoch: 6/100, Iter: 2/5 -- train_loss: 0.3962 \n",
      "2022-11-29 06:23:34,335 - Epoch: 6/100, Iter: 3/5 -- train_loss: 0.2640 \n",
      "2022-11-29 06:23:34,563 - Epoch: 6/100, Iter: 4/5 -- train_loss: 0.2629 \n",
      "2022-11-29 06:23:34,720 - Epoch: 6/100, Iter: 5/5 -- train_loss: 0.2366 \n",
      "2022-11-29 06:23:34,721 - Got new best metric of train_accuracy: 0.8023334944329295\n",
      "2022-11-29 06:23:34,721 - Current learning rate: 0.0001\n",
      "2022-11-29 06:23:34,721 - Epoch[6] Metrics -- train_accuracy: 0.8023 \n",
      "2022-11-29 06:23:34,721 - Key metric: train_accuracy best value: 0.8023334944329295 at epoch: 6\n",
      "2022-11-29 06:23:34,721 - Epoch[6] Complete. Time taken: 00:00:01.497\n",
      "2022-11-29 06:23:35,363 - Epoch: 7/100, Iter: 1/5 -- train_loss: 0.3507 \n",
      "2022-11-29 06:23:35,591 - Epoch: 7/100, Iter: 2/5 -- train_loss: 0.2156 \n",
      "2022-11-29 06:23:35,839 - Epoch: 7/100, Iter: 3/5 -- train_loss: 0.2394 \n",
      "2022-11-29 06:23:36,067 - Epoch: 7/100, Iter: 4/5 -- train_loss: 0.3742 \n",
      "2022-11-29 06:23:36,224 - Epoch: 7/100, Iter: 5/5 -- train_loss: 0.4111 \n",
      "2022-11-29 06:23:36,225 - Got new best metric of train_accuracy: 0.8329081632653061\n",
      "2022-11-29 06:23:36,225 - Current learning rate: 0.0001\n",
      "2022-11-29 06:23:36,225 - Epoch[7] Metrics -- train_accuracy: 0.8329 \n",
      "2022-11-29 06:23:36,225 - Key metric: train_accuracy best value: 0.8329081632653061 at epoch: 7\n",
      "2022-11-29 06:23:36,225 - Epoch[7] Complete. Time taken: 00:00:01.504\n",
      "2022-11-29 06:23:36,926 - Epoch: 8/100, Iter: 1/5 -- train_loss: 0.2496 \n",
      "2022-11-29 06:23:37,155 - Epoch: 8/100, Iter: 2/5 -- train_loss: 0.1997 \n",
      "2022-11-29 06:23:37,382 - Epoch: 8/100, Iter: 3/5 -- train_loss: 0.2678 \n",
      "2022-11-29 06:23:37,616 - Epoch: 8/100, Iter: 4/5 -- train_loss: 0.3446 \n",
      "2022-11-29 06:23:37,773 - Epoch: 8/100, Iter: 5/5 -- train_loss: 0.2487 \n",
      "2022-11-29 06:23:37,773 - Got new best metric of train_accuracy: 0.8581936375624468\n",
      "2022-11-29 06:23:37,773 - Current learning rate: 0.0001\n",
      "2022-11-29 06:23:37,773 - Epoch[8] Metrics -- train_accuracy: 0.8582 \n",
      "2022-11-29 06:23:37,773 - Key metric: train_accuracy best value: 0.8581936375624468 at epoch: 8\n",
      "2022-11-29 06:23:37,774 - Epoch[8] Complete. Time taken: 00:00:01.549\n",
      "2022-11-29 06:23:38,343 - Epoch: 9/100, Iter: 1/5 -- train_loss: 0.3301 \n",
      "2022-11-29 06:23:38,631 - Epoch: 9/100, Iter: 2/5 -- train_loss: 0.3225 \n",
      "2022-11-29 06:23:38,858 - Epoch: 9/100, Iter: 3/5 -- train_loss: 0.2272 \n",
      "2022-11-29 06:23:39,085 - Epoch: 9/100, Iter: 4/5 -- train_loss: 0.2141 \n",
      "2022-11-29 06:23:39,241 - Epoch: 9/100, Iter: 5/5 -- train_loss: 0.2014 \n",
      "2022-11-29 06:23:39,242 - Got new best metric of train_accuracy: 0.8585287773149625\n",
      "2022-11-29 06:23:39,242 - Current learning rate: 0.0001\n",
      "2022-11-29 06:23:39,242 - Epoch[9] Metrics -- train_accuracy: 0.8585 \n",
      "2022-11-29 06:23:39,242 - Key metric: train_accuracy best value: 0.8585287773149625 at epoch: 9\n",
      "2022-11-29 06:23:39,242 - Epoch[9] Complete. Time taken: 00:00:01.468\n",
      "2022-11-29 06:23:39,902 - Epoch: 10/100, Iter: 1/5 -- train_loss: 0.3143 \n",
      "2022-11-29 06:23:40,130 - Epoch: 10/100, Iter: 2/5 -- train_loss: 0.2081 \n",
      "2022-11-29 06:23:40,378 - Epoch: 10/100, Iter: 3/5 -- train_loss: 0.2713 \n",
      "2022-11-29 06:23:40,606 - Epoch: 10/100, Iter: 4/5 -- train_loss: 0.3751 \n",
      "2022-11-29 06:23:40,763 - Epoch: 10/100, Iter: 5/5 -- train_loss: 0.3585 \n",
      "2022-11-29 06:23:40,764 - Got new best metric of train_accuracy: 0.8648409681255315\n",
      "2022-11-29 06:23:40,764 - Current learning rate: 0.0001\n",
      "2022-11-29 06:23:40,764 - Engine run resuming from iteration 0, epoch 9 until 10 epochs\n",
      "2022-11-29 06:23:46,265 - Got new best metric of val_mean_dice: 0.00499724131077528\n",
      "2022-11-29 06:23:46,265 - Epoch[10] Metrics -- val_accuracy: 0.9288 val_mean_dice: 0.0050 \n",
      "2022-11-29 06:23:46,265 - Key metric: val_mean_dice best value: 0.00499724131077528 at epoch: 10\n",
      "2022-11-29 06:23:46,338 - Epoch[10] Complete. Time taken: 00:00:05.544\n",
      "2022-11-29 06:23:46,338 - Engine run complete. Time taken: 00:00:05.574\n",
      "2022-11-29 06:23:46,360 - Epoch[10] Metrics -- train_accuracy: 0.8648 \n",
      "2022-11-29 06:23:46,360 - Key metric: train_accuracy best value: 0.8648409681255315 at epoch: 10\n",
      "2022-11-29 06:23:46,361 - Epoch[10] Complete. Time taken: 00:00:07.119\n",
      "2022-11-29 06:23:46,981 - Epoch: 11/100, Iter: 1/5 -- train_loss: 0.1822 \n",
      "2022-11-29 06:23:47,294 - Epoch: 11/100, Iter: 2/5 -- train_loss: 0.2819 \n",
      "2022-11-29 06:23:47,522 - Epoch: 11/100, Iter: 3/5 -- train_loss: 0.2198 \n",
      "2022-11-29 06:23:47,750 - Epoch: 11/100, Iter: 4/5 -- train_loss: 0.2056 \n",
      "2022-11-29 06:23:47,886 - Epoch: 11/100, Iter: 5/5 -- train_loss: 0.5118 \n",
      "2022-11-29 06:23:47,887 - Got new best metric of train_accuracy: 0.8662868162401679\n",
      "2022-11-29 06:23:47,887 - Current learning rate: 0.0001\n",
      "2022-11-29 06:23:47,887 - Epoch[11] Metrics -- train_accuracy: 0.8663 \n",
      "2022-11-29 06:23:47,887 - Key metric: train_accuracy best value: 0.8662868162401679 at epoch: 11\n",
      "2022-11-29 06:23:47,887 - Epoch[11] Complete. Time taken: 00:00:01.526\n",
      "2022-11-29 06:23:48,497 - Epoch: 12/100, Iter: 1/5 -- train_loss: 0.2594 \n",
      "2022-11-29 06:23:48,763 - Epoch: 12/100, Iter: 2/5 -- train_loss: 0.2329 \n",
      "2022-11-29 06:23:48,991 - Epoch: 12/100, Iter: 3/5 -- train_loss: 0.2092 \n",
      "2022-11-29 06:23:49,218 - Epoch: 12/100, Iter: 4/5 -- train_loss: 0.3757 \n",
      "2022-11-29 06:23:49,375 - Epoch: 12/100, Iter: 5/5 -- train_loss: 0.2207 \n",
      "2022-11-29 06:23:49,376 - Current learning rate: 0.0001\n",
      "2022-11-29 06:23:49,376 - Epoch[12] Metrics -- train_accuracy: 0.8609 \n",
      "2022-11-29 06:23:49,376 - Key metric: train_accuracy best value: 0.8662868162401679 at epoch: 11\n",
      "2022-11-29 06:23:49,376 - Epoch[12] Complete. Time taken: 00:00:01.489\n",
      "2022-11-29 06:23:50,039 - Epoch: 13/100, Iter: 1/5 -- train_loss: 0.1660 \n",
      "2022-11-29 06:23:50,267 - Epoch: 13/100, Iter: 2/5 -- train_loss: 0.1812 \n",
      "2022-11-29 06:23:50,536 - Epoch: 13/100, Iter: 3/5 -- train_loss: 0.1665 \n",
      "2022-11-29 06:23:50,763 - Epoch: 13/100, Iter: 4/5 -- train_loss: 0.2814 \n",
      "2022-11-29 06:23:50,899 - Epoch: 13/100, Iter: 5/5 -- train_loss: 0.5056 \n",
      "2022-11-29 06:23:50,899 - Got new best metric of train_accuracy: 0.8744926539137791\n",
      "2022-11-29 06:23:50,899 - Current learning rate: 0.0001\n",
      "2022-11-29 06:23:50,900 - Epoch[13] Metrics -- train_accuracy: 0.8745 \n",
      "2022-11-29 06:23:50,900 - Key metric: train_accuracy best value: 0.8744926539137791 at epoch: 13\n",
      "2022-11-29 06:23:50,900 - Epoch[13] Complete. Time taken: 00:00:01.524\n",
      "2022-11-29 06:23:51,561 - Epoch: 14/100, Iter: 1/5 -- train_loss: 0.1930 \n",
      "2022-11-29 06:23:51,789 - Epoch: 14/100, Iter: 2/5 -- train_loss: 0.1809 \n",
      "2022-11-29 06:23:52,017 - Epoch: 14/100, Iter: 3/5 -- train_loss: 0.1835 \n",
      "2022-11-29 06:23:52,267 - Epoch: 14/100, Iter: 4/5 -- train_loss: 0.3908 \n",
      "2022-11-29 06:23:52,424 - Epoch: 14/100, Iter: 5/5 -- train_loss: 0.1385 \n",
      "2022-11-29 06:23:52,424 - Current learning rate: 0.0001\n",
      "2022-11-29 06:23:52,424 - Epoch[14] Metrics -- train_accuracy: 0.8740 \n",
      "2022-11-29 06:23:52,424 - Key metric: train_accuracy best value: 0.8744926539137791 at epoch: 13\n",
      "2022-11-29 06:23:52,425 - Epoch[14] Complete. Time taken: 00:00:01.525\n",
      "2022-11-29 06:23:53,056 - Epoch: 15/100, Iter: 1/5 -- train_loss: 0.1675 \n",
      "2022-11-29 06:23:53,284 - Epoch: 15/100, Iter: 2/5 -- train_loss: 0.3435 \n",
      "2022-11-29 06:23:53,511 - Epoch: 15/100, Iter: 3/5 -- train_loss: 0.2102 \n",
      "2022-11-29 06:23:53,761 - Epoch: 15/100, Iter: 4/5 -- train_loss: 0.1948 \n",
      "2022-11-29 06:23:53,918 - Epoch: 15/100, Iter: 5/5 -- train_loss: 0.1245 \n",
      "2022-11-29 06:23:53,919 - Current learning rate: 0.0001\n",
      "2022-11-29 06:23:53,919 - Engine run resuming from iteration 0, epoch 14 until 15 epochs\n",
      "2022-11-29 06:23:59,477 - Got new best metric of val_mean_dice: 0.4517049193382263\n",
      "2022-11-29 06:23:59,477 - Epoch[15] Metrics -- val_accuracy: 0.9516 val_mean_dice: 0.4517 \n",
      "2022-11-29 06:23:59,477 - Key metric: val_mean_dice best value: 0.4517049193382263 at epoch: 15\n",
      "2022-11-29 06:23:59,553 - Epoch[15] Complete. Time taken: 00:00:05.604\n",
      "2022-11-29 06:23:59,554 - Engine run complete. Time taken: 00:00:05.635\n",
      "2022-11-29 06:23:59,585 - Epoch[15] Metrics -- train_accuracy: 0.8662 \n",
      "2022-11-29 06:23:59,585 - Key metric: train_accuracy best value: 0.8744926539137791 at epoch: 13\n",
      "2022-11-29 06:23:59,585 - Epoch[15] Complete. Time taken: 00:00:07.161\n",
      "2022-11-29 06:24:00,147 - Epoch: 16/100, Iter: 1/5 -- train_loss: 0.3636 \n",
      "2022-11-29 06:24:00,462 - Epoch: 16/100, Iter: 2/5 -- train_loss: 0.2876 \n",
      "2022-11-29 06:24:00,690 - Epoch: 16/100, Iter: 3/5 -- train_loss: 0.1741 \n",
      "2022-11-29 06:24:00,918 - Epoch: 16/100, Iter: 4/5 -- train_loss: 0.2128 \n",
      "2022-11-29 06:24:01,054 - Epoch: 16/100, Iter: 5/5 -- train_loss: 0.2029 \n",
      "2022-11-29 06:24:01,054 - Got new best metric of train_accuracy: 0.8848595651639563\n",
      "2022-11-29 06:24:01,054 - Current learning rate: 0.0001\n",
      "2022-11-29 06:24:01,054 - Epoch[16] Metrics -- train_accuracy: 0.8849 \n",
      "2022-11-29 06:24:01,054 - Key metric: train_accuracy best value: 0.8848595651639563 at epoch: 16\n",
      "2022-11-29 06:24:01,055 - Epoch[16] Complete. Time taken: 00:00:01.469\n",
      "2022-11-29 06:24:01,710 - Epoch: 17/100, Iter: 1/5 -- train_loss: 0.1807 \n",
      "2022-11-29 06:24:01,960 - Epoch: 17/100, Iter: 2/5 -- train_loss: 0.1682 \n",
      "2022-11-29 06:24:02,188 - Epoch: 17/100, Iter: 3/5 -- train_loss: 0.1798 \n",
      "2022-11-29 06:24:02,417 - Epoch: 17/100, Iter: 4/5 -- train_loss: 0.3186 \n",
      "2022-11-29 06:24:02,574 - Epoch: 17/100, Iter: 5/5 -- train_loss: 0.2529 \n",
      "2022-11-29 06:24:02,575 - Got new best metric of train_accuracy: 0.8943706694103423\n",
      "2022-11-29 06:24:02,575 - Current learning rate: 0.0001\n",
      "2022-11-29 06:24:02,575 - Epoch[17] Metrics -- train_accuracy: 0.8944 \n",
      "2022-11-29 06:24:02,575 - Key metric: train_accuracy best value: 0.8943706694103423 at epoch: 17\n",
      "2022-11-29 06:24:02,575 - Epoch[17] Complete. Time taken: 00:00:01.520\n",
      "2022-11-29 06:24:03,174 - Epoch: 18/100, Iter: 1/5 -- train_loss: 0.1739 \n",
      "2022-11-29 06:24:03,412 - Epoch: 18/100, Iter: 2/5 -- train_loss: 0.3174 \n",
      "2022-11-29 06:24:03,700 - Epoch: 18/100, Iter: 3/5 -- train_loss: 0.1521 \n",
      "2022-11-29 06:24:03,928 - Epoch: 18/100, Iter: 4/5 -- train_loss: 0.1995 \n",
      "2022-11-29 06:24:04,065 - Epoch: 18/100, Iter: 5/5 -- train_loss: 0.1436 \n",
      "2022-11-29 06:24:04,065 - Got new best metric of train_accuracy: 0.8949716096562322\n",
      "2022-11-29 06:24:04,065 - Current learning rate: 0.0001\n",
      "2022-11-29 06:24:04,065 - Epoch[18] Metrics -- train_accuracy: 0.8950 \n",
      "2022-11-29 06:24:04,065 - Key metric: train_accuracy best value: 0.8949716096562322 at epoch: 18\n",
      "2022-11-29 06:24:04,065 - Epoch[18] Complete. Time taken: 00:00:01.490\n",
      "2022-11-29 06:24:04,669 - Epoch: 19/100, Iter: 1/5 -- train_loss: 0.1489 \n",
      "2022-11-29 06:24:04,918 - Epoch: 19/100, Iter: 2/5 -- train_loss: 0.1253 \n",
      "2022-11-29 06:24:05,146 - Epoch: 19/100, Iter: 3/5 -- train_loss: 0.3181 \n",
      "2022-11-29 06:24:05,395 - Epoch: 19/100, Iter: 4/5 -- train_loss: 0.1139 \n",
      "2022-11-29 06:24:05,552 - Epoch: 19/100, Iter: 5/5 -- train_loss: 0.1941 \n",
      "2022-11-29 06:24:05,552 - Got new best metric of train_accuracy: 0.8972454806304032\n",
      "2022-11-29 06:24:05,552 - Current learning rate: 0.0001\n",
      "2022-11-29 06:24:05,552 - Epoch[19] Metrics -- train_accuracy: 0.8972 \n",
      "2022-11-29 06:24:05,552 - Key metric: train_accuracy best value: 0.8972454806304032 at epoch: 19\n",
      "2022-11-29 06:24:05,552 - Epoch[19] Complete. Time taken: 00:00:01.487\n",
      "2022-11-29 06:24:06,221 - Epoch: 20/100, Iter: 1/5 -- train_loss: 0.1528 \n",
      "2022-11-29 06:24:06,450 - Epoch: 20/100, Iter: 2/5 -- train_loss: 0.1134 \n",
      "2022-11-29 06:24:06,698 - Epoch: 20/100, Iter: 3/5 -- train_loss: 0.1511 \n",
      "2022-11-29 06:24:06,926 - Epoch: 20/100, Iter: 4/5 -- train_loss: 0.3108 \n",
      "2022-11-29 06:24:07,082 - Epoch: 20/100, Iter: 5/5 -- train_loss: 0.1738 \n",
      "2022-11-29 06:24:07,082 - Got new best metric of train_accuracy: 0.8984855945959113\n",
      "2022-11-29 06:24:07,083 - Current learning rate: 0.0001\n",
      "2022-11-29 06:24:07,083 - Engine run resuming from iteration 0, epoch 19 until 20 epochs\n",
      "2022-11-29 06:24:12,619 - Got new best metric of val_mean_dice: 0.6405552625656128\n",
      "2022-11-29 06:24:12,619 - Epoch[20] Metrics -- val_accuracy: 0.9584 val_mean_dice: 0.6406 \n",
      "2022-11-29 06:24:12,619 - Key metric: val_mean_dice best value: 0.6405552625656128 at epoch: 20\n",
      "2022-11-29 06:24:12,702 - Epoch[20] Complete. Time taken: 00:00:05.589\n",
      "2022-11-29 06:24:12,702 - Engine run complete. Time taken: 00:00:05.619\n",
      "2022-11-29 06:24:12,756 - Epoch[20] Metrics -- train_accuracy: 0.8985 \n",
      "2022-11-29 06:24:12,756 - Key metric: train_accuracy best value: 0.8984855945959113 at epoch: 20\n",
      "2022-11-29 06:24:12,757 - Epoch[20] Complete. Time taken: 00:00:07.204\n",
      "2022-11-29 06:24:13,307 - Epoch: 21/100, Iter: 1/5 -- train_loss: 0.2981 \n",
      "2022-11-29 06:24:13,627 - Epoch: 21/100, Iter: 2/5 -- train_loss: 0.1401 \n",
      "2022-11-29 06:24:13,856 - Epoch: 21/100, Iter: 3/5 -- train_loss: 0.1247 \n",
      "2022-11-29 06:24:14,084 - Epoch: 21/100, Iter: 4/5 -- train_loss: 0.1471 \n",
      "2022-11-29 06:24:14,221 - Epoch: 21/100, Iter: 5/5 -- train_loss: 0.0760 \n",
      "2022-11-29 06:24:14,222 - Got new best metric of train_accuracy: 0.911928310956544\n",
      "2022-11-29 06:24:14,222 - Current learning rate: 0.0001\n",
      "2022-11-29 06:24:14,222 - Epoch[21] Metrics -- train_accuracy: 0.9119 \n",
      "2022-11-29 06:24:14,222 - Key metric: train_accuracy best value: 0.911928310956544 at epoch: 21\n",
      "2022-11-29 06:24:14,222 - Epoch[21] Complete. Time taken: 00:00:01.465\n",
      "2022-11-29 06:24:14,867 - Epoch: 22/100, Iter: 1/5 -- train_loss: 0.1851 \n",
      "2022-11-29 06:24:15,116 - Epoch: 22/100, Iter: 2/5 -- train_loss: 0.1240 \n",
      "2022-11-29 06:24:15,366 - Epoch: 22/100, Iter: 3/5 -- train_loss: 0.2652 \n",
      "2022-11-29 06:24:15,615 - Epoch: 22/100, Iter: 4/5 -- train_loss: 0.1595 \n",
      "2022-11-29 06:24:15,773 - Epoch: 22/100, Iter: 5/5 -- train_loss: 0.0947 \n",
      "2022-11-29 06:24:15,774 - Got new best metric of train_accuracy: 0.9133674465880102\n",
      "2022-11-29 06:24:15,774 - Current learning rate: 0.0001\n",
      "2022-11-29 06:24:15,774 - Epoch[22] Metrics -- train_accuracy: 0.9134 \n",
      "2022-11-29 06:24:15,774 - Key metric: train_accuracy best value: 0.9133674465880102 at epoch: 22\n",
      "2022-11-29 06:24:15,774 - Epoch[22] Complete. Time taken: 00:00:01.552\n",
      "2022-11-29 06:24:16,370 - Epoch: 23/100, Iter: 1/5 -- train_loss: 0.1471 \n",
      "2022-11-29 06:24:16,599 - Epoch: 23/100, Iter: 2/5 -- train_loss: 0.3023 \n",
      "2022-11-29 06:24:16,847 - Epoch: 23/100, Iter: 3/5 -- train_loss: 0.1395 \n",
      "2022-11-29 06:24:17,096 - Epoch: 23/100, Iter: 4/5 -- train_loss: 0.1285 \n",
      "2022-11-29 06:24:17,252 - Epoch: 23/100, Iter: 5/5 -- train_loss: 0.1175 \n",
      "2022-11-29 06:24:17,253 - Current learning rate: 0.0001\n",
      "2022-11-29 06:24:17,253 - Epoch[23] Metrics -- train_accuracy: 0.9117 \n",
      "2022-11-29 06:24:17,253 - Key metric: train_accuracy best value: 0.9133674465880102 at epoch: 22\n",
      "2022-11-29 06:24:17,253 - Epoch[23] Complete. Time taken: 00:00:01.479\n",
      "2022-11-29 06:24:17,845 - Epoch: 24/100, Iter: 1/5 -- train_loss: 0.1174 \n",
      "2022-11-29 06:24:18,134 - Epoch: 24/100, Iter: 2/5 -- train_loss: 0.1122 \n",
      "2022-11-29 06:24:18,361 - Epoch: 24/100, Iter: 3/5 -- train_loss: 0.2663 \n",
      "2022-11-29 06:24:18,589 - Epoch: 24/100, Iter: 4/5 -- train_loss: 0.0901 \n",
      "2022-11-29 06:24:18,747 - Epoch: 24/100, Iter: 5/5 -- train_loss: 0.1491 \n",
      "2022-11-29 06:24:18,747 - Got new best metric of train_accuracy: 0.924596738923434\n",
      "2022-11-29 06:24:18,747 - Current learning rate: 0.0001\n",
      "2022-11-29 06:24:18,747 - Epoch[24] Metrics -- train_accuracy: 0.9246 \n",
      "2022-11-29 06:24:18,747 - Key metric: train_accuracy best value: 0.924596738923434 at epoch: 24\n",
      "2022-11-29 06:24:18,747 - Epoch[24] Complete. Time taken: 00:00:01.494\n",
      "2022-11-29 06:24:19,373 - Epoch: 25/100, Iter: 1/5 -- train_loss: 0.0949 \n",
      "2022-11-29 06:24:19,602 - Epoch: 25/100, Iter: 2/5 -- train_loss: 0.1051 \n",
      "2022-11-29 06:24:19,830 - Epoch: 25/100, Iter: 3/5 -- train_loss: 0.2926 \n",
      "2022-11-29 06:24:20,100 - Epoch: 25/100, Iter: 4/5 -- train_loss: 0.1001 \n",
      "2022-11-29 06:24:20,235 - Epoch: 25/100, Iter: 5/5 -- train_loss: 0.1667 \n",
      "2022-11-29 06:24:20,235 - Current learning rate: 0.0001\n",
      "2022-11-29 06:24:20,235 - Engine run resuming from iteration 0, epoch 24 until 25 epochs\n",
      "2022-11-29 06:24:25,803 - Got new best metric of val_mean_dice: 0.6608467102050781\n",
      "2022-11-29 06:24:25,803 - Epoch[25] Metrics -- val_accuracy: 0.9542 val_mean_dice: 0.6608 \n",
      "2022-11-29 06:24:25,803 - Key metric: val_mean_dice best value: 0.6608467102050781 at epoch: 25\n",
      "2022-11-29 06:24:25,873 - Epoch[25] Complete. Time taken: 00:00:05.607\n",
      "2022-11-29 06:24:25,873 - Engine run complete. Time taken: 00:00:05.638\n",
      "2022-11-29 06:24:25,928 - Epoch[25] Metrics -- train_accuracy: 0.9191 \n",
      "2022-11-29 06:24:25,928 - Key metric: train_accuracy best value: 0.924596738923434 at epoch: 24\n",
      "2022-11-29 06:24:25,928 - Epoch[25] Complete. Time taken: 00:00:07.181\n",
      "2022-11-29 06:24:26,481 - Epoch: 26/100, Iter: 1/5 -- train_loss: 0.2932 \n",
      "2022-11-29 06:24:26,775 - Epoch: 26/100, Iter: 2/5 -- train_loss: 0.0781 \n",
      "2022-11-29 06:24:27,003 - Epoch: 26/100, Iter: 3/5 -- train_loss: 0.1009 \n",
      "2022-11-29 06:24:27,231 - Epoch: 26/100, Iter: 4/5 -- train_loss: 0.1114 \n",
      "2022-11-29 06:24:27,387 - Epoch: 26/100, Iter: 5/5 -- train_loss: 0.1460 \n",
      "2022-11-29 06:24:27,388 - Current learning rate: 0.0001\n",
      "2022-11-29 06:24:27,388 - Epoch[26] Metrics -- train_accuracy: 0.9200 \n",
      "2022-11-29 06:24:27,388 - Key metric: train_accuracy best value: 0.924596738923434 at epoch: 24\n",
      "2022-11-29 06:24:27,388 - Epoch[26] Complete. Time taken: 00:00:01.460\n",
      "2022-11-29 06:24:28,026 - Epoch: 27/100, Iter: 1/5 -- train_loss: 0.1008 \n",
      "2022-11-29 06:24:28,256 - Epoch: 27/100, Iter: 2/5 -- train_loss: 0.3656 \n",
      "2022-11-29 06:24:28,506 - Epoch: 27/100, Iter: 3/5 -- train_loss: 0.0854 \n",
      "2022-11-29 06:24:28,734 - Epoch: 27/100, Iter: 4/5 -- train_loss: 0.0972 \n",
      "2022-11-29 06:24:28,914 - Epoch: 27/100, Iter: 5/5 -- train_loss: 0.0935 \n",
      "2022-11-29 06:24:28,914 - Current learning rate: 0.0001\n",
      "2022-11-29 06:24:28,914 - Epoch[27] Metrics -- train_accuracy: 0.9236 \n",
      "2022-11-29 06:24:28,914 - Key metric: train_accuracy best value: 0.924596738923434 at epoch: 24\n",
      "2022-11-29 06:24:28,914 - Epoch[27] Complete. Time taken: 00:00:01.526\n",
      "2022-11-29 06:24:29,595 - Epoch: 28/100, Iter: 1/5 -- train_loss: 0.1657 \n",
      "2022-11-29 06:24:29,825 - Epoch: 28/100, Iter: 2/5 -- train_loss: 0.0766 \n",
      "2022-11-29 06:24:30,053 - Epoch: 28/100, Iter: 3/5 -- train_loss: 0.0644 \n",
      "2022-11-29 06:24:30,282 - Epoch: 28/100, Iter: 4/5 -- train_loss: 0.3100 \n",
      "2022-11-29 06:24:30,440 - Epoch: 28/100, Iter: 5/5 -- train_loss: 0.2560 \n",
      "2022-11-29 06:24:30,440 - Got new best metric of train_accuracy: 0.9273001050192212\n",
      "2022-11-29 06:24:30,440 - Current learning rate: 0.0001\n",
      "2022-11-29 06:24:30,440 - Epoch[28] Metrics -- train_accuracy: 0.9273 \n",
      "2022-11-29 06:24:30,440 - Key metric: train_accuracy best value: 0.9273001050192212 at epoch: 28\n",
      "2022-11-29 06:24:30,441 - Epoch[28] Complete. Time taken: 00:00:01.526\n",
      "2022-11-29 06:24:31,027 - Epoch: 29/100, Iter: 1/5 -- train_loss: 0.2823 \n",
      "2022-11-29 06:24:31,277 - Epoch: 29/100, Iter: 2/5 -- train_loss: 0.0850 \n",
      "2022-11-29 06:24:31,548 - Epoch: 29/100, Iter: 3/5 -- train_loss: 0.0781 \n",
      "2022-11-29 06:24:31,780 - Epoch: 29/100, Iter: 4/5 -- train_loss: 0.0847 \n",
      "2022-11-29 06:24:31,939 - Epoch: 29/100, Iter: 5/5 -- train_loss: 0.2911 \n",
      "2022-11-29 06:24:31,939 - Got new best metric of train_accuracy: 0.9403846031413867\n",
      "2022-11-29 06:24:31,940 - Current learning rate: 0.0001\n",
      "2022-11-29 06:24:31,940 - Epoch[29] Metrics -- train_accuracy: 0.9404 \n",
      "2022-11-29 06:24:31,940 - Key metric: train_accuracy best value: 0.9403846031413867 at epoch: 29\n",
      "2022-11-29 06:24:31,940 - Epoch[29] Complete. Time taken: 00:00:01.499\n",
      "2022-11-29 06:24:32,498 - Epoch: 30/100, Iter: 1/5 -- train_loss: 0.2568 \n",
      "2022-11-29 06:24:32,767 - Epoch: 30/100, Iter: 2/5 -- train_loss: 0.1160 \n",
      "2022-11-29 06:24:32,996 - Epoch: 30/100, Iter: 3/5 -- train_loss: 0.0832 \n",
      "2022-11-29 06:24:33,265 - Epoch: 30/100, Iter: 4/5 -- train_loss: 0.2264 \n",
      "2022-11-29 06:24:33,401 - Epoch: 30/100, Iter: 5/5 -- train_loss: 0.1186 \n",
      "2022-11-29 06:24:33,401 - Current learning rate: 0.0001\n",
      "2022-11-29 06:24:33,401 - Engine run resuming from iteration 0, epoch 29 until 30 epochs\n",
      "2022-11-29 06:24:38,964 - Got new best metric of val_mean_dice: 0.7245009541511536\n",
      "2022-11-29 06:24:38,964 - Epoch[30] Metrics -- val_accuracy: 0.9684 val_mean_dice: 0.7245 \n",
      "2022-11-29 06:24:38,964 - Key metric: val_mean_dice best value: 0.7245009541511536 at epoch: 30\n",
      "2022-11-29 06:24:39,123 - Epoch[30] Complete. Time taken: 00:00:05.691\n",
      "2022-11-29 06:24:39,123 - Engine run complete. Time taken: 00:00:05.722\n",
      "2022-11-29 06:24:39,168 - Epoch[30] Metrics -- train_accuracy: 0.9342 \n",
      "2022-11-29 06:24:39,168 - Key metric: train_accuracy best value: 0.9403846031413867 at epoch: 29\n",
      "2022-11-29 06:24:39,168 - Epoch[30] Complete. Time taken: 00:00:07.228\n",
      "2022-11-29 06:24:39,831 - Epoch: 31/100, Iter: 1/5 -- train_loss: 0.1390 \n",
      "2022-11-29 06:24:40,060 - Epoch: 31/100, Iter: 2/5 -- train_loss: 0.2758 \n",
      "2022-11-29 06:24:40,309 - Epoch: 31/100, Iter: 3/5 -- train_loss: 0.1927 \n",
      "2022-11-29 06:24:40,538 - Epoch: 31/100, Iter: 4/5 -- train_loss: 0.0899 \n",
      "2022-11-29 06:24:40,695 - Epoch: 31/100, Iter: 5/5 -- train_loss: 0.0883 \n",
      "2022-11-29 06:24:40,696 - Got new best metric of train_accuracy: 0.9432841536679776\n",
      "2022-11-29 06:24:40,696 - Current learning rate: 0.0001\n",
      "2022-11-29 06:24:40,696 - Epoch[31] Metrics -- train_accuracy: 0.9433 \n",
      "2022-11-29 06:24:40,696 - Key metric: train_accuracy best value: 0.9432841536679776 at epoch: 31\n",
      "2022-11-29 06:24:40,696 - Epoch[31] Complete. Time taken: 00:00:01.528\n",
      "2022-11-29 06:24:41,383 - Epoch: 32/100, Iter: 1/5 -- train_loss: 0.0941 \n",
      "2022-11-29 06:24:41,612 - Epoch: 32/100, Iter: 2/5 -- train_loss: 0.2734 \n",
      "2022-11-29 06:24:41,862 - Epoch: 32/100, Iter: 3/5 -- train_loss: 0.1129 \n",
      "2022-11-29 06:24:42,091 - Epoch: 32/100, Iter: 4/5 -- train_loss: 0.0705 \n",
      "2022-11-29 06:24:42,247 - Epoch: 32/100, Iter: 5/5 -- train_loss: 0.1291 \n",
      "2022-11-29 06:24:42,248 - Current learning rate: 0.0001\n",
      "2022-11-29 06:24:42,248 - Epoch[32] Metrics -- train_accuracy: 0.9354 \n",
      "2022-11-29 06:24:42,248 - Key metric: train_accuracy best value: 0.9432841536679776 at epoch: 31\n",
      "2022-11-29 06:24:42,248 - Epoch[32] Complete. Time taken: 00:00:01.552\n",
      "2022-11-29 06:24:42,807 - Epoch: 33/100, Iter: 1/5 -- train_loss: 0.2494 \n",
      "2022-11-29 06:24:43,056 - Epoch: 33/100, Iter: 2/5 -- train_loss: 0.2495 \n",
      "2022-11-29 06:24:43,305 - Epoch: 33/100, Iter: 3/5 -- train_loss: 0.1022 \n",
      "2022-11-29 06:24:43,575 - Epoch: 33/100, Iter: 4/5 -- train_loss: 0.1882 \n",
      "2022-11-29 06:24:43,710 - Epoch: 33/100, Iter: 5/5 -- train_loss: 0.0773 \n",
      "2022-11-29 06:24:43,711 - Current learning rate: 0.0001\n",
      "2022-11-29 06:24:43,711 - Epoch[33] Metrics -- train_accuracy: 0.9401 \n",
      "2022-11-29 06:24:43,711 - Key metric: train_accuracy best value: 0.9432841536679776 at epoch: 31\n",
      "2022-11-29 06:24:43,711 - Epoch[33] Complete. Time taken: 00:00:01.463\n",
      "2022-11-29 06:24:44,378 - Epoch: 34/100, Iter: 1/5 -- train_loss: 0.0937 \n",
      "2022-11-29 06:24:44,629 - Epoch: 34/100, Iter: 2/5 -- train_loss: 0.1232 \n",
      "2022-11-29 06:24:44,858 - Epoch: 34/100, Iter: 3/5 -- train_loss: 0.2518 \n",
      "2022-11-29 06:24:45,088 - Epoch: 34/100, Iter: 4/5 -- train_loss: 0.0726 \n",
      "2022-11-29 06:24:45,245 - Epoch: 34/100, Iter: 5/5 -- train_loss: 0.0940 \n",
      "2022-11-29 06:24:45,245 - Current learning rate: 0.0001\n",
      "2022-11-29 06:24:45,245 - Epoch[34] Metrics -- train_accuracy: 0.9379 \n",
      "2022-11-29 06:24:45,245 - Key metric: train_accuracy best value: 0.9432841536679776 at epoch: 31\n",
      "2022-11-29 06:24:45,245 - Epoch[34] Complete. Time taken: 00:00:01.534\n",
      "2022-11-29 06:24:45,859 - Epoch: 35/100, Iter: 1/5 -- train_loss: 0.0803 \n",
      "2022-11-29 06:24:46,088 - Epoch: 35/100, Iter: 2/5 -- train_loss: 0.0997 \n",
      "2022-11-29 06:24:46,336 - Epoch: 35/100, Iter: 3/5 -- train_loss: 0.0886 \n",
      "2022-11-29 06:24:46,565 - Epoch: 35/100, Iter: 4/5 -- train_loss: 0.2504 \n",
      "2022-11-29 06:24:46,724 - Epoch: 35/100, Iter: 5/5 -- train_loss: 0.0757 \n",
      "2022-11-29 06:24:46,724 - Got new best metric of train_accuracy: 0.9450219948005244\n",
      "2022-11-29 06:24:46,724 - Current learning rate: 0.0001\n",
      "2022-11-29 06:24:46,725 - Engine run resuming from iteration 0, epoch 34 until 35 epochs\n",
      "2022-11-29 06:24:52,295 - Got new best metric of val_mean_dice: 0.7483670115470886\n",
      "2022-11-29 06:24:52,295 - Epoch[35] Metrics -- val_accuracy: 0.9745 val_mean_dice: 0.7484 \n",
      "2022-11-29 06:24:52,295 - Key metric: val_mean_dice best value: 0.7483670115470886 at epoch: 35\n",
      "2022-11-29 06:24:52,365 - Epoch[35] Complete. Time taken: 00:00:05.610\n",
      "2022-11-29 06:24:52,365 - Engine run complete. Time taken: 00:00:05.641\n",
      "2022-11-29 06:24:52,387 - Epoch[35] Metrics -- train_accuracy: 0.9450 \n",
      "2022-11-29 06:24:52,387 - Key metric: train_accuracy best value: 0.9450219948005244 at epoch: 35\n",
      "2022-11-29 06:24:52,387 - Epoch[35] Complete. Time taken: 00:00:07.142\n",
      "2022-11-29 06:24:53,030 - Epoch: 36/100, Iter: 1/5 -- train_loss: 0.0881 \n",
      "2022-11-29 06:24:53,259 - Epoch: 36/100, Iter: 2/5 -- train_loss: 0.2460 \n",
      "2022-11-29 06:24:53,487 - Epoch: 36/100, Iter: 3/5 -- train_loss: 0.1143 \n",
      "2022-11-29 06:24:53,738 - Epoch: 36/100, Iter: 4/5 -- train_loss: 0.0546 \n",
      "2022-11-29 06:24:53,900 - Epoch: 36/100, Iter: 5/5 -- train_loss: 0.0769 \n",
      "2022-11-29 06:24:53,900 - Got new best metric of train_accuracy: 0.9472805031843466\n",
      "2022-11-29 06:24:53,900 - Current learning rate: 0.0001\n",
      "2022-11-29 06:24:53,900 - Epoch[36] Metrics -- train_accuracy: 0.9473 \n",
      "2022-11-29 06:24:53,900 - Key metric: train_accuracy best value: 0.9472805031843466 at epoch: 36\n",
      "2022-11-29 06:24:53,900 - Epoch[36] Complete. Time taken: 00:00:01.513\n",
      "2022-11-29 06:24:54,477 - Epoch: 37/100, Iter: 1/5 -- train_loss: 0.2800 \n",
      "2022-11-29 06:24:54,765 - Epoch: 37/100, Iter: 2/5 -- train_loss: 0.1021 \n",
      "2022-11-29 06:24:55,019 - Epoch: 37/100, Iter: 3/5 -- train_loss: 0.0677 \n",
      "2022-11-29 06:24:55,249 - Epoch: 37/100, Iter: 4/5 -- train_loss: 0.0893 \n",
      "2022-11-29 06:24:55,384 - Epoch: 37/100, Iter: 5/5 -- train_loss: 0.0674 \n",
      "2022-11-29 06:24:55,385 - Current learning rate: 0.0001\n",
      "2022-11-29 06:24:55,385 - Epoch[37] Metrics -- train_accuracy: 0.9424 \n",
      "2022-11-29 06:24:55,385 - Key metric: train_accuracy best value: 0.9472805031843466 at epoch: 36\n",
      "2022-11-29 06:24:55,385 - Epoch[37] Complete. Time taken: 00:00:01.485\n",
      "2022-11-29 06:24:56,066 - Epoch: 38/100, Iter: 1/5 -- train_loss: 0.1101 \n",
      "2022-11-29 06:24:56,295 - Epoch: 38/100, Iter: 2/5 -- train_loss: 0.1080 \n",
      "2022-11-29 06:24:56,524 - Epoch: 38/100, Iter: 3/5 -- train_loss: 0.0681 \n",
      "2022-11-29 06:24:56,754 - Epoch: 38/100, Iter: 4/5 -- train_loss: 0.2684 \n",
      "2022-11-29 06:24:56,911 - Epoch: 38/100, Iter: 5/5 -- train_loss: 0.1478 \n",
      "2022-11-29 06:24:56,911 - Current learning rate: 0.0001\n",
      "2022-11-29 06:24:56,911 - Epoch[38] Metrics -- train_accuracy: 0.9426 \n",
      "2022-11-29 06:24:56,911 - Key metric: train_accuracy best value: 0.9472805031843466 at epoch: 36\n",
      "2022-11-29 06:24:56,912 - Epoch[38] Complete. Time taken: 00:00:01.526\n",
      "2022-11-29 06:24:57,457 - Epoch: 39/100, Iter: 1/5 -- train_loss: 0.2921 \n",
      "2022-11-29 06:24:57,768 - Epoch: 39/100, Iter: 2/5 -- train_loss: 0.0633 \n",
      "2022-11-29 06:24:57,996 - Epoch: 39/100, Iter: 3/5 -- train_loss: 0.0690 \n",
      "2022-11-29 06:24:58,225 - Epoch: 39/100, Iter: 4/5 -- train_loss: 0.0780 \n",
      "2022-11-29 06:24:58,362 - Epoch: 39/100, Iter: 5/5 -- train_loss: 0.0514 \n",
      "2022-11-29 06:24:58,362 - Current learning rate: 0.0001\n",
      "2022-11-29 06:24:58,362 - Epoch[39] Metrics -- train_accuracy: 0.9425 \n",
      "2022-11-29 06:24:58,362 - Key metric: train_accuracy best value: 0.9472805031843466 at epoch: 36\n",
      "2022-11-29 06:24:58,363 - Epoch[39] Complete. Time taken: 00:00:01.451\n",
      "2022-11-29 06:24:58,995 - Epoch: 40/100, Iter: 1/5 -- train_loss: 0.0910 \n",
      "2022-11-29 06:24:59,267 - Epoch: 40/100, Iter: 2/5 -- train_loss: 0.0646 \n",
      "2022-11-29 06:24:59,496 - Epoch: 40/100, Iter: 3/5 -- train_loss: 0.1718 \n",
      "2022-11-29 06:24:59,725 - Epoch: 40/100, Iter: 4/5 -- train_loss: 0.2727 \n",
      "2022-11-29 06:24:59,882 - Epoch: 40/100, Iter: 5/5 -- train_loss: 0.0778 \n",
      "2022-11-29 06:24:59,883 - Current learning rate: 0.0001\n",
      "2022-11-29 06:24:59,883 - Engine run resuming from iteration 0, epoch 39 until 40 epochs\n",
      "2022-11-29 06:25:05,433 - Got new best metric of val_mean_dice: 0.7766644954681396\n",
      "2022-11-29 06:25:05,433 - Epoch[40] Metrics -- val_accuracy: 0.9780 val_mean_dice: 0.7767 \n",
      "2022-11-29 06:25:05,433 - Key metric: val_mean_dice best value: 0.7766644954681396 at epoch: 40\n",
      "2022-11-29 06:25:05,506 - Epoch[40] Complete. Time taken: 00:00:05.592\n",
      "2022-11-29 06:25:05,506 - Engine run complete. Time taken: 00:00:05.624\n",
      "2022-11-29 06:25:05,560 - Epoch[40] Metrics -- train_accuracy: 0.9409 \n",
      "2022-11-29 06:25:05,560 - Key metric: train_accuracy best value: 0.9472805031843466 at epoch: 36\n",
      "2022-11-29 06:25:05,560 - Epoch[40] Complete. Time taken: 00:00:07.198\n",
      "2022-11-29 06:25:06,199 - Epoch: 41/100, Iter: 1/5 -- train_loss: 0.0651 \n",
      "2022-11-29 06:25:06,428 - Epoch: 41/100, Iter: 2/5 -- train_loss: 0.2345 \n",
      "2022-11-29 06:25:06,677 - Epoch: 41/100, Iter: 3/5 -- train_loss: 0.1030 \n",
      "2022-11-29 06:25:06,905 - Epoch: 41/100, Iter: 4/5 -- train_loss: 0.0659 \n",
      "2022-11-29 06:25:07,062 - Epoch: 41/100, Iter: 5/5 -- train_loss: 0.0762 \n",
      "2022-11-29 06:25:07,062 - Got new best metric of train_accuracy: 0.9553296355163159\n",
      "2022-11-29 06:25:07,062 - Current learning rate: 0.0001\n",
      "2022-11-29 06:25:07,062 - Epoch[41] Metrics -- train_accuracy: 0.9553 \n",
      "2022-11-29 06:25:07,062 - Key metric: train_accuracy best value: 0.9553296355163159 at epoch: 41\n",
      "2022-11-29 06:25:07,063 - Epoch[41] Complete. Time taken: 00:00:01.502\n",
      "2022-11-29 06:25:07,690 - Epoch: 42/100, Iter: 1/5 -- train_loss: 0.0544 \n",
      "2022-11-29 06:25:07,960 - Epoch: 42/100, Iter: 2/5 -- train_loss: 0.0624 \n",
      "2022-11-29 06:25:08,189 - Epoch: 42/100, Iter: 3/5 -- train_loss: 0.2445 \n",
      "2022-11-29 06:25:08,417 - Epoch: 42/100, Iter: 4/5 -- train_loss: 0.0459 \n",
      "2022-11-29 06:25:08,554 - Epoch: 42/100, Iter: 5/5 -- train_loss: 0.0710 \n",
      "2022-11-29 06:25:08,554 - Got new best metric of train_accuracy: 0.9558620669133538\n",
      "2022-11-29 06:25:08,554 - Current learning rate: 0.0001\n",
      "2022-11-29 06:25:08,554 - Epoch[42] Metrics -- train_accuracy: 0.9559 \n",
      "2022-11-29 06:25:08,554 - Key metric: train_accuracy best value: 0.9558620669133538 at epoch: 42\n",
      "2022-11-29 06:25:08,555 - Epoch[42] Complete. Time taken: 00:00:01.492\n",
      "2022-11-29 06:25:09,167 - Epoch: 43/100, Iter: 1/5 -- train_loss: 0.0702 \n",
      "2022-11-29 06:25:09,396 - Epoch: 43/100, Iter: 2/5 -- train_loss: 0.0397 \n",
      "2022-11-29 06:25:09,645 - Epoch: 43/100, Iter: 3/5 -- train_loss: 0.2551 \n",
      "2022-11-29 06:25:09,893 - Epoch: 43/100, Iter: 4/5 -- train_loss: 0.0485 \n",
      "2022-11-29 06:25:10,050 - Epoch: 43/100, Iter: 5/5 -- train_loss: 0.0558 \n",
      "2022-11-29 06:25:10,051 - Current learning rate: 0.0001\n",
      "2022-11-29 06:25:10,051 - Epoch[43] Metrics -- train_accuracy: 0.9545 \n",
      "2022-11-29 06:25:10,051 - Key metric: train_accuracy best value: 0.9558620669133538 at epoch: 42\n",
      "2022-11-29 06:25:10,051 - Epoch[43] Complete. Time taken: 00:00:01.496\n",
      "2022-11-29 06:25:10,690 - Epoch: 44/100, Iter: 1/5 -- train_loss: 0.0857 \n",
      "2022-11-29 06:25:10,919 - Epoch: 44/100, Iter: 2/5 -- train_loss: 0.2568 \n",
      "2022-11-29 06:25:11,169 - Epoch: 44/100, Iter: 3/5 -- train_loss: 0.1070 \n",
      "2022-11-29 06:25:11,397 - Epoch: 44/100, Iter: 4/5 -- train_loss: 0.0616 \n",
      "2022-11-29 06:25:11,554 - Epoch: 44/100, Iter: 5/5 -- train_loss: 0.2722 \n",
      "2022-11-29 06:25:11,554 - Current learning rate: 0.0001\n",
      "2022-11-29 06:25:11,554 - Epoch[44] Metrics -- train_accuracy: 0.9491 \n",
      "2022-11-29 06:25:11,554 - Key metric: train_accuracy best value: 0.9558620669133538 at epoch: 42\n",
      "2022-11-29 06:25:11,555 - Epoch[44] Complete. Time taken: 00:00:01.504\n",
      "2022-11-29 06:25:12,205 - Epoch: 45/100, Iter: 1/5 -- train_loss: 0.2332 \n",
      "2022-11-29 06:25:12,434 - Epoch: 45/100, Iter: 2/5 -- train_loss: 0.0725 \n",
      "2022-11-29 06:25:12,683 - Epoch: 45/100, Iter: 3/5 -- train_loss: 0.0787 \n",
      "2022-11-29 06:25:12,911 - Epoch: 45/100, Iter: 4/5 -- train_loss: 0.0535 \n",
      "2022-11-29 06:25:13,069 - Epoch: 45/100, Iter: 5/5 -- train_loss: 0.0662 \n",
      "2022-11-29 06:25:13,069 - Current learning rate: 0.0001\n",
      "2022-11-29 06:25:13,069 - Engine run resuming from iteration 0, epoch 44 until 45 epochs\n",
      "2022-11-29 06:25:18,642 - Got new best metric of val_mean_dice: 0.7973238825798035\n",
      "2022-11-29 06:25:18,642 - Epoch[45] Metrics -- val_accuracy: 0.9810 val_mean_dice: 0.7973 \n",
      "2022-11-29 06:25:18,642 - Key metric: val_mean_dice best value: 0.7973238825798035 at epoch: 45\n",
      "2022-11-29 06:25:18,715 - Epoch[45] Complete. Time taken: 00:00:05.615\n",
      "2022-11-29 06:25:18,715 - Engine run complete. Time taken: 00:00:05.645\n",
      "2022-11-29 06:25:18,770 - Epoch[45] Metrics -- train_accuracy: 0.9526 \n",
      "2022-11-29 06:25:18,770 - Key metric: train_accuracy best value: 0.9558620669133538 at epoch: 42\n",
      "2022-11-29 06:25:18,770 - Epoch[45] Complete. Time taken: 00:00:07.215\n",
      "2022-11-29 06:25:19,400 - Epoch: 46/100, Iter: 1/5 -- train_loss: 0.1096 \n",
      "2022-11-29 06:25:19,671 - Epoch: 46/100, Iter: 2/5 -- train_loss: 0.0576 \n",
      "2022-11-29 06:25:19,900 - Epoch: 46/100, Iter: 3/5 -- train_loss: 0.2175 \n",
      "2022-11-29 06:25:20,128 - Epoch: 46/100, Iter: 4/5 -- train_loss: 0.0794 \n",
      "2022-11-29 06:25:20,284 - Epoch: 46/100, Iter: 5/5 -- train_loss: 0.0905 \n",
      "2022-11-29 06:25:20,284 - Current learning rate: 0.0001\n",
      "2022-11-29 06:25:20,285 - Epoch[46] Metrics -- train_accuracy: 0.9495 \n",
      "2022-11-29 06:25:20,285 - Key metric: train_accuracy best value: 0.9558620669133538 at epoch: 42\n",
      "2022-11-29 06:25:20,285 - Epoch[46] Complete. Time taken: 00:00:01.515\n",
      "2022-11-29 06:25:20,945 - Epoch: 47/100, Iter: 1/5 -- train_loss: 0.0579 \n",
      "2022-11-29 06:25:21,195 - Epoch: 47/100, Iter: 2/5 -- train_loss: 0.0512 \n",
      "2022-11-29 06:25:21,424 - Epoch: 47/100, Iter: 3/5 -- train_loss: 0.2526 \n",
      "2022-11-29 06:25:21,652 - Epoch: 47/100, Iter: 4/5 -- train_loss: 0.1632 \n",
      "2022-11-29 06:25:21,809 - Epoch: 47/100, Iter: 5/5 -- train_loss: 0.0763 \n",
      "2022-11-29 06:25:21,809 - Got new best metric of train_accuracy: 0.9582335802973533\n",
      "2022-11-29 06:25:21,810 - Current learning rate: 0.0001\n",
      "2022-11-29 06:25:21,810 - Epoch[47] Metrics -- train_accuracy: 0.9582 \n",
      "2022-11-29 06:25:21,810 - Key metric: train_accuracy best value: 0.9582335802973533 at epoch: 47\n",
      "2022-11-29 06:25:21,810 - Epoch[47] Complete. Time taken: 00:00:01.525\n",
      "2022-11-29 06:25:22,454 - Epoch: 48/100, Iter: 1/5 -- train_loss: 0.0506 \n",
      "2022-11-29 06:25:22,741 - Epoch: 48/100, Iter: 2/5 -- train_loss: 0.0585 \n",
      "2022-11-29 06:25:22,970 - Epoch: 48/100, Iter: 3/5 -- train_loss: 0.0422 \n",
      "2022-11-29 06:25:23,200 - Epoch: 48/100, Iter: 4/5 -- train_loss: 0.0499 \n",
      "2022-11-29 06:25:23,337 - Epoch: 48/100, Iter: 5/5 -- train_loss: 0.4918 \n",
      "2022-11-29 06:25:23,337 - Current learning rate: 0.0001\n",
      "2022-11-29 06:25:23,338 - Epoch[48] Metrics -- train_accuracy: 0.9556 \n",
      "2022-11-29 06:25:23,338 - Key metric: train_accuracy best value: 0.9582335802973533 at epoch: 47\n",
      "2022-11-29 06:25:23,338 - Epoch[48] Complete. Time taken: 00:00:01.528\n",
      "2022-11-29 06:25:23,913 - Epoch: 49/100, Iter: 1/5 -- train_loss: 0.2601 \n",
      "2022-11-29 06:25:24,202 - Epoch: 49/100, Iter: 2/5 -- train_loss: 0.0800 \n",
      "2022-11-29 06:25:24,431 - Epoch: 49/100, Iter: 3/5 -- train_loss: 0.0825 \n",
      "2022-11-29 06:25:24,660 - Epoch: 49/100, Iter: 4/5 -- train_loss: 0.1736 \n",
      "2022-11-29 06:25:24,817 - Epoch: 49/100, Iter: 5/5 -- train_loss: 0.1029 \n",
      "2022-11-29 06:25:24,818 - Current learning rate: 0.0001\n",
      "2022-11-29 06:25:24,818 - Epoch[49] Metrics -- train_accuracy: 0.9520 \n",
      "2022-11-29 06:25:24,818 - Key metric: train_accuracy best value: 0.9582335802973533 at epoch: 47\n",
      "2022-11-29 06:25:24,818 - Epoch[49] Complete. Time taken: 00:00:01.480\n",
      "2022-11-29 06:25:25,432 - Epoch: 50/100, Iter: 1/5 -- train_loss: 0.2582 \n",
      "2022-11-29 06:25:25,702 - Epoch: 50/100, Iter: 2/5 -- train_loss: 0.0560 \n",
      "2022-11-29 06:25:25,974 - Epoch: 50/100, Iter: 3/5 -- train_loss: 0.0658 \n",
      "2022-11-29 06:25:26,203 - Epoch: 50/100, Iter: 4/5 -- train_loss: 0.0547 \n",
      "2022-11-29 06:25:26,338 - Epoch: 50/100, Iter: 5/5 -- train_loss: 0.0463 \n",
      "2022-11-29 06:25:26,339 - Got new best metric of train_accuracy: 0.9591908703585601\n",
      "2022-11-29 06:25:26,339 - Current learning rate: 0.0001\n",
      "2022-11-29 06:25:26,339 - Engine run resuming from iteration 0, epoch 49 until 50 epochs\n",
      "2022-11-29 06:25:31,917 - Epoch[50] Metrics -- val_accuracy: 0.9745 val_mean_dice: 0.7629 \n",
      "2022-11-29 06:25:31,917 - Key metric: val_mean_dice best value: 0.7973238825798035 at epoch: 45\n",
      "2022-11-29 06:25:31,917 - Epoch[50] Complete. Time taken: 00:00:05.547\n",
      "2022-11-29 06:25:31,917 - Engine run complete. Time taken: 00:00:05.578\n",
      "2022-11-29 06:25:31,950 - Epoch[50] Metrics -- train_accuracy: 0.9592 \n",
      "2022-11-29 06:25:31,950 - Key metric: train_accuracy best value: 0.9591908703585601 at epoch: 50\n",
      "2022-11-29 06:25:31,950 - Epoch[50] Complete. Time taken: 00:00:07.132\n",
      "2022-11-29 06:25:32,588 - Epoch: 51/100, Iter: 1/5 -- train_loss: 0.0429 \n",
      "2022-11-29 06:25:32,838 - Epoch: 51/100, Iter: 2/5 -- train_loss: 0.0448 \n",
      "2022-11-29 06:25:33,068 - Epoch: 51/100, Iter: 3/5 -- train_loss: 0.0538 \n",
      "2022-11-29 06:25:33,298 - Epoch: 51/100, Iter: 4/5 -- train_loss: 0.3124 \n",
      "2022-11-29 06:25:33,456 - Epoch: 51/100, Iter: 5/5 -- train_loss: 0.0590 \n",
      "2022-11-29 06:25:33,456 - Current learning rate: 0.0001\n",
      "2022-11-29 06:25:33,456 - Epoch[51] Metrics -- train_accuracy: 0.9518 \n",
      "2022-11-29 06:25:33,456 - Key metric: train_accuracy best value: 0.9591908703585601 at epoch: 50\n",
      "2022-11-29 06:25:33,457 - Epoch[51] Complete. Time taken: 00:00:01.506\n",
      "2022-11-29 06:25:34,097 - Epoch: 52/100, Iter: 1/5 -- train_loss: 0.0673 \n",
      "2022-11-29 06:25:34,326 - Epoch: 52/100, Iter: 2/5 -- train_loss: 0.2522 \n",
      "2022-11-29 06:25:34,575 - Epoch: 52/100, Iter: 3/5 -- train_loss: 0.0559 \n",
      "2022-11-29 06:25:34,845 - Epoch: 52/100, Iter: 4/5 -- train_loss: 0.0647 \n",
      "2022-11-29 06:25:34,981 - Epoch: 52/100, Iter: 5/5 -- train_loss: 0.0716 \n",
      "2022-11-29 06:25:34,981 - Current learning rate: 0.0001\n",
      "2022-11-29 06:25:34,982 - Epoch[52] Metrics -- train_accuracy: 0.9549 \n",
      "2022-11-29 06:25:34,982 - Key metric: train_accuracy best value: 0.9591908703585601 at epoch: 50\n",
      "2022-11-29 06:25:34,982 - Epoch[52] Complete. Time taken: 00:00:01.525\n",
      "2022-11-29 06:25:35,569 - Epoch: 53/100, Iter: 1/5 -- train_loss: 0.2378 \n",
      "2022-11-29 06:25:35,858 - Epoch: 53/100, Iter: 2/5 -- train_loss: 0.0693 \n",
      "2022-11-29 06:25:36,088 - Epoch: 53/100, Iter: 3/5 -- train_loss: 0.0417 \n",
      "2022-11-29 06:25:36,338 - Epoch: 53/100, Iter: 4/5 -- train_loss: 0.0659 \n",
      "2022-11-29 06:25:36,474 - Epoch: 53/100, Iter: 5/5 -- train_loss: 0.1242 \n",
      "2022-11-29 06:25:36,475 - Current learning rate: 0.0001\n",
      "2022-11-29 06:25:36,475 - Epoch[53] Metrics -- train_accuracy: 0.9573 \n",
      "2022-11-29 06:25:36,475 - Key metric: train_accuracy best value: 0.9591908703585601 at epoch: 50\n",
      "2022-11-29 06:25:36,475 - Epoch[53] Complete. Time taken: 00:00:01.493\n",
      "2022-11-29 06:25:37,156 - Epoch: 54/100, Iter: 1/5 -- train_loss: 0.2527 \n",
      "2022-11-29 06:25:37,386 - Epoch: 54/100, Iter: 2/5 -- train_loss: 0.0617 \n",
      "2022-11-29 06:25:37,677 - Epoch: 54/100, Iter: 3/5 -- train_loss: 0.0459 \n",
      "2022-11-29 06:25:37,907 - Epoch: 54/100, Iter: 4/5 -- train_loss: 0.0741 \n",
      "2022-11-29 06:25:38,044 - Epoch: 54/100, Iter: 5/5 -- train_loss: 0.1501 \n",
      "2022-11-29 06:25:38,045 - Current learning rate: 0.0001\n",
      "2022-11-29 06:25:38,045 - Epoch[54] Metrics -- train_accuracy: 0.9489 \n",
      "2022-11-29 06:25:38,045 - Key metric: train_accuracy best value: 0.9591908703585601 at epoch: 50\n",
      "2022-11-29 06:25:38,045 - Epoch[54] Complete. Time taken: 00:00:01.570\n",
      "2022-11-29 06:25:38,707 - Epoch: 55/100, Iter: 1/5 -- train_loss: 0.0654 \n",
      "2022-11-29 06:25:38,956 - Epoch: 55/100, Iter: 2/5 -- train_loss: 0.0434 \n",
      "2022-11-29 06:25:39,185 - Epoch: 55/100, Iter: 3/5 -- train_loss: 0.0382 \n",
      "2022-11-29 06:25:39,415 - Epoch: 55/100, Iter: 4/5 -- train_loss: 0.2176 \n",
      "2022-11-29 06:25:39,572 - Epoch: 55/100, Iter: 5/5 -- train_loss: 0.0420 \n",
      "2022-11-29 06:25:39,573 - Got new best metric of train_accuracy: 0.9622953246239903\n",
      "2022-11-29 06:25:39,573 - Current learning rate: 0.0001\n",
      "2022-11-29 06:25:39,573 - Engine run resuming from iteration 0, epoch 54 until 55 epochs\n",
      "2022-11-29 06:25:45,145 - Got new best metric of val_mean_dice: 0.805122435092926\n",
      "2022-11-29 06:25:45,145 - Epoch[55] Metrics -- val_accuracy: 0.9827 val_mean_dice: 0.8051 \n",
      "2022-11-29 06:25:45,145 - Key metric: val_mean_dice best value: 0.805122435092926 at epoch: 55\n",
      "2022-11-29 06:25:45,220 - Epoch[55] Complete. Time taken: 00:00:05.616\n",
      "2022-11-29 06:25:45,220 - Engine run complete. Time taken: 00:00:05.647\n",
      "2022-11-29 06:25:45,265 - Epoch[55] Metrics -- train_accuracy: 0.9623 \n",
      "2022-11-29 06:25:45,265 - Key metric: train_accuracy best value: 0.9622953246239903 at epoch: 55\n",
      "2022-11-29 06:25:45,265 - Epoch[55] Complete. Time taken: 00:00:07.220\n",
      "2022-11-29 06:25:45,848 - Epoch: 56/100, Iter: 1/5 -- train_loss: 0.2457 \n",
      "2022-11-29 06:25:46,096 - Epoch: 56/100, Iter: 2/5 -- train_loss: 0.0804 \n",
      "2022-11-29 06:25:46,366 - Epoch: 56/100, Iter: 3/5 -- train_loss: 0.0455 \n",
      "2022-11-29 06:25:46,597 - Epoch: 56/100, Iter: 4/5 -- train_loss: 0.0423 \n",
      "2022-11-29 06:25:46,754 - Epoch: 56/100, Iter: 5/5 -- train_loss: 0.0584 \n",
      "2022-11-29 06:25:46,754 - Got new best metric of train_accuracy: 0.9631439693390377\n",
      "2022-11-29 06:25:46,754 - Current learning rate: 0.0001\n",
      "2022-11-29 06:25:46,754 - Epoch[56] Metrics -- train_accuracy: 0.9631 \n",
      "2022-11-29 06:25:46,754 - Key metric: train_accuracy best value: 0.9631439693390377 at epoch: 56\n",
      "2022-11-29 06:25:46,754 - Epoch[56] Complete. Time taken: 00:00:01.489\n",
      "2022-11-29 06:25:47,340 - Epoch: 57/100, Iter: 1/5 -- train_loss: 0.0566 \n",
      "2022-11-29 06:25:47,629 - Epoch: 57/100, Iter: 2/5 -- train_loss: 0.1764 \n",
      "2022-11-29 06:25:47,859 - Epoch: 57/100, Iter: 3/5 -- train_loss: 0.0690 \n",
      "2022-11-29 06:25:48,089 - Epoch: 57/100, Iter: 4/5 -- train_loss: 0.2498 \n",
      "2022-11-29 06:25:48,225 - Epoch: 57/100, Iter: 5/5 -- train_loss: 0.0450 \n",
      "2022-11-29 06:25:48,225 - Current learning rate: 0.0001\n",
      "2022-11-29 06:25:48,225 - Epoch[57] Metrics -- train_accuracy: 0.9577 \n",
      "2022-11-29 06:25:48,225 - Key metric: train_accuracy best value: 0.9631439693390377 at epoch: 56\n",
      "2022-11-29 06:25:48,226 - Epoch[57] Complete. Time taken: 00:00:01.471\n",
      "2022-11-29 06:25:48,894 - Epoch: 58/100, Iter: 1/5 -- train_loss: 0.1611 \n",
      "2022-11-29 06:25:49,124 - Epoch: 58/100, Iter: 2/5 -- train_loss: 0.0576 \n",
      "2022-11-29 06:25:49,354 - Epoch: 58/100, Iter: 3/5 -- train_loss: 0.0578 \n",
      "2022-11-29 06:25:49,584 - Epoch: 58/100, Iter: 4/5 -- train_loss: 0.2166 \n",
      "2022-11-29 06:25:49,742 - Epoch: 58/100, Iter: 5/5 -- train_loss: 0.0438 \n",
      "2022-11-29 06:25:49,743 - Current learning rate: 0.0001\n",
      "2022-11-29 06:25:49,743 - Epoch[58] Metrics -- train_accuracy: 0.9620 \n",
      "2022-11-29 06:25:49,743 - Key metric: train_accuracy best value: 0.9631439693390377 at epoch: 56\n",
      "2022-11-29 06:25:49,743 - Epoch[58] Complete. Time taken: 00:00:01.517\n",
      "2022-11-29 06:25:50,394 - Epoch: 59/100, Iter: 1/5 -- train_loss: 0.0531 \n",
      "2022-11-29 06:25:50,623 - Epoch: 59/100, Iter: 2/5 -- train_loss: 0.0383 \n",
      "2022-11-29 06:25:50,852 - Epoch: 59/100, Iter: 3/5 -- train_loss: 0.2383 \n",
      "2022-11-29 06:25:51,102 - Epoch: 59/100, Iter: 4/5 -- train_loss: 0.1850 \n",
      "2022-11-29 06:25:51,260 - Epoch: 59/100, Iter: 5/5 -- train_loss: 0.0592 \n",
      "2022-11-29 06:25:51,260 - Got new best metric of train_accuracy: 0.9649659241137861\n",
      "2022-11-29 06:25:51,260 - Current learning rate: 0.0001\n",
      "2022-11-29 06:25:51,261 - Epoch[59] Metrics -- train_accuracy: 0.9650 \n",
      "2022-11-29 06:25:51,261 - Key metric: train_accuracy best value: 0.9649659241137861 at epoch: 59\n",
      "2022-11-29 06:25:51,261 - Epoch[59] Complete. Time taken: 00:00:01.518\n",
      "2022-11-29 06:25:51,950 - Epoch: 60/100, Iter: 1/5 -- train_loss: 0.1804 \n",
      "2022-11-29 06:25:52,179 - Epoch: 60/100, Iter: 2/5 -- train_loss: 0.2408 \n",
      "2022-11-29 06:25:52,409 - Epoch: 60/100, Iter: 3/5 -- train_loss: 0.0561 \n",
      "2022-11-29 06:25:52,638 - Epoch: 60/100, Iter: 4/5 -- train_loss: 0.0576 \n",
      "2022-11-29 06:25:52,796 - Epoch: 60/100, Iter: 5/5 -- train_loss: 0.0522 \n",
      "2022-11-29 06:25:52,797 - Got new best metric of train_accuracy: 0.9668456962049142\n",
      "2022-11-29 06:25:52,797 - Current learning rate: 0.0001\n",
      "2022-11-29 06:25:52,797 - Engine run resuming from iteration 0, epoch 59 until 60 epochs\n",
      "2022-11-29 06:25:58,337 - Epoch[60] Metrics -- val_accuracy: 0.9815 val_mean_dice: 0.7961 \n",
      "2022-11-29 06:25:58,337 - Key metric: val_mean_dice best value: 0.805122435092926 at epoch: 55\n",
      "2022-11-29 06:25:58,337 - Epoch[60] Complete. Time taken: 00:00:05.509\n",
      "2022-11-29 06:25:58,338 - Engine run complete. Time taken: 00:00:05.541\n",
      "2022-11-29 06:25:58,359 - Epoch[60] Metrics -- train_accuracy: 0.9668 \n",
      "2022-11-29 06:25:58,359 - Key metric: train_accuracy best value: 0.9668456962049142 at epoch: 60\n",
      "2022-11-29 06:25:58,360 - Epoch[60] Complete. Time taken: 00:00:07.099\n",
      "2022-11-29 06:25:59,041 - Epoch: 61/100, Iter: 1/5 -- train_loss: 0.1036 \n",
      "2022-11-29 06:25:59,271 - Epoch: 61/100, Iter: 2/5 -- train_loss: 0.0486 \n",
      "2022-11-29 06:25:59,500 - Epoch: 61/100, Iter: 3/5 -- train_loss: 0.2455 \n",
      "2022-11-29 06:25:59,729 - Epoch: 61/100, Iter: 4/5 -- train_loss: 0.0999 \n",
      "2022-11-29 06:25:59,888 - Epoch: 61/100, Iter: 5/5 -- train_loss: 0.0644 \n",
      "2022-11-29 06:25:59,888 - Current learning rate: 0.0001\n",
      "2022-11-29 06:25:59,888 - Epoch[61] Metrics -- train_accuracy: 0.9602 \n",
      "2022-11-29 06:25:59,888 - Key metric: train_accuracy best value: 0.9668456962049142 at epoch: 60\n",
      "2022-11-29 06:25:59,888 - Epoch[61] Complete. Time taken: 00:00:01.529\n",
      "2022-11-29 06:26:00,545 - Epoch: 62/100, Iter: 1/5 -- train_loss: 0.0479 \n",
      "2022-11-29 06:26:00,843 - Epoch: 62/100, Iter: 2/5 -- train_loss: 0.2203 \n",
      "2022-11-29 06:26:01,072 - Epoch: 62/100, Iter: 3/5 -- train_loss: 0.0555 \n",
      "2022-11-29 06:26:01,302 - Epoch: 62/100, Iter: 4/5 -- train_loss: 0.0648 \n",
      "2022-11-29 06:26:01,459 - Epoch: 62/100, Iter: 5/5 -- train_loss: 0.0364 \n",
      "2022-11-29 06:26:01,459 - Current learning rate: 0.0001\n",
      "2022-11-29 06:26:01,459 - Epoch[62] Metrics -- train_accuracy: 0.9660 \n",
      "2022-11-29 06:26:01,459 - Key metric: train_accuracy best value: 0.9668456962049142 at epoch: 60\n",
      "2022-11-29 06:26:01,460 - Epoch[62] Complete. Time taken: 00:00:01.571\n",
      "2022-11-29 06:26:02,080 - Epoch: 63/100, Iter: 1/5 -- train_loss: 0.0467 \n",
      "2022-11-29 06:26:02,310 - Epoch: 63/100, Iter: 2/5 -- train_loss: 0.0459 \n",
      "2022-11-29 06:26:02,560 - Epoch: 63/100, Iter: 3/5 -- train_loss: 0.1591 \n",
      "2022-11-29 06:26:02,789 - Epoch: 63/100, Iter: 4/5 -- train_loss: 0.1931 \n",
      "2022-11-29 06:26:02,947 - Epoch: 63/100, Iter: 5/5 -- train_loss: 0.0399 \n",
      "2022-11-29 06:26:02,948 - Got new best metric of train_accuracy: 0.9696584342558638\n",
      "2022-11-29 06:26:02,948 - Current learning rate: 0.0001\n",
      "2022-11-29 06:26:02,948 - Epoch[63] Metrics -- train_accuracy: 0.9697 \n",
      "2022-11-29 06:26:02,948 - Key metric: train_accuracy best value: 0.9696584342558638 at epoch: 63\n",
      "2022-11-29 06:26:02,948 - Epoch[63] Complete. Time taken: 00:00:01.488\n",
      "2022-11-29 06:26:03,521 - Epoch: 64/100, Iter: 1/5 -- train_loss: 0.2609 \n",
      "2022-11-29 06:26:03,832 - Epoch: 64/100, Iter: 2/5 -- train_loss: 0.0329 \n",
      "2022-11-29 06:26:04,060 - Epoch: 64/100, Iter: 3/5 -- train_loss: 0.0578 \n",
      "2022-11-29 06:26:04,289 - Epoch: 64/100, Iter: 4/5 -- train_loss: 0.0484 \n",
      "2022-11-29 06:26:04,425 - Epoch: 64/100, Iter: 5/5 -- train_loss: 0.0650 \n",
      "2022-11-29 06:26:04,426 - Current learning rate: 0.0001\n",
      "2022-11-29 06:26:04,426 - Epoch[64] Metrics -- train_accuracy: 0.9604 \n",
      "2022-11-29 06:26:04,426 - Key metric: train_accuracy best value: 0.9696584342558638 at epoch: 63\n",
      "2022-11-29 06:26:04,426 - Epoch[64] Complete. Time taken: 00:00:01.478\n",
      "2022-11-29 06:26:05,091 - Epoch: 65/100, Iter: 1/5 -- train_loss: 0.0442 \n",
      "2022-11-29 06:26:05,320 - Epoch: 65/100, Iter: 2/5 -- train_loss: 0.2265 \n",
      "2022-11-29 06:26:05,570 - Epoch: 65/100, Iter: 3/5 -- train_loss: 0.1312 \n",
      "2022-11-29 06:26:05,800 - Epoch: 65/100, Iter: 4/5 -- train_loss: 0.0521 \n",
      "2022-11-29 06:26:05,957 - Epoch: 65/100, Iter: 5/5 -- train_loss: 0.0537 \n",
      "2022-11-29 06:26:05,958 - Current learning rate: 0.0001\n",
      "2022-11-29 06:26:05,958 - Engine run resuming from iteration 0, epoch 64 until 65 epochs\n",
      "2022-11-29 06:26:11,531 - Got new best metric of val_mean_dice: 0.830279529094696\n",
      "2022-11-29 06:26:11,531 - Epoch[65] Metrics -- val_accuracy: 0.9862 val_mean_dice: 0.8303 \n",
      "2022-11-29 06:26:11,531 - Key metric: val_mean_dice best value: 0.830279529094696 at epoch: 65\n",
      "2022-11-29 06:26:11,604 - Epoch[65] Complete. Time taken: 00:00:05.616\n",
      "2022-11-29 06:26:11,604 - Engine run complete. Time taken: 00:00:05.647\n",
      "2022-11-29 06:26:11,635 - Epoch[65] Metrics -- train_accuracy: 0.9685 \n",
      "2022-11-29 06:26:11,635 - Key metric: train_accuracy best value: 0.9696584342558638 at epoch: 63\n",
      "2022-11-29 06:26:11,635 - Epoch[65] Complete. Time taken: 00:00:07.209\n",
      "2022-11-29 06:26:12,300 - Epoch: 66/100, Iter: 1/5 -- train_loss: 0.1744 \n",
      "2022-11-29 06:26:12,530 - Epoch: 66/100, Iter: 2/5 -- train_loss: 0.0371 \n",
      "2022-11-29 06:26:12,785 - Epoch: 66/100, Iter: 3/5 -- train_loss: 0.0396 \n",
      "2022-11-29 06:26:13,014 - Epoch: 66/100, Iter: 4/5 -- train_loss: 0.0409 \n",
      "2022-11-29 06:26:13,171 - Epoch: 66/100, Iter: 5/5 -- train_loss: 0.4447 \n",
      "2022-11-29 06:26:13,171 - Current learning rate: 0.0001\n",
      "2022-11-29 06:26:13,172 - Epoch[66] Metrics -- train_accuracy: 0.9668 \n",
      "2022-11-29 06:26:13,172 - Key metric: train_accuracy best value: 0.9696584342558638 at epoch: 63\n",
      "2022-11-29 06:26:13,172 - Epoch[66] Complete. Time taken: 00:00:01.536\n",
      "2022-11-29 06:26:13,787 - Epoch: 67/100, Iter: 1/5 -- train_loss: 0.0349 \n",
      "2022-11-29 06:26:14,074 - Epoch: 67/100, Iter: 2/5 -- train_loss: 0.0585 \n",
      "2022-11-29 06:26:14,302 - Epoch: 67/100, Iter: 3/5 -- train_loss: 0.0459 \n",
      "2022-11-29 06:26:14,531 - Epoch: 67/100, Iter: 4/5 -- train_loss: 0.2487 \n",
      "2022-11-29 06:26:14,668 - Epoch: 67/100, Iter: 5/5 -- train_loss: 0.0413 \n",
      "2022-11-29 06:26:14,668 - Current learning rate: 0.0001\n",
      "2022-11-29 06:26:14,668 - Epoch[67] Metrics -- train_accuracy: 0.9565 \n",
      "2022-11-29 06:26:14,668 - Key metric: train_accuracy best value: 0.9696584342558638 at epoch: 63\n",
      "2022-11-29 06:26:14,668 - Epoch[67] Complete. Time taken: 00:00:01.497\n",
      "2022-11-29 06:26:15,266 - Epoch: 68/100, Iter: 1/5 -- train_loss: 0.1176 \n",
      "2022-11-29 06:26:15,517 - Epoch: 68/100, Iter: 2/5 -- train_loss: 0.0355 \n",
      "2022-11-29 06:26:15,747 - Epoch: 68/100, Iter: 3/5 -- train_loss: 0.1997 \n",
      "2022-11-29 06:26:15,997 - Epoch: 68/100, Iter: 4/5 -- train_loss: 0.0374 \n",
      "2022-11-29 06:26:16,155 - Epoch: 68/100, Iter: 5/5 -- train_loss: 0.2034 \n",
      "2022-11-29 06:26:16,155 - Current learning rate: 0.0001\n",
      "2022-11-29 06:26:16,155 - Epoch[68] Metrics -- train_accuracy: 0.9670 \n",
      "2022-11-29 06:26:16,155 - Key metric: train_accuracy best value: 0.9696584342558638 at epoch: 63\n",
      "2022-11-29 06:26:16,156 - Epoch[68] Complete. Time taken: 00:00:01.487\n",
      "2022-11-29 06:26:16,820 - Epoch: 69/100, Iter: 1/5 -- train_loss: 0.0317 \n",
      "2022-11-29 06:26:17,049 - Epoch: 69/100, Iter: 2/5 -- train_loss: 0.0384 \n",
      "2022-11-29 06:26:17,278 - Epoch: 69/100, Iter: 3/5 -- train_loss: 0.2385 \n",
      "2022-11-29 06:26:17,528 - Epoch: 69/100, Iter: 4/5 -- train_loss: 0.0312 \n",
      "2022-11-29 06:26:17,686 - Epoch: 69/100, Iter: 5/5 -- train_loss: 0.1193 \n",
      "2022-11-29 06:26:17,687 - Current learning rate: 0.0001\n",
      "2022-11-29 06:26:17,687 - Epoch[69] Metrics -- train_accuracy: 0.9644 \n",
      "2022-11-29 06:26:17,687 - Key metric: train_accuracy best value: 0.9696584342558638 at epoch: 63\n",
      "2022-11-29 06:26:17,687 - Epoch[69] Complete. Time taken: 00:00:01.531\n",
      "2022-11-29 06:26:18,386 - Epoch: 70/100, Iter: 1/5 -- train_loss: 0.1608 \n",
      "2022-11-29 06:26:18,614 - Epoch: 70/100, Iter: 2/5 -- train_loss: 0.0604 \n",
      "2022-11-29 06:26:18,843 - Epoch: 70/100, Iter: 3/5 -- train_loss: 0.0388 \n",
      "2022-11-29 06:26:19,072 - Epoch: 70/100, Iter: 4/5 -- train_loss: 0.0452 \n",
      "2022-11-29 06:26:19,229 - Epoch: 70/100, Iter: 5/5 -- train_loss: 0.4405 \n",
      "2022-11-29 06:26:19,229 - Current learning rate: 0.0001\n",
      "2022-11-29 06:26:19,229 - Engine run resuming from iteration 0, epoch 69 until 70 epochs\n",
      "2022-11-29 06:26:24,767 - Epoch[70] Metrics -- val_accuracy: 0.9852 val_mean_dice: 0.8208 \n",
      "2022-11-29 06:26:24,767 - Key metric: val_mean_dice best value: 0.830279529094696 at epoch: 65\n",
      "2022-11-29 06:26:24,768 - Epoch[70] Complete. Time taken: 00:00:05.508\n",
      "2022-11-29 06:26:24,768 - Engine run complete. Time taken: 00:00:05.538\n",
      "2022-11-29 06:26:24,819 - Epoch[70] Metrics -- train_accuracy: 0.9617 \n",
      "2022-11-29 06:26:24,820 - Key metric: train_accuracy best value: 0.9696584342558638 at epoch: 63\n",
      "2022-11-29 06:26:24,820 - Epoch[70] Complete. Time taken: 00:00:07.133\n",
      "2022-11-29 06:26:25,472 - Epoch: 71/100, Iter: 1/5 -- train_loss: 0.1527 \n",
      "2022-11-29 06:26:25,702 - Epoch: 71/100, Iter: 2/5 -- train_loss: 0.0604 \n",
      "2022-11-29 06:26:25,932 - Epoch: 71/100, Iter: 3/5 -- train_loss: 0.2285 \n",
      "2022-11-29 06:26:26,162 - Epoch: 71/100, Iter: 4/5 -- train_loss: 0.0351 \n",
      "2022-11-29 06:26:26,320 - Epoch: 71/100, Iter: 5/5 -- train_loss: 0.0687 \n",
      "2022-11-29 06:26:26,320 - Current learning rate: 0.0001\n",
      "2022-11-29 06:26:26,320 - Epoch[71] Metrics -- train_accuracy: 0.9679 \n",
      "2022-11-29 06:26:26,320 - Key metric: train_accuracy best value: 0.9696584342558638 at epoch: 63\n",
      "2022-11-29 06:26:26,321 - Epoch[71] Complete. Time taken: 00:00:01.501\n",
      "2022-11-29 06:26:26,963 - Epoch: 72/100, Iter: 1/5 -- train_loss: 0.0538 \n",
      "2022-11-29 06:26:27,214 - Epoch: 72/100, Iter: 2/5 -- train_loss: 0.0342 \n",
      "2022-11-29 06:26:27,443 - Epoch: 72/100, Iter: 3/5 -- train_loss: 0.2044 \n",
      "2022-11-29 06:26:27,672 - Epoch: 72/100, Iter: 4/5 -- train_loss: 0.0392 \n",
      "2022-11-29 06:26:27,830 - Epoch: 72/100, Iter: 5/5 -- train_loss: 0.0767 \n",
      "2022-11-29 06:26:27,831 - Current learning rate: 0.0001\n",
      "2022-11-29 06:26:27,831 - Epoch[72] Metrics -- train_accuracy: 0.9657 \n",
      "2022-11-29 06:26:27,831 - Key metric: train_accuracy best value: 0.9696584342558638 at epoch: 63\n",
      "2022-11-29 06:26:27,831 - Epoch[72] Complete. Time taken: 00:00:01.510\n",
      "2022-11-29 06:26:28,487 - Epoch: 73/100, Iter: 1/5 -- train_loss: 0.0486 \n",
      "2022-11-29 06:26:28,716 - Epoch: 73/100, Iter: 2/5 -- train_loss: 0.2248 \n",
      "2022-11-29 06:26:28,945 - Epoch: 73/100, Iter: 3/5 -- train_loss: 0.0373 \n",
      "2022-11-29 06:26:29,195 - Epoch: 73/100, Iter: 4/5 -- train_loss: 0.0456 \n",
      "2022-11-29 06:26:29,353 - Epoch: 73/100, Iter: 5/5 -- train_loss: 0.0368 \n",
      "2022-11-29 06:26:29,353 - Got new best metric of train_accuracy: 0.9699297362174036\n",
      "2022-11-29 06:26:29,353 - Current learning rate: 0.0001\n",
      "2022-11-29 06:26:29,353 - Epoch[73] Metrics -- train_accuracy: 0.9699 \n",
      "2022-11-29 06:26:29,353 - Key metric: train_accuracy best value: 0.9699297362174036 at epoch: 73\n",
      "2022-11-29 06:26:29,353 - Epoch[73] Complete. Time taken: 00:00:01.522\n",
      "2022-11-29 06:26:29,982 - Epoch: 74/100, Iter: 1/5 -- train_loss: 0.0807 \n",
      "2022-11-29 06:26:30,211 - Epoch: 74/100, Iter: 2/5 -- train_loss: 0.0520 \n",
      "2022-11-29 06:26:30,440 - Epoch: 74/100, Iter: 3/5 -- train_loss: 0.2052 \n",
      "2022-11-29 06:26:30,689 - Epoch: 74/100, Iter: 4/5 -- train_loss: 0.1811 \n",
      "2022-11-29 06:26:30,847 - Epoch: 74/100, Iter: 5/5 -- train_loss: 0.0761 \n",
      "2022-11-29 06:26:30,847 - Current learning rate: 0.0001\n",
      "2022-11-29 06:26:30,847 - Epoch[74] Metrics -- train_accuracy: 0.9686 \n",
      "2022-11-29 06:26:30,847 - Key metric: train_accuracy best value: 0.9699297362174036 at epoch: 73\n",
      "2022-11-29 06:26:30,847 - Epoch[74] Complete. Time taken: 00:00:01.494\n",
      "2022-11-29 06:26:31,492 - Epoch: 75/100, Iter: 1/5 -- train_loss: 0.1850 \n",
      "2022-11-29 06:26:31,722 - Epoch: 75/100, Iter: 2/5 -- train_loss: 0.1851 \n",
      "2022-11-29 06:26:31,952 - Epoch: 75/100, Iter: 3/5 -- train_loss: 0.0340 \n",
      "2022-11-29 06:26:32,182 - Epoch: 75/100, Iter: 4/5 -- train_loss: 0.0560 \n",
      "2022-11-29 06:26:32,340 - Epoch: 75/100, Iter: 5/5 -- train_loss: 0.0554 \n",
      "2022-11-29 06:26:32,340 - Got new best metric of train_accuracy: 0.9748656257750496\n",
      "2022-11-29 06:26:32,340 - Current learning rate: 0.0001\n",
      "2022-11-29 06:26:32,340 - Engine run resuming from iteration 0, epoch 74 until 75 epochs\n",
      "2022-11-29 06:26:37,883 - Got new best metric of val_mean_dice: 0.8349078297615051\n",
      "2022-11-29 06:26:37,883 - Epoch[75] Metrics -- val_accuracy: 0.9865 val_mean_dice: 0.8349 \n",
      "2022-11-29 06:26:37,883 - Key metric: val_mean_dice best value: 0.8349078297615051 at epoch: 75\n",
      "2022-11-29 06:26:37,959 - Epoch[75] Complete. Time taken: 00:00:05.587\n",
      "2022-11-29 06:26:37,959 - Engine run complete. Time taken: 00:00:05.619\n",
      "2022-11-29 06:26:38,008 - Epoch[75] Metrics -- train_accuracy: 0.9749 \n",
      "2022-11-29 06:26:38,008 - Key metric: train_accuracy best value: 0.9748656257750496 at epoch: 75\n",
      "2022-11-29 06:26:38,008 - Epoch[75] Complete. Time taken: 00:00:07.161\n",
      "2022-11-29 06:26:38,659 - Epoch: 76/100, Iter: 1/5 -- train_loss: 0.0399 \n",
      "2022-11-29 06:26:38,889 - Epoch: 76/100, Iter: 2/5 -- train_loss: 0.0666 \n",
      "2022-11-29 06:26:39,118 - Epoch: 76/100, Iter: 3/5 -- train_loss: 0.2140 \n",
      "2022-11-29 06:26:39,368 - Epoch: 76/100, Iter: 4/5 -- train_loss: 0.2484 \n",
      "2022-11-29 06:26:39,526 - Epoch: 76/100, Iter: 5/5 -- train_loss: 0.0295 \n",
      "2022-11-29 06:26:39,526 - Current learning rate: 0.0001\n",
      "2022-11-29 06:26:39,526 - Epoch[76] Metrics -- train_accuracy: 0.9724 \n",
      "2022-11-29 06:26:39,526 - Key metric: train_accuracy best value: 0.9748656257750496 at epoch: 75\n",
      "2022-11-29 06:26:39,527 - Epoch[76] Complete. Time taken: 00:00:01.518\n",
      "2022-11-29 06:26:40,173 - Epoch: 77/100, Iter: 1/5 -- train_loss: 0.0392 \n",
      "2022-11-29 06:26:40,442 - Epoch: 77/100, Iter: 2/5 -- train_loss: 0.0360 \n",
      "2022-11-29 06:26:40,671 - Epoch: 77/100, Iter: 3/5 -- train_loss: 0.0402 \n",
      "2022-11-29 06:26:40,900 - Epoch: 77/100, Iter: 4/5 -- train_loss: 0.2319 \n",
      "2022-11-29 06:26:41,058 - Epoch: 77/100, Iter: 5/5 -- train_loss: 0.1037 \n",
      "2022-11-29 06:26:41,058 - Current learning rate: 0.0001\n",
      "2022-11-29 06:26:41,058 - Epoch[77] Metrics -- train_accuracy: 0.9719 \n",
      "2022-11-29 06:26:41,058 - Key metric: train_accuracy best value: 0.9748656257750496 at epoch: 75\n",
      "2022-11-29 06:26:41,058 - Epoch[77] Complete. Time taken: 00:00:01.532\n",
      "2022-11-29 06:26:41,728 - Epoch: 78/100, Iter: 1/5 -- train_loss: 0.0373 \n",
      "2022-11-29 06:26:41,958 - Epoch: 78/100, Iter: 2/5 -- train_loss: 0.2262 \n",
      "2022-11-29 06:26:42,187 - Epoch: 78/100, Iter: 3/5 -- train_loss: 0.0566 \n",
      "2022-11-29 06:26:42,417 - Epoch: 78/100, Iter: 4/5 -- train_loss: 0.0814 \n",
      "2022-11-29 06:26:42,574 - Epoch: 78/100, Iter: 5/5 -- train_loss: 0.0736 \n",
      "2022-11-29 06:26:42,574 - Current learning rate: 0.0001\n",
      "2022-11-29 06:26:42,574 - Epoch[78] Metrics -- train_accuracy: 0.9667 \n",
      "2022-11-29 06:26:42,574 - Key metric: train_accuracy best value: 0.9748656257750496 at epoch: 75\n",
      "2022-11-29 06:26:42,574 - Epoch[78] Complete. Time taken: 00:00:01.516\n",
      "2022-11-29 06:26:43,227 - Epoch: 79/100, Iter: 1/5 -- train_loss: 0.0575 \n",
      "2022-11-29 06:26:43,456 - Epoch: 79/100, Iter: 2/5 -- train_loss: 0.1900 \n",
      "2022-11-29 06:26:43,706 - Epoch: 79/100, Iter: 3/5 -- train_loss: 0.2815 \n",
      "2022-11-29 06:26:43,935 - Epoch: 79/100, Iter: 4/5 -- train_loss: 0.0383 \n",
      "2022-11-29 06:26:44,093 - Epoch: 79/100, Iter: 5/5 -- train_loss: 0.0683 \n",
      "2022-11-29 06:26:44,093 - Current learning rate: 0.0001\n",
      "2022-11-29 06:26:44,093 - Epoch[79] Metrics -- train_accuracy: 0.9729 \n",
      "2022-11-29 06:26:44,093 - Key metric: train_accuracy best value: 0.9748656257750496 at epoch: 75\n",
      "2022-11-29 06:26:44,094 - Epoch[79] Complete. Time taken: 00:00:01.519\n",
      "2022-11-29 06:26:44,701 - Epoch: 80/100, Iter: 1/5 -- train_loss: 0.0530 \n",
      "2022-11-29 06:26:44,950 - Epoch: 80/100, Iter: 2/5 -- train_loss: 0.0563 \n",
      "2022-11-29 06:26:45,180 - Epoch: 80/100, Iter: 3/5 -- train_loss: 0.2046 \n",
      "2022-11-29 06:26:45,430 - Epoch: 80/100, Iter: 4/5 -- train_loss: 0.0377 \n",
      "2022-11-29 06:26:45,587 - Epoch: 80/100, Iter: 5/5 -- train_loss: 0.0690 \n",
      "2022-11-29 06:26:45,587 - Current learning rate: 0.0001\n",
      "2022-11-29 06:26:45,587 - Engine run resuming from iteration 0, epoch 79 until 80 epochs\n",
      "2022-11-29 06:26:51,154 - Got new best metric of val_mean_dice: 0.8386988043785095\n",
      "2022-11-29 06:26:51,154 - Epoch[80] Metrics -- val_accuracy: 0.9874 val_mean_dice: 0.8387 \n",
      "2022-11-29 06:26:51,154 - Key metric: val_mean_dice best value: 0.8386988043785095 at epoch: 80\n",
      "2022-11-29 06:26:51,227 - Epoch[80] Complete. Time taken: 00:00:05.609\n",
      "2022-11-29 06:26:51,227 - Engine run complete. Time taken: 00:00:05.640\n",
      "2022-11-29 06:26:51,260 - Epoch[80] Metrics -- train_accuracy: 0.9714 \n",
      "2022-11-29 06:26:51,260 - Key metric: train_accuracy best value: 0.9748656257750496 at epoch: 75\n",
      "2022-11-29 06:26:51,260 - Epoch[80] Complete. Time taken: 00:00:07.167\n",
      "2022-11-29 06:26:51,905 - Epoch: 81/100, Iter: 1/5 -- train_loss: 0.0373 \n",
      "2022-11-29 06:26:52,142 - Epoch: 81/100, Iter: 2/5 -- train_loss: 0.0351 \n",
      "2022-11-29 06:26:52,399 - Epoch: 81/100, Iter: 3/5 -- train_loss: 0.2272 \n",
      "2022-11-29 06:26:52,650 - Epoch: 81/100, Iter: 4/5 -- train_loss: 0.0503 \n",
      "2022-11-29 06:26:52,812 - Epoch: 81/100, Iter: 5/5 -- train_loss: 0.0573 \n",
      "2022-11-29 06:26:52,813 - Current learning rate: 0.0001\n",
      "2022-11-29 06:26:52,813 - Epoch[81] Metrics -- train_accuracy: 0.9662 \n",
      "2022-11-29 06:26:52,813 - Key metric: train_accuracy best value: 0.9748656257750496 at epoch: 75\n",
      "2022-11-29 06:26:52,813 - Epoch[81] Complete. Time taken: 00:00:01.553\n",
      "2022-11-29 06:26:53,470 - Epoch: 82/100, Iter: 1/5 -- train_loss: 0.0543 \n",
      "2022-11-29 06:26:53,741 - Epoch: 82/100, Iter: 2/5 -- train_loss: 0.1555 \n",
      "2022-11-29 06:26:53,970 - Epoch: 82/100, Iter: 3/5 -- train_loss: 0.0480 \n",
      "2022-11-29 06:26:54,200 - Epoch: 82/100, Iter: 4/5 -- train_loss: 0.0367 \n",
      "2022-11-29 06:26:54,336 - Epoch: 82/100, Iter: 5/5 -- train_loss: 0.4257 \n",
      "2022-11-29 06:26:54,336 - Current learning rate: 0.0001\n",
      "2022-11-29 06:26:54,336 - Epoch[82] Metrics -- train_accuracy: 0.9631 \n",
      "2022-11-29 06:26:54,336 - Key metric: train_accuracy best value: 0.9748656257750496 at epoch: 75\n",
      "2022-11-29 06:26:54,336 - Epoch[82] Complete. Time taken: 00:00:01.523\n",
      "2022-11-29 06:26:55,037 - Epoch: 83/100, Iter: 1/5 -- train_loss: 0.0453 \n",
      "2022-11-29 06:26:55,267 - Epoch: 83/100, Iter: 2/5 -- train_loss: 0.0594 \n",
      "2022-11-29 06:26:55,496 - Epoch: 83/100, Iter: 3/5 -- train_loss: 0.0438 \n",
      "2022-11-29 06:26:55,726 - Epoch: 83/100, Iter: 4/5 -- train_loss: 0.2380 \n",
      "2022-11-29 06:26:55,884 - Epoch: 83/100, Iter: 5/5 -- train_loss: 0.0277 \n",
      "2022-11-29 06:26:55,885 - Current learning rate: 0.0001\n",
      "2022-11-29 06:26:55,885 - Epoch[83] Metrics -- train_accuracy: 0.9677 \n",
      "2022-11-29 06:26:55,885 - Key metric: train_accuracy best value: 0.9748656257750496 at epoch: 75\n",
      "2022-11-29 06:26:55,885 - Epoch[83] Complete. Time taken: 00:00:01.549\n",
      "2022-11-29 06:26:56,578 - Epoch: 84/100, Iter: 1/5 -- train_loss: 0.0242 \n",
      "2022-11-29 06:26:56,808 - Epoch: 84/100, Iter: 2/5 -- train_loss: 0.0386 \n",
      "2022-11-29 06:26:57,037 - Epoch: 84/100, Iter: 3/5 -- train_loss: 0.0470 \n",
      "2022-11-29 06:26:57,266 - Epoch: 84/100, Iter: 4/5 -- train_loss: 0.2320 \n",
      "2022-11-29 06:26:57,424 - Epoch: 84/100, Iter: 5/5 -- train_loss: 0.0305 \n",
      "2022-11-29 06:26:57,425 - Current learning rate: 0.0001\n",
      "2022-11-29 06:26:57,425 - Epoch[84] Metrics -- train_accuracy: 0.9722 \n",
      "2022-11-29 06:26:57,425 - Key metric: train_accuracy best value: 0.9748656257750496 at epoch: 75\n",
      "2022-11-29 06:26:57,425 - Epoch[84] Complete. Time taken: 00:00:01.540\n",
      "2022-11-29 06:26:58,051 - Epoch: 85/100, Iter: 1/5 -- train_loss: 0.0307 \n",
      "2022-11-29 06:26:58,282 - Epoch: 85/100, Iter: 2/5 -- train_loss: 0.0399 \n",
      "2022-11-29 06:26:58,552 - Epoch: 85/100, Iter: 3/5 -- train_loss: 0.1470 \n",
      "2022-11-29 06:26:58,782 - Epoch: 85/100, Iter: 4/5 -- train_loss: 0.2273 \n",
      "2022-11-29 06:26:58,939 - Epoch: 85/100, Iter: 5/5 -- train_loss: 0.0459 \n",
      "2022-11-29 06:26:58,940 - Current learning rate: 0.0001\n",
      "2022-11-29 06:26:58,940 - Engine run resuming from iteration 0, epoch 84 until 85 epochs\n",
      "2022-11-29 06:27:04,515 - Got new best metric of val_mean_dice: 0.8505621552467346\n",
      "2022-11-29 06:27:04,515 - Epoch[85] Metrics -- val_accuracy: 0.9892 val_mean_dice: 0.8506 \n",
      "2022-11-29 06:27:04,515 - Key metric: val_mean_dice best value: 0.8505621552467346 at epoch: 85\n",
      "2022-11-29 06:27:04,588 - Epoch[85] Complete. Time taken: 00:00:05.617\n",
      "2022-11-29 06:27:04,588 - Engine run complete. Time taken: 00:00:05.649\n",
      "2022-11-29 06:27:04,643 - Epoch[85] Metrics -- train_accuracy: 0.9705 \n",
      "2022-11-29 06:27:04,643 - Key metric: train_accuracy best value: 0.9748656257750496 at epoch: 75\n",
      "2022-11-29 06:27:04,643 - Epoch[85] Complete. Time taken: 00:00:07.218\n",
      "2022-11-29 06:27:05,280 - Epoch: 86/100, Iter: 1/5 -- train_loss: 0.0548 \n",
      "2022-11-29 06:27:05,509 - Epoch: 86/100, Iter: 2/5 -- train_loss: 0.2329 \n",
      "2022-11-29 06:27:05,785 - Epoch: 86/100, Iter: 3/5 -- train_loss: 0.0369 \n",
      "2022-11-29 06:27:06,015 - Epoch: 86/100, Iter: 4/5 -- train_loss: 0.0303 \n",
      "2022-11-29 06:27:06,172 - Epoch: 86/100, Iter: 5/5 -- train_loss: 0.0501 \n",
      "2022-11-29 06:27:06,173 - Current learning rate: 0.0001\n",
      "2022-11-29 06:27:06,173 - Epoch[86] Metrics -- train_accuracy: 0.9712 \n",
      "2022-11-29 06:27:06,173 - Key metric: train_accuracy best value: 0.9748656257750496 at epoch: 75\n",
      "2022-11-29 06:27:06,173 - Epoch[86] Complete. Time taken: 00:00:01.530\n",
      "2022-11-29 06:27:06,743 - Epoch: 87/100, Iter: 1/5 -- train_loss: 0.2192 \n",
      "2022-11-29 06:27:07,033 - Epoch: 87/100, Iter: 2/5 -- train_loss: 0.0412 \n",
      "2022-11-29 06:27:07,283 - Epoch: 87/100, Iter: 3/5 -- train_loss: 0.1427 \n",
      "2022-11-29 06:27:07,525 - Epoch: 87/100, Iter: 4/5 -- train_loss: 0.0362 \n",
      "2022-11-29 06:27:07,665 - Epoch: 87/100, Iter: 5/5 -- train_loss: 0.0406 \n",
      "2022-11-29 06:27:07,665 - Current learning rate: 0.0001\n",
      "2022-11-29 06:27:07,665 - Epoch[87] Metrics -- train_accuracy: 0.9733 \n",
      "2022-11-29 06:27:07,665 - Key metric: train_accuracy best value: 0.9748656257750496 at epoch: 75\n",
      "2022-11-29 06:27:07,665 - Epoch[87] Complete. Time taken: 00:00:01.493\n",
      "2022-11-29 06:27:08,316 - Epoch: 88/100, Iter: 1/5 -- train_loss: 0.0423 \n",
      "2022-11-29 06:27:08,566 - Epoch: 88/100, Iter: 2/5 -- train_loss: 0.0438 \n",
      "2022-11-29 06:27:08,795 - Epoch: 88/100, Iter: 3/5 -- train_loss: 0.1416 \n",
      "2022-11-29 06:27:09,046 - Epoch: 88/100, Iter: 4/5 -- train_loss: 0.2058 \n",
      "2022-11-29 06:27:09,204 - Epoch: 88/100, Iter: 5/5 -- train_loss: 0.0490 \n",
      "2022-11-29 06:27:09,205 - Current learning rate: 0.0001\n",
      "2022-11-29 06:27:09,205 - Epoch[88] Metrics -- train_accuracy: 0.9711 \n",
      "2022-11-29 06:27:09,205 - Key metric: train_accuracy best value: 0.9748656257750496 at epoch: 75\n",
      "2022-11-29 06:27:09,205 - Epoch[88] Complete. Time taken: 00:00:01.539\n",
      "2022-11-29 06:27:09,871 - Epoch: 89/100, Iter: 1/5 -- train_loss: 0.0329 \n",
      "2022-11-29 06:27:10,121 - Epoch: 89/100, Iter: 2/5 -- train_loss: 0.0375 \n",
      "2022-11-29 06:27:10,351 - Epoch: 89/100, Iter: 3/5 -- train_loss: 0.0261 \n",
      "2022-11-29 06:27:10,581 - Epoch: 89/100, Iter: 4/5 -- train_loss: 0.2772 \n",
      "2022-11-29 06:27:10,738 - Epoch: 89/100, Iter: 5/5 -- train_loss: 0.0354 \n",
      "2022-11-29 06:27:10,738 - Current learning rate: 0.0001\n",
      "2022-11-29 06:27:10,739 - Epoch[89] Metrics -- train_accuracy: 0.9604 \n",
      "2022-11-29 06:27:10,739 - Key metric: train_accuracy best value: 0.9748656257750496 at epoch: 75\n",
      "2022-11-29 06:27:10,739 - Epoch[89] Complete. Time taken: 00:00:01.534\n",
      "2022-11-29 06:27:11,387 - Epoch: 90/100, Iter: 1/5 -- train_loss: 0.0318 \n",
      "2022-11-29 06:27:11,617 - Epoch: 90/100, Iter: 2/5 -- train_loss: 0.0419 \n",
      "2022-11-29 06:27:11,907 - Epoch: 90/100, Iter: 3/5 -- train_loss: 0.1465 \n",
      "2022-11-29 06:27:12,137 - Epoch: 90/100, Iter: 4/5 -- train_loss: 0.0407 \n",
      "2022-11-29 06:27:12,273 - Epoch: 90/100, Iter: 5/5 -- train_loss: 0.4646 \n",
      "2022-11-29 06:27:12,273 - Current learning rate: 0.0001\n",
      "2022-11-29 06:27:12,274 - Engine run resuming from iteration 0, epoch 89 until 90 epochs\n",
      "2022-11-29 06:27:17,835 - Epoch[90] Metrics -- val_accuracy: 0.9876 val_mean_dice: 0.8399 \n",
      "2022-11-29 06:27:17,835 - Key metric: val_mean_dice best value: 0.8505621552467346 at epoch: 85\n",
      "2022-11-29 06:27:17,835 - Epoch[90] Complete. Time taken: 00:00:05.531\n",
      "2022-11-29 06:27:17,835 - Engine run complete. Time taken: 00:00:05.562\n",
      "2022-11-29 06:27:17,874 - Epoch[90] Metrics -- train_accuracy: 0.9611 \n",
      "2022-11-29 06:27:17,874 - Key metric: train_accuracy best value: 0.9748656257750496 at epoch: 75\n",
      "2022-11-29 06:27:17,874 - Epoch[90] Complete. Time taken: 00:00:07.136\n",
      "2022-11-29 06:27:18,521 - Epoch: 91/100, Iter: 1/5 -- train_loss: 0.0467 \n",
      "2022-11-29 06:27:18,750 - Epoch: 91/100, Iter: 2/5 -- train_loss: 0.1809 \n",
      "2022-11-29 06:27:19,000 - Epoch: 91/100, Iter: 3/5 -- train_loss: 0.0239 \n",
      "2022-11-29 06:27:19,271 - Epoch: 91/100, Iter: 4/5 -- train_loss: 0.0441 \n",
      "2022-11-29 06:27:19,407 - Epoch: 91/100, Iter: 5/5 -- train_loss: 0.0347 \n",
      "2022-11-29 06:27:19,407 - Got new best metric of train_accuracy: 0.9757971731172937\n",
      "2022-11-29 06:27:19,407 - Current learning rate: 0.0001\n",
      "2022-11-29 06:27:19,407 - Epoch[91] Metrics -- train_accuracy: 0.9758 \n",
      "2022-11-29 06:27:19,407 - Key metric: train_accuracy best value: 0.9757971731172937 at epoch: 91\n",
      "2022-11-29 06:27:19,407 - Epoch[91] Complete. Time taken: 00:00:01.533\n",
      "2022-11-29 06:27:20,245 - Epoch: 92/100, Iter: 1/5 -- train_loss: 0.0472 \n",
      "2022-11-29 06:27:20,474 - Epoch: 92/100, Iter: 2/5 -- train_loss: 0.1996 \n",
      "2022-11-29 06:27:20,703 - Epoch: 92/100, Iter: 3/5 -- train_loss: 0.0408 \n",
      "2022-11-29 06:27:20,932 - Epoch: 92/100, Iter: 4/5 -- train_loss: 0.0292 \n",
      "2022-11-29 06:27:21,089 - Epoch: 92/100, Iter: 5/5 -- train_loss: 0.0318 \n",
      "2022-11-29 06:27:21,089 - Current learning rate: 0.0001\n",
      "2022-11-29 06:27:21,089 - Epoch[92] Metrics -- train_accuracy: 0.9723 \n",
      "2022-11-29 06:27:21,090 - Key metric: train_accuracy best value: 0.9757971731172937 at epoch: 91\n",
      "2022-11-29 06:27:21,090 - Epoch[92] Complete. Time taken: 00:00:01.682\n",
      "2022-11-29 06:27:21,712 - Epoch: 93/100, Iter: 1/5 -- train_loss: 0.0284 \n",
      "2022-11-29 06:27:21,942 - Epoch: 93/100, Iter: 2/5 -- train_loss: 0.2568 \n",
      "2022-11-29 06:27:22,192 - Epoch: 93/100, Iter: 3/5 -- train_loss: 0.0301 \n",
      "2022-11-29 06:27:22,442 - Epoch: 93/100, Iter: 4/5 -- train_loss: 0.0262 \n",
      "2022-11-29 06:27:22,599 - Epoch: 93/100, Iter: 5/5 -- train_loss: 0.0407 \n",
      "2022-11-29 06:27:22,600 - Got new best metric of train_accuracy: 0.9785277351500496\n",
      "2022-11-29 06:27:22,600 - Current learning rate: 0.0001\n",
      "2022-11-29 06:27:22,600 - Epoch[93] Metrics -- train_accuracy: 0.9785 \n",
      "2022-11-29 06:27:22,600 - Key metric: train_accuracy best value: 0.9785277351500496 at epoch: 93\n",
      "2022-11-29 06:27:22,600 - Epoch[93] Complete. Time taken: 00:00:01.510\n",
      "2022-11-29 06:27:23,287 - Epoch: 94/100, Iter: 1/5 -- train_loss: 0.0326 \n",
      "2022-11-29 06:27:23,516 - Epoch: 94/100, Iter: 2/5 -- train_loss: 0.0340 \n",
      "2022-11-29 06:27:23,745 - Epoch: 94/100, Iter: 3/5 -- train_loss: 0.1961 \n",
      "2022-11-29 06:27:23,996 - Epoch: 94/100, Iter: 4/5 -- train_loss: 0.0392 \n",
      "2022-11-29 06:27:24,154 - Epoch: 94/100, Iter: 5/5 -- train_loss: 0.1229 \n",
      "2022-11-29 06:27:24,154 - Current learning rate: 0.0001\n",
      "2022-11-29 06:27:24,154 - Epoch[94] Metrics -- train_accuracy: 0.9709 \n",
      "2022-11-29 06:27:24,154 - Key metric: train_accuracy best value: 0.9785277351500496 at epoch: 93\n",
      "2022-11-29 06:27:24,154 - Epoch[94] Complete. Time taken: 00:00:01.554\n",
      "2022-11-29 06:27:24,810 - Epoch: 95/100, Iter: 1/5 -- train_loss: 0.1982 \n",
      "2022-11-29 06:27:25,106 - Epoch: 95/100, Iter: 2/5 -- train_loss: 0.0195 \n",
      "2022-11-29 06:27:25,335 - Epoch: 95/100, Iter: 3/5 -- train_loss: 0.0476 \n",
      "2022-11-29 06:27:25,564 - Epoch: 95/100, Iter: 4/5 -- train_loss: 0.0363 \n",
      "2022-11-29 06:27:25,700 - Epoch: 95/100, Iter: 5/5 -- train_loss: 0.0310 \n",
      "2022-11-29 06:27:25,700 - Current learning rate: 0.0001\n",
      "2022-11-29 06:27:25,701 - Engine run resuming from iteration 0, epoch 94 until 95 epochs\n",
      "2022-11-29 06:27:31,239 - Epoch[95] Metrics -- val_accuracy: 0.9876 val_mean_dice: 0.8332 \n",
      "2022-11-29 06:27:31,239 - Key metric: val_mean_dice best value: 0.8505621552467346 at epoch: 85\n",
      "2022-11-29 06:27:31,239 - Epoch[95] Complete. Time taken: 00:00:05.507\n",
      "2022-11-29 06:27:31,239 - Engine run complete. Time taken: 00:00:05.539\n",
      "2022-11-29 06:27:31,294 - Epoch[95] Metrics -- train_accuracy: 0.9742 \n",
      "2022-11-29 06:27:31,294 - Key metric: train_accuracy best value: 0.9785277351500496 at epoch: 93\n",
      "2022-11-29 06:27:31,295 - Epoch[95] Complete. Time taken: 00:00:07.140\n",
      "2022-11-29 06:27:31,981 - Epoch: 96/100, Iter: 1/5 -- train_loss: 0.0303 \n",
      "2022-11-29 06:27:32,210 - Epoch: 96/100, Iter: 2/5 -- train_loss: 0.0374 \n",
      "2022-11-29 06:27:32,462 - Epoch: 96/100, Iter: 3/5 -- train_loss: 0.0216 \n",
      "2022-11-29 06:27:32,692 - Epoch: 96/100, Iter: 4/5 -- train_loss: 0.2095 \n",
      "2022-11-29 06:27:32,849 - Epoch: 96/100, Iter: 5/5 -- train_loss: 0.0454 \n",
      "2022-11-29 06:27:32,850 - Current learning rate: 0.0001\n",
      "2022-11-29 06:27:32,850 - Epoch[96] Metrics -- train_accuracy: 0.9763 \n",
      "2022-11-29 06:27:32,850 - Key metric: train_accuracy best value: 0.9785277351500496 at epoch: 93\n",
      "2022-11-29 06:27:32,850 - Epoch[96] Complete. Time taken: 00:00:01.555\n",
      "2022-11-29 06:27:33,450 - Epoch: 97/100, Iter: 1/5 -- train_loss: 0.0338 \n",
      "2022-11-29 06:27:33,720 - Epoch: 97/100, Iter: 2/5 -- train_loss: 0.2084 \n",
      "2022-11-29 06:27:33,950 - Epoch: 97/100, Iter: 3/5 -- train_loss: 0.0603 \n",
      "2022-11-29 06:27:34,200 - Epoch: 97/100, Iter: 4/5 -- train_loss: 0.0168 \n",
      "2022-11-29 06:27:34,358 - Epoch: 97/100, Iter: 5/5 -- train_loss: 0.0518 \n",
      "2022-11-29 06:27:34,358 - Got new best metric of train_accuracy: 0.9794676557960423\n",
      "2022-11-29 06:27:34,359 - Current learning rate: 0.0001\n",
      "2022-11-29 06:27:34,359 - Epoch[97] Metrics -- train_accuracy: 0.9795 \n",
      "2022-11-29 06:27:34,359 - Key metric: train_accuracy best value: 0.9794676557960423 at epoch: 97\n",
      "2022-11-29 06:27:34,359 - Epoch[97] Complete. Time taken: 00:00:01.509\n",
      "2022-11-29 06:27:35,061 - Epoch: 98/100, Iter: 1/5 -- train_loss: 0.1886 \n",
      "2022-11-29 06:27:35,290 - Epoch: 98/100, Iter: 2/5 -- train_loss: 0.0773 \n",
      "2022-11-29 06:27:35,540 - Epoch: 98/100, Iter: 3/5 -- train_loss: 0.0321 \n",
      "2022-11-29 06:27:35,769 - Epoch: 98/100, Iter: 4/5 -- train_loss: 0.0201 \n",
      "2022-11-29 06:27:35,927 - Epoch: 98/100, Iter: 5/5 -- train_loss: 0.0446 \n",
      "2022-11-29 06:27:35,928 - Current learning rate: 0.0001\n",
      "2022-11-29 06:27:35,928 - Epoch[98] Metrics -- train_accuracy: 0.9733 \n",
      "2022-11-29 06:27:35,928 - Key metric: train_accuracy best value: 0.9794676557960423 at epoch: 97\n",
      "2022-11-29 06:27:35,928 - Epoch[98] Complete. Time taken: 00:00:01.569\n",
      "2022-11-29 06:27:36,640 - Epoch: 99/100, Iter: 1/5 -- train_loss: 0.0439 \n",
      "2022-11-29 06:27:36,869 - Epoch: 99/100, Iter: 2/5 -- train_loss: 0.0288 \n",
      "2022-11-29 06:27:37,138 - Epoch: 99/100, Iter: 3/5 -- train_loss: 0.0179 \n",
      "2022-11-29 06:27:37,367 - Epoch: 99/100, Iter: 4/5 -- train_loss: 0.0442 \n",
      "2022-11-29 06:27:37,504 - Epoch: 99/100, Iter: 5/5 -- train_loss: 0.4176 \n",
      "2022-11-29 06:27:37,504 - Current learning rate: 0.0001\n",
      "2022-11-29 06:27:37,504 - Epoch[99] Metrics -- train_accuracy: 0.9701 \n",
      "2022-11-29 06:27:37,504 - Key metric: train_accuracy best value: 0.9794676557960423 at epoch: 97\n",
      "2022-11-29 06:27:37,504 - Epoch[99] Complete. Time taken: 00:00:01.576\n",
      "2022-11-29 06:27:38,226 - Epoch: 100/100, Iter: 1/5 -- train_loss: 0.0516 \n",
      "2022-11-29 06:27:38,513 - Epoch: 100/100, Iter: 2/5 -- train_loss: 0.0289 \n",
      "2022-11-29 06:27:38,743 - Epoch: 100/100, Iter: 3/5 -- train_loss: 0.0333 \n",
      "2022-11-29 06:27:38,972 - Epoch: 100/100, Iter: 4/5 -- train_loss: 0.0517 \n",
      "2022-11-29 06:27:39,109 - Epoch: 100/100, Iter: 5/5 -- train_loss: 0.4168 \n",
      "2022-11-29 06:27:39,110 - Current learning rate: 0.0001\n",
      "2022-11-29 06:27:39,110 - Engine run resuming from iteration 0, epoch 99 until 100 epochs\n",
      "2022-11-29 06:27:44,649 - Got new best metric of val_mean_dice: 0.8709855675697327\n",
      "2022-11-29 06:27:44,650 - Epoch[100] Metrics -- val_accuracy: 0.9915 val_mean_dice: 0.8710 \n",
      "2022-11-29 06:27:44,650 - Key metric: val_mean_dice best value: 0.8709855675697327 at epoch: 100\n",
      "2022-11-29 06:27:44,722 - Epoch[100] Complete. Time taken: 00:00:05.582\n",
      "2022-11-29 06:27:44,722 - Engine run complete. Time taken: 00:00:05.613\n",
      "2022-11-29 06:27:44,776 - Epoch[100] Metrics -- train_accuracy: 0.9673 \n",
      "2022-11-29 06:27:44,776 - Key metric: train_accuracy best value: 0.9794676557960423 at epoch: 97\n",
      "2022-11-29 06:27:44,776 - Epoch[100] Complete. Time taken: 00:00:07.272\n",
      "2022-11-29 06:27:44,962 - Train completed, saved final checkpoint: /workspace/monai-bundle-demo-covid19-lung-segmentation/models/checkpoint_final_iteration=500.pt\n",
      "2022-11-29 06:27:44,962 - Engine run complete. Time taken: 00:04:35.987\n",
      "[null, null, null]\n"
     ]
    }
   ],
   "source": [
    "!python -m monai.bundle run training --config_file $APP_ROOT/configs/train.json"
   ]
  },
  {
   "cell_type": "code",
   "execution_count": null,
   "id": "3eb4b7dc",
   "metadata": {},
   "outputs": [],
   "source": []
  }
 ],
 "metadata": {
  "kernelspec": {
   "display_name": "Python 3 (ipykernel)",
   "language": "python",
   "name": "python3"
  },
  "language_info": {
   "codemirror_mode": {
    "name": "ipython",
    "version": 3
   },
   "file_extension": ".py",
   "mimetype": "text/x-python",
   "name": "python",
   "nbconvert_exporter": "python",
   "pygments_lexer": "ipython3",
   "version": "3.8.12"
  }
 },
 "nbformat": 4,
 "nbformat_minor": 5
}
